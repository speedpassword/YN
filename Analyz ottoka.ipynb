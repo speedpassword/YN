{
 "cells": [
  {
   "cell_type": "markdown",
   "metadata": {},
   "source": [
    "# Проект \"Анализ оттока клиентов\""
   ]
  },
  {
   "cell_type": "markdown",
   "metadata": {},
   "source": [
    "В проекте представлены данные о клиентах банка \"Метанпром\". Банк располагается в Ярославле и областных городах: Ростов Великий и Рыбинск. Маркетинговый отдел банка хочет узнать, какие клиенты склонны у ходу из банка, а какие нет."
   ]
  },
  {
   "cell_type": "markdown",
   "metadata": {},
   "source": [
    "Основные этапы проекта:  \n",
    "* Предобработка данных\n",
    "* Исследовательский анализ данных\n",
    "* Проверка гипотезы разницы дохода двух групп\n",
    "* Проверка гипотезы равенства баланса двух групп\n",
    "* Сегментация клиентов\n",
    "* Выводы и рекомендации"
   ]
  },
  {
   "cell_type": "markdown",
   "metadata": {},
   "source": [
    "# Цель проекта:\n",
    "    \n",
    "* Выделить сегменты клиентов банка, склонных в уходу;\n",
    "* Сформировать рекмендации для выделенных сегментов."
   ]
  },
  {
   "cell_type": "markdown",
   "metadata": {},
   "source": [
    "## Предобработка данных"
   ]
  },
  {
   "cell_type": "markdown",
   "metadata": {},
   "source": [
    "Загружаем библиотеки и данные:"
   ]
  },
  {
   "cell_type": "code",
   "execution_count": 2,
   "metadata": {},
   "outputs": [
    {
     "name": "stdout",
     "output_type": "stream",
     "text": [
      "Collecting phik\n",
      "  Downloading phik-0.12.3-cp39-cp39-manylinux_2_17_x86_64.manylinux2014_x86_64.whl (679 kB)\n",
      "\u001b[K     |████████████████████████████████| 679 kB 1.2 MB/s eta 0:00:01\n",
      "\u001b[?25hRequirement already satisfied: joblib>=0.14.1 in /opt/conda/lib/python3.9/site-packages (from phik) (1.1.0)\n",
      "Requirement already satisfied: numpy>=1.18.0 in /opt/conda/lib/python3.9/site-packages (from phik) (1.21.1)\n",
      "Requirement already satisfied: scipy>=1.5.2 in /opt/conda/lib/python3.9/site-packages (from phik) (1.9.1)\n",
      "Requirement already satisfied: pandas>=0.25.1 in /opt/conda/lib/python3.9/site-packages (from phik) (1.2.4)\n",
      "Requirement already satisfied: matplotlib>=2.2.3 in /opt/conda/lib/python3.9/site-packages (from phik) (3.3.4)\n",
      "Requirement already satisfied: pyparsing!=2.0.4,!=2.1.2,!=2.1.6,>=2.0.3 in /opt/conda/lib/python3.9/site-packages (from matplotlib>=2.2.3->phik) (2.4.7)\n",
      "Requirement already satisfied: python-dateutil>=2.1 in /opt/conda/lib/python3.9/site-packages (from matplotlib>=2.2.3->phik) (2.8.1)\n",
      "Requirement already satisfied: kiwisolver>=1.0.1 in /opt/conda/lib/python3.9/site-packages (from matplotlib>=2.2.3->phik) (1.4.4)\n",
      "Requirement already satisfied: cycler>=0.10 in /opt/conda/lib/python3.9/site-packages (from matplotlib>=2.2.3->phik) (0.11.0)\n",
      "Requirement already satisfied: pillow>=6.2.0 in /opt/conda/lib/python3.9/site-packages (from matplotlib>=2.2.3->phik) (8.4.0)\n",
      "Requirement already satisfied: pytz>=2017.3 in /opt/conda/lib/python3.9/site-packages (from pandas>=0.25.1->phik) (2021.1)\n",
      "Requirement already satisfied: six>=1.5 in /opt/conda/lib/python3.9/site-packages (from python-dateutil>=2.1->matplotlib>=2.2.3->phik) (1.16.0)\n",
      "Installing collected packages: phik\n",
      "Successfully installed phik-0.12.3\n",
      "Note: you may need to restart the kernel to use updated packages.\n"
     ]
    }
   ],
   "source": [
    "pip install phik"
   ]
  },
  {
   "cell_type": "code",
   "execution_count": 3,
   "metadata": {},
   "outputs": [],
   "source": [
    "import pandas as pd\n",
    "import matplotlib.pyplot as plt\n",
    "import numpy as np\n",
    "import scipy.stats as st\n",
    "import seaborn as sns\n",
    "import warnings\n",
    "warnings.filterwarnings('ignore')\n",
    "sns.set_theme()\n",
    "pd.options.display.max_colwidth = 150\n",
    "import phik as p"
   ]
  },
  {
   "cell_type": "code",
   "execution_count": 4,
   "metadata": {},
   "outputs": [
    {
     "data": {
      "text/html": [
       "<div>\n",
       "<style scoped>\n",
       "    .dataframe tbody tr th:only-of-type {\n",
       "        vertical-align: middle;\n",
       "    }\n",
       "\n",
       "    .dataframe tbody tr th {\n",
       "        vertical-align: top;\n",
       "    }\n",
       "\n",
       "    .dataframe thead th {\n",
       "        text-align: right;\n",
       "    }\n",
       "</style>\n",
       "<table border=\"1\" class=\"dataframe\">\n",
       "  <thead>\n",
       "    <tr style=\"text-align: right;\">\n",
       "      <th></th>\n",
       "      <th>USERID</th>\n",
       "      <th>score</th>\n",
       "      <th>city</th>\n",
       "      <th>gender</th>\n",
       "      <th>age</th>\n",
       "      <th>equity</th>\n",
       "      <th>balance</th>\n",
       "      <th>products</th>\n",
       "      <th>credit_card</th>\n",
       "      <th>last_activity</th>\n",
       "      <th>EST_SALARY</th>\n",
       "      <th>churn</th>\n",
       "    </tr>\n",
       "  </thead>\n",
       "  <tbody>\n",
       "    <tr>\n",
       "      <th>0</th>\n",
       "      <td>183012</td>\n",
       "      <td>850.0</td>\n",
       "      <td>Рыбинск</td>\n",
       "      <td>Ж</td>\n",
       "      <td>25.0</td>\n",
       "      <td>1</td>\n",
       "      <td>59214.82</td>\n",
       "      <td>2</td>\n",
       "      <td>0</td>\n",
       "      <td>1</td>\n",
       "      <td>75719.14</td>\n",
       "      <td>1</td>\n",
       "    </tr>\n",
       "    <tr>\n",
       "      <th>1</th>\n",
       "      <td>146556</td>\n",
       "      <td>861.0</td>\n",
       "      <td>Рыбинск</td>\n",
       "      <td>Ж</td>\n",
       "      <td>37.0</td>\n",
       "      <td>5</td>\n",
       "      <td>850594.33</td>\n",
       "      <td>3</td>\n",
       "      <td>1</td>\n",
       "      <td>0</td>\n",
       "      <td>86621.77</td>\n",
       "      <td>0</td>\n",
       "    </tr>\n",
       "    <tr>\n",
       "      <th>2</th>\n",
       "      <td>120722</td>\n",
       "      <td>892.0</td>\n",
       "      <td>Рыбинск</td>\n",
       "      <td>Ж</td>\n",
       "      <td>30.0</td>\n",
       "      <td>0</td>\n",
       "      <td>NaN</td>\n",
       "      <td>1</td>\n",
       "      <td>1</td>\n",
       "      <td>1</td>\n",
       "      <td>107683.34</td>\n",
       "      <td>0</td>\n",
       "    </tr>\n",
       "    <tr>\n",
       "      <th>3</th>\n",
       "      <td>225363</td>\n",
       "      <td>866.0</td>\n",
       "      <td>Ярославль</td>\n",
       "      <td>Ж</td>\n",
       "      <td>51.0</td>\n",
       "      <td>5</td>\n",
       "      <td>1524746.26</td>\n",
       "      <td>2</td>\n",
       "      <td>0</td>\n",
       "      <td>1</td>\n",
       "      <td>174423.53</td>\n",
       "      <td>1</td>\n",
       "    </tr>\n",
       "    <tr>\n",
       "      <th>4</th>\n",
       "      <td>157978</td>\n",
       "      <td>730.0</td>\n",
       "      <td>Ярославль</td>\n",
       "      <td>М</td>\n",
       "      <td>34.0</td>\n",
       "      <td>5</td>\n",
       "      <td>174.00</td>\n",
       "      <td>1</td>\n",
       "      <td>1</td>\n",
       "      <td>0</td>\n",
       "      <td>67353.16</td>\n",
       "      <td>1</td>\n",
       "    </tr>\n",
       "  </tbody>\n",
       "</table>\n",
       "</div>"
      ],
      "text/plain": [
       "   USERID  score       city gender   age  equity     balance  products  \\\n",
       "0  183012  850.0    Рыбинск      Ж  25.0       1    59214.82         2   \n",
       "1  146556  861.0    Рыбинск      Ж  37.0       5   850594.33         3   \n",
       "2  120722  892.0    Рыбинск      Ж  30.0       0         NaN         1   \n",
       "3  225363  866.0  Ярославль      Ж  51.0       5  1524746.26         2   \n",
       "4  157978  730.0  Ярославль      М  34.0       5      174.00         1   \n",
       "\n",
       "   credit_card  last_activity  EST_SALARY  churn  \n",
       "0            0              1    75719.14      1  \n",
       "1            1              0    86621.77      0  \n",
       "2            1              1   107683.34      0  \n",
       "3            0              1   174423.53      1  \n",
       "4            1              0    67353.16      1  "
      ]
     },
     "execution_count": 4,
     "metadata": {},
     "output_type": "execute_result"
    }
   ],
   "source": [
    "df = pd.read_csv('https://code.s3.yandex.net/datasets//bank_scrooge.csv')\n",
    "df.head()"
   ]
  },
  {
   "cell_type": "code",
   "execution_count": 5,
   "metadata": {},
   "outputs": [
    {
     "name": "stdout",
     "output_type": "stream",
     "text": [
      "<class 'pandas.core.frame.DataFrame'>\n",
      "RangeIndex: 10000 entries, 0 to 9999\n",
      "Data columns (total 12 columns):\n",
      " #   Column         Non-Null Count  Dtype  \n",
      "---  ------         --------------  -----  \n",
      " 0   USERID         10000 non-null  int64  \n",
      " 1   score          10000 non-null  float64\n",
      " 2   city           10000 non-null  object \n",
      " 3   gender         10000 non-null  object \n",
      " 4   age            9974 non-null   float64\n",
      " 5   equity         10000 non-null  int64  \n",
      " 6   balance        7705 non-null   float64\n",
      " 7   products       10000 non-null  int64  \n",
      " 8   credit_card    10000 non-null  int64  \n",
      " 9   last_activity  10000 non-null  int64  \n",
      " 10  EST_SALARY     10000 non-null  float64\n",
      " 11  churn          10000 non-null  int64  \n",
      "dtypes: float64(4), int64(6), object(2)\n",
      "memory usage: 937.6+ KB\n"
     ]
    }
   ],
   "source": [
    "df.info()"
   ]
  },
  {
   "cell_type": "code",
   "execution_count": 6,
   "metadata": {
    "scrolled": true
   },
   "outputs": [
    {
     "data": {
      "text/html": [
       "<div>\n",
       "<style scoped>\n",
       "    .dataframe tbody tr th:only-of-type {\n",
       "        vertical-align: middle;\n",
       "    }\n",
       "\n",
       "    .dataframe tbody tr th {\n",
       "        vertical-align: top;\n",
       "    }\n",
       "\n",
       "    .dataframe thead th {\n",
       "        text-align: right;\n",
       "    }\n",
       "</style>\n",
       "<table border=\"1\" class=\"dataframe\">\n",
       "  <thead>\n",
       "    <tr style=\"text-align: right;\">\n",
       "      <th></th>\n",
       "      <th>count</th>\n",
       "      <th>mean</th>\n",
       "      <th>std</th>\n",
       "      <th>min</th>\n",
       "      <th>25%</th>\n",
       "      <th>50%</th>\n",
       "      <th>75%</th>\n",
       "      <th>max</th>\n",
       "    </tr>\n",
       "  </thead>\n",
       "  <tbody>\n",
       "    <tr>\n",
       "      <th>USERID</th>\n",
       "      <td>10000.0</td>\n",
       "      <td>171814.712600</td>\n",
       "      <td>3.370824e+04</td>\n",
       "      <td>94561.0</td>\n",
       "      <td>142810.25</td>\n",
       "      <td>172728.000</td>\n",
       "      <td>201261.7500</td>\n",
       "      <td>2.291450e+05</td>\n",
       "    </tr>\n",
       "    <tr>\n",
       "      <th>score</th>\n",
       "      <td>10000.0</td>\n",
       "      <td>848.699400</td>\n",
       "      <td>6.544852e+01</td>\n",
       "      <td>642.0</td>\n",
       "      <td>802.00</td>\n",
       "      <td>853.000</td>\n",
       "      <td>900.0000</td>\n",
       "      <td>1.000000e+03</td>\n",
       "    </tr>\n",
       "    <tr>\n",
       "      <th>age</th>\n",
       "      <td>9974.0</td>\n",
       "      <td>42.734409</td>\n",
       "      <td>1.217997e+01</td>\n",
       "      <td>18.0</td>\n",
       "      <td>33.00</td>\n",
       "      <td>40.000</td>\n",
       "      <td>51.0000</td>\n",
       "      <td>8.600000e+01</td>\n",
       "    </tr>\n",
       "    <tr>\n",
       "      <th>equity</th>\n",
       "      <td>10000.0</td>\n",
       "      <td>2.627600</td>\n",
       "      <td>1.980836e+00</td>\n",
       "      <td>0.0</td>\n",
       "      <td>0.00</td>\n",
       "      <td>3.000</td>\n",
       "      <td>4.0000</td>\n",
       "      <td>9.000000e+00</td>\n",
       "    </tr>\n",
       "    <tr>\n",
       "      <th>balance</th>\n",
       "      <td>7705.0</td>\n",
       "      <td>827794.306510</td>\n",
       "      <td>1.980614e+06</td>\n",
       "      <td>0.0</td>\n",
       "      <td>295554.16</td>\n",
       "      <td>524272.200</td>\n",
       "      <td>980705.8500</td>\n",
       "      <td>1.191136e+08</td>\n",
       "    </tr>\n",
       "    <tr>\n",
       "      <th>products</th>\n",
       "      <td>10000.0</td>\n",
       "      <td>1.870100</td>\n",
       "      <td>7.926467e-01</td>\n",
       "      <td>0.0</td>\n",
       "      <td>1.00</td>\n",
       "      <td>2.000</td>\n",
       "      <td>2.0000</td>\n",
       "      <td>5.000000e+00</td>\n",
       "    </tr>\n",
       "    <tr>\n",
       "      <th>credit_card</th>\n",
       "      <td>10000.0</td>\n",
       "      <td>0.680400</td>\n",
       "      <td>4.663449e-01</td>\n",
       "      <td>0.0</td>\n",
       "      <td>0.00</td>\n",
       "      <td>1.000</td>\n",
       "      <td>1.0000</td>\n",
       "      <td>1.000000e+00</td>\n",
       "    </tr>\n",
       "    <tr>\n",
       "      <th>last_activity</th>\n",
       "      <td>10000.0</td>\n",
       "      <td>0.523500</td>\n",
       "      <td>4.994724e-01</td>\n",
       "      <td>0.0</td>\n",
       "      <td>0.00</td>\n",
       "      <td>1.000</td>\n",
       "      <td>1.0000</td>\n",
       "      <td>1.000000e+00</td>\n",
       "    </tr>\n",
       "    <tr>\n",
       "      <th>EST_SALARY</th>\n",
       "      <td>10000.0</td>\n",
       "      <td>147866.885544</td>\n",
       "      <td>1.393885e+05</td>\n",
       "      <td>2546.3</td>\n",
       "      <td>75251.90</td>\n",
       "      <td>119658.105</td>\n",
       "      <td>174500.5425</td>\n",
       "      <td>1.395064e+06</td>\n",
       "    </tr>\n",
       "    <tr>\n",
       "      <th>churn</th>\n",
       "      <td>10000.0</td>\n",
       "      <td>0.182000</td>\n",
       "      <td>3.858638e-01</td>\n",
       "      <td>0.0</td>\n",
       "      <td>0.00</td>\n",
       "      <td>0.000</td>\n",
       "      <td>0.0000</td>\n",
       "      <td>1.000000e+00</td>\n",
       "    </tr>\n",
       "  </tbody>\n",
       "</table>\n",
       "</div>"
      ],
      "text/plain": [
       "                 count           mean           std      min        25%  \\\n",
       "USERID         10000.0  171814.712600  3.370824e+04  94561.0  142810.25   \n",
       "score          10000.0     848.699400  6.544852e+01    642.0     802.00   \n",
       "age             9974.0      42.734409  1.217997e+01     18.0      33.00   \n",
       "equity         10000.0       2.627600  1.980836e+00      0.0       0.00   \n",
       "balance         7705.0  827794.306510  1.980614e+06      0.0  295554.16   \n",
       "products       10000.0       1.870100  7.926467e-01      0.0       1.00   \n",
       "credit_card    10000.0       0.680400  4.663449e-01      0.0       0.00   \n",
       "last_activity  10000.0       0.523500  4.994724e-01      0.0       0.00   \n",
       "EST_SALARY     10000.0  147866.885544  1.393885e+05   2546.3   75251.90   \n",
       "churn          10000.0       0.182000  3.858638e-01      0.0       0.00   \n",
       "\n",
       "                      50%          75%           max  \n",
       "USERID         172728.000  201261.7500  2.291450e+05  \n",
       "score             853.000     900.0000  1.000000e+03  \n",
       "age                40.000      51.0000  8.600000e+01  \n",
       "equity              3.000       4.0000  9.000000e+00  \n",
       "balance        524272.200  980705.8500  1.191136e+08  \n",
       "products            2.000       2.0000  5.000000e+00  \n",
       "credit_card         1.000       1.0000  1.000000e+00  \n",
       "last_activity       1.000       1.0000  1.000000e+00  \n",
       "EST_SALARY     119658.105  174500.5425  1.395064e+06  \n",
       "churn               0.000       0.0000  1.000000e+00  "
      ]
     },
     "execution_count": 6,
     "metadata": {},
     "output_type": "execute_result"
    }
   ],
   "source": [
    "df.describe().T"
   ]
  },
  {
   "cell_type": "code",
   "execution_count": 7,
   "metadata": {},
   "outputs": [
    {
     "data": {
      "text/plain": [
       "1820"
      ]
     },
     "execution_count": 7,
     "metadata": {},
     "output_type": "execute_result"
    }
   ],
   "source": [
    "len(df[df['churn']==1])"
   ]
  },
  {
   "cell_type": "markdown",
   "metadata": {},
   "source": [
    "Посмотрю, зависят ли пропуски от остальных данных."
   ]
  },
  {
   "cell_type": "code",
   "execution_count": 8,
   "metadata": {},
   "outputs": [],
   "source": [
    "df_p = df.copy()\n",
    "def propuski(row):\n",
    "    if row['age'] >0:\n",
    "        return 1\n",
    "    else:\n",
    "        return 0\n",
    "    \n",
    "def propuski1(row):\n",
    "    if row['balance'] >=0:\n",
    "        return 1\n",
    "    else:\n",
    "        return 0\n",
    "\n",
    "df_p['priznak_age'] = df_p.apply(propuski, axis=1)\n",
    "df_p['priznak_balance'] = df_p.apply(propuski1, axis=1)"
   ]
  },
  {
   "cell_type": "code",
   "execution_count": 9,
   "metadata": {
    "scrolled": true
   },
   "outputs": [
    {
     "data": {
      "text/html": [
       "<div>\n",
       "<style scoped>\n",
       "    .dataframe tbody tr th:only-of-type {\n",
       "        vertical-align: middle;\n",
       "    }\n",
       "\n",
       "    .dataframe tbody tr th {\n",
       "        vertical-align: top;\n",
       "    }\n",
       "\n",
       "    .dataframe thead th {\n",
       "        text-align: right;\n",
       "    }\n",
       "</style>\n",
       "<table border=\"1\" class=\"dataframe\">\n",
       "  <thead>\n",
       "    <tr style=\"text-align: right;\">\n",
       "      <th></th>\n",
       "      <th>score</th>\n",
       "      <th>equity</th>\n",
       "      <th>products</th>\n",
       "      <th>credit_card</th>\n",
       "      <th>last_activity</th>\n",
       "      <th>EST_SALARY</th>\n",
       "      <th>churn</th>\n",
       "    </tr>\n",
       "    <tr>\n",
       "      <th>priznak_age</th>\n",
       "      <th></th>\n",
       "      <th></th>\n",
       "      <th></th>\n",
       "      <th></th>\n",
       "      <th></th>\n",
       "      <th></th>\n",
       "      <th></th>\n",
       "    </tr>\n",
       "  </thead>\n",
       "  <tbody>\n",
       "    <tr>\n",
       "      <th>0</th>\n",
       "      <td>855.153846</td>\n",
       "      <td>1.384615</td>\n",
       "      <td>1.346154</td>\n",
       "      <td>0.769231</td>\n",
       "      <td>0.769231</td>\n",
       "      <td>178585.199231</td>\n",
       "      <td>0.038462</td>\n",
       "    </tr>\n",
       "    <tr>\n",
       "      <th>1</th>\n",
       "      <td>848.682575</td>\n",
       "      <td>2.630840</td>\n",
       "      <td>1.871466</td>\n",
       "      <td>0.680168</td>\n",
       "      <td>0.522859</td>\n",
       "      <td>147786.809731</td>\n",
       "      <td>0.182374</td>\n",
       "    </tr>\n",
       "  </tbody>\n",
       "</table>\n",
       "</div>"
      ],
      "text/plain": [
       "                  score    equity  products  credit_card  last_activity  \\\n",
       "priznak_age                                                               \n",
       "0            855.153846  1.384615  1.346154     0.769231       0.769231   \n",
       "1            848.682575  2.630840  1.871466     0.680168       0.522859   \n",
       "\n",
       "                EST_SALARY     churn  \n",
       "priznak_age                           \n",
       "0            178585.199231  0.038462  \n",
       "1            147786.809731  0.182374  "
      ]
     },
     "execution_count": 9,
     "metadata": {},
     "output_type": "execute_result"
    }
   ],
   "source": [
    "df_p.groupby('priznak_age')[['score','equity','products','credit_card','last_activity','EST_SALARY', 'churn']].mean()"
   ]
  },
  {
   "cell_type": "code",
   "execution_count": 10,
   "metadata": {
    "scrolled": true
   },
   "outputs": [
    {
     "data": {
      "text/html": [
       "<div>\n",
       "<style scoped>\n",
       "    .dataframe tbody tr th:only-of-type {\n",
       "        vertical-align: middle;\n",
       "    }\n",
       "\n",
       "    .dataframe tbody tr th {\n",
       "        vertical-align: top;\n",
       "    }\n",
       "\n",
       "    .dataframe thead th {\n",
       "        text-align: right;\n",
       "    }\n",
       "</style>\n",
       "<table border=\"1\" class=\"dataframe\">\n",
       "  <thead>\n",
       "    <tr style=\"text-align: right;\">\n",
       "      <th></th>\n",
       "      <th>score</th>\n",
       "      <th>equity</th>\n",
       "      <th>products</th>\n",
       "      <th>credit_card</th>\n",
       "      <th>last_activity</th>\n",
       "      <th>EST_SALARY</th>\n",
       "      <th>churn</th>\n",
       "    </tr>\n",
       "    <tr>\n",
       "      <th>priznak_balance</th>\n",
       "      <th></th>\n",
       "      <th></th>\n",
       "      <th></th>\n",
       "      <th></th>\n",
       "      <th></th>\n",
       "      <th></th>\n",
       "      <th></th>\n",
       "    </tr>\n",
       "  </thead>\n",
       "  <tbody>\n",
       "    <tr>\n",
       "      <th>0</th>\n",
       "      <td>865.35207</td>\n",
       "      <td>0.050980</td>\n",
       "      <td>1.162092</td>\n",
       "      <td>0.815686</td>\n",
       "      <td>0.549455</td>\n",
       "      <td>226310.208654</td>\n",
       "      <td>0.005664</td>\n",
       "    </tr>\n",
       "    <tr>\n",
       "      <th>1</th>\n",
       "      <td>843.73926</td>\n",
       "      <td>3.395068</td>\n",
       "      <td>2.080986</td>\n",
       "      <td>0.640104</td>\n",
       "      <td>0.515769</td>\n",
       "      <td>124501.872366</td>\n",
       "      <td>0.234523</td>\n",
       "    </tr>\n",
       "  </tbody>\n",
       "</table>\n",
       "</div>"
      ],
      "text/plain": [
       "                     score    equity  products  credit_card  last_activity  \\\n",
       "priznak_balance                                                              \n",
       "0                865.35207  0.050980  1.162092     0.815686       0.549455   \n",
       "1                843.73926  3.395068  2.080986     0.640104       0.515769   \n",
       "\n",
       "                    EST_SALARY     churn  \n",
       "priznak_balance                           \n",
       "0                226310.208654  0.005664  \n",
       "1                124501.872366  0.234523  "
      ]
     },
     "execution_count": 10,
     "metadata": {},
     "output_type": "execute_result"
    }
   ],
   "source": [
    "df_p.groupby('priznak_balance')[['score','equity','products','credit_card','last_activity','EST_SALARY', 'churn']].mean()"
   ]
  },
  {
   "cell_type": "markdown",
   "metadata": {},
   "source": [
    "В выгрузке 10 000 клиентов. Из них 1820 отточных клиентов.  \n",
    "В полях age и balance есть пропуски.  \n",
    "\n",
    "Пропусков в поле age слишком мало - можно просто поставить заглушку для удобства.  \n",
    "Пропусков в поле balance значительно больше (почти 23% датасета). Судя по группировке выше, клиенты с пропуском баланса имеют значительно более низкий уровень оттока - меньше 1% против 18% в среднем. Также сильно отличаются средняя оценочная зп и средний балл оценки недвижимости. Судя по всему equity по клиентам без баланса почти не оценивался (возможно процесс онбординга в какой-то момент не оценивает недвижимость). В купе с превышением по зп такие клиенты могут являться вкладчиками - остатков на счету у них нет, недвижимость не оценивается, зарплата выше.\n",
    "\n",
    "Удалять такие пропуски нельзя. Возможно nan имеют клиенты без текущего счёта (например, клиенты с кредиткой, ипотекой, рассрочкой и тд)."
   ]
  },
  {
   "cell_type": "code",
   "execution_count": 11,
   "metadata": {},
   "outputs": [],
   "source": [
    "df['age'] = df['age'].fillna(1)"
   ]
  },
  {
   "cell_type": "code",
   "execution_count": 12,
   "metadata": {},
   "outputs": [],
   "source": [
    "df = df.astype({'age':'int'})"
   ]
  },
  {
   "cell_type": "markdown",
   "metadata": {},
   "source": [
    "Переименую столбцы."
   ]
  },
  {
   "cell_type": "code",
   "execution_count": 13,
   "metadata": {},
   "outputs": [
    {
     "data": {
      "text/html": [
       "<div>\n",
       "<style scoped>\n",
       "    .dataframe tbody tr th:only-of-type {\n",
       "        vertical-align: middle;\n",
       "    }\n",
       "\n",
       "    .dataframe tbody tr th {\n",
       "        vertical-align: top;\n",
       "    }\n",
       "\n",
       "    .dataframe thead th {\n",
       "        text-align: right;\n",
       "    }\n",
       "</style>\n",
       "<table border=\"1\" class=\"dataframe\">\n",
       "  <thead>\n",
       "    <tr style=\"text-align: right;\">\n",
       "      <th></th>\n",
       "      <th>user_id</th>\n",
       "      <th>score</th>\n",
       "      <th>city</th>\n",
       "      <th>gender</th>\n",
       "      <th>age</th>\n",
       "      <th>equity</th>\n",
       "      <th>balance</th>\n",
       "      <th>products</th>\n",
       "      <th>credit_card</th>\n",
       "      <th>last_activity</th>\n",
       "      <th>salary</th>\n",
       "      <th>churn</th>\n",
       "    </tr>\n",
       "  </thead>\n",
       "  <tbody>\n",
       "    <tr>\n",
       "      <th>0</th>\n",
       "      <td>183012</td>\n",
       "      <td>850.0</td>\n",
       "      <td>Рыбинск</td>\n",
       "      <td>Ж</td>\n",
       "      <td>25</td>\n",
       "      <td>1</td>\n",
       "      <td>59214.82</td>\n",
       "      <td>2</td>\n",
       "      <td>0</td>\n",
       "      <td>1</td>\n",
       "      <td>75719.14</td>\n",
       "      <td>1</td>\n",
       "    </tr>\n",
       "    <tr>\n",
       "      <th>1</th>\n",
       "      <td>146556</td>\n",
       "      <td>861.0</td>\n",
       "      <td>Рыбинск</td>\n",
       "      <td>Ж</td>\n",
       "      <td>37</td>\n",
       "      <td>5</td>\n",
       "      <td>850594.33</td>\n",
       "      <td>3</td>\n",
       "      <td>1</td>\n",
       "      <td>0</td>\n",
       "      <td>86621.77</td>\n",
       "      <td>0</td>\n",
       "    </tr>\n",
       "    <tr>\n",
       "      <th>2</th>\n",
       "      <td>120722</td>\n",
       "      <td>892.0</td>\n",
       "      <td>Рыбинск</td>\n",
       "      <td>Ж</td>\n",
       "      <td>30</td>\n",
       "      <td>0</td>\n",
       "      <td>NaN</td>\n",
       "      <td>1</td>\n",
       "      <td>1</td>\n",
       "      <td>1</td>\n",
       "      <td>107683.34</td>\n",
       "      <td>0</td>\n",
       "    </tr>\n",
       "    <tr>\n",
       "      <th>3</th>\n",
       "      <td>225363</td>\n",
       "      <td>866.0</td>\n",
       "      <td>Ярославль</td>\n",
       "      <td>Ж</td>\n",
       "      <td>51</td>\n",
       "      <td>5</td>\n",
       "      <td>1524746.26</td>\n",
       "      <td>2</td>\n",
       "      <td>0</td>\n",
       "      <td>1</td>\n",
       "      <td>174423.53</td>\n",
       "      <td>1</td>\n",
       "    </tr>\n",
       "    <tr>\n",
       "      <th>4</th>\n",
       "      <td>157978</td>\n",
       "      <td>730.0</td>\n",
       "      <td>Ярославль</td>\n",
       "      <td>М</td>\n",
       "      <td>34</td>\n",
       "      <td>5</td>\n",
       "      <td>174.00</td>\n",
       "      <td>1</td>\n",
       "      <td>1</td>\n",
       "      <td>0</td>\n",
       "      <td>67353.16</td>\n",
       "      <td>1</td>\n",
       "    </tr>\n",
       "  </tbody>\n",
       "</table>\n",
       "</div>"
      ],
      "text/plain": [
       "   user_id  score       city gender  age  equity     balance  products  \\\n",
       "0   183012  850.0    Рыбинск      Ж   25       1    59214.82         2   \n",
       "1   146556  861.0    Рыбинск      Ж   37       5   850594.33         3   \n",
       "2   120722  892.0    Рыбинск      Ж   30       0         NaN         1   \n",
       "3   225363  866.0  Ярославль      Ж   51       5  1524746.26         2   \n",
       "4   157978  730.0  Ярославль      М   34       5      174.00         1   \n",
       "\n",
       "   credit_card  last_activity     salary  churn  \n",
       "0            0              1   75719.14      1  \n",
       "1            1              0   86621.77      0  \n",
       "2            1              1  107683.34      0  \n",
       "3            0              1  174423.53      1  \n",
       "4            1              0   67353.16      1  "
      ]
     },
     "execution_count": 13,
     "metadata": {},
     "output_type": "execute_result"
    }
   ],
   "source": [
    "df = df.rename(columns={'USERID':'user_id', 'EST_SALARY':'salary'})\n",
    "df.head()"
   ]
  },
  {
   "cell_type": "markdown",
   "metadata": {},
   "source": [
    "Пробегусь по столбцам."
   ]
  },
  {
   "cell_type": "code",
   "execution_count": 14,
   "metadata": {
    "scrolled": false
   },
   "outputs": [
    {
     "data": {
      "text/plain": [
       "Ярославль    5888\n",
       "Рыбинск      2695\n",
       "Ростов       1417\n",
       "Name: city, dtype: int64"
      ]
     },
     "execution_count": 14,
     "metadata": {},
     "output_type": "execute_result"
    }
   ],
   "source": [
    "df['city'].value_counts()"
   ]
  },
  {
   "cell_type": "markdown",
   "metadata": {},
   "source": [
    "Заменю названия городов на 1,2,3 для использования этих данных в расчёте корреляции."
   ]
  },
  {
   "cell_type": "code",
   "execution_count": 15,
   "metadata": {},
   "outputs": [],
   "source": [
    "df['city_copy'] = df['city'].copy()"
   ]
  },
  {
   "cell_type": "code",
   "execution_count": 16,
   "metadata": {
    "scrolled": false
   },
   "outputs": [],
   "source": [
    "df= pd.get_dummies(df, columns=['city_copy'])"
   ]
  },
  {
   "cell_type": "code",
   "execution_count": 17,
   "metadata": {},
   "outputs": [
    {
     "data": {
      "text/plain": [
       "М    5005\n",
       "Ж    4995\n",
       "Name: gender, dtype: int64"
      ]
     },
     "execution_count": 17,
     "metadata": {},
     "output_type": "execute_result"
    }
   ],
   "source": [
    "df['gender'].value_counts()"
   ]
  },
  {
   "cell_type": "code",
   "execution_count": 18,
   "metadata": {
    "scrolled": true
   },
   "outputs": [
    {
     "name": "stdout",
     "output_type": "stream",
     "text": [
      "Минимальный возраст клиентов: 18\n",
      "Максимальный возраст клиентов: 86\n"
     ]
    }
   ],
   "source": [
    "min_age = df[df['age']>1]['age'].min()\n",
    "print(f'Минимальный возраст клиентов: {min_age}')\n",
    "max_age = df['age'].max()\n",
    "print(f'Максимальный возраст клиентов: {max_age}')"
   ]
  },
  {
   "cell_type": "markdown",
   "metadata": {},
   "source": [
    "Посмотрю, у кого ноль продуктов."
   ]
  },
  {
   "cell_type": "code",
   "execution_count": 19,
   "metadata": {
    "scrolled": true
   },
   "outputs": [
    {
     "data": {
      "text/html": [
       "<div>\n",
       "<style scoped>\n",
       "    .dataframe tbody tr th:only-of-type {\n",
       "        vertical-align: middle;\n",
       "    }\n",
       "\n",
       "    .dataframe tbody tr th {\n",
       "        vertical-align: top;\n",
       "    }\n",
       "\n",
       "    .dataframe thead th {\n",
       "        text-align: right;\n",
       "    }\n",
       "</style>\n",
       "<table border=\"1\" class=\"dataframe\">\n",
       "  <thead>\n",
       "    <tr style=\"text-align: right;\">\n",
       "      <th></th>\n",
       "      <th>user_id</th>\n",
       "      <th>score</th>\n",
       "      <th>city</th>\n",
       "      <th>gender</th>\n",
       "      <th>age</th>\n",
       "      <th>equity</th>\n",
       "      <th>balance</th>\n",
       "      <th>products</th>\n",
       "      <th>credit_card</th>\n",
       "      <th>last_activity</th>\n",
       "      <th>salary</th>\n",
       "      <th>churn</th>\n",
       "      <th>city_copy_Ростов</th>\n",
       "      <th>city_copy_Рыбинск</th>\n",
       "      <th>city_copy_Ярославль</th>\n",
       "    </tr>\n",
       "  </thead>\n",
       "  <tbody>\n",
       "    <tr>\n",
       "      <th>8957</th>\n",
       "      <td>147837</td>\n",
       "      <td>962.0</td>\n",
       "      <td>Рыбинск</td>\n",
       "      <td>Ж</td>\n",
       "      <td>79</td>\n",
       "      <td>3</td>\n",
       "      <td>NaN</td>\n",
       "      <td>0</td>\n",
       "      <td>0</td>\n",
       "      <td>0</td>\n",
       "      <td>25063.96</td>\n",
       "      <td>1</td>\n",
       "      <td>0</td>\n",
       "      <td>1</td>\n",
       "      <td>0</td>\n",
       "    </tr>\n",
       "  </tbody>\n",
       "</table>\n",
       "</div>"
      ],
      "text/plain": [
       "      user_id  score     city gender  age  equity  balance  products  \\\n",
       "8957   147837  962.0  Рыбинск      Ж   79       3      NaN         0   \n",
       "\n",
       "      credit_card  last_activity    salary  churn  city_copy_Ростов  \\\n",
       "8957            0              0  25063.96      1                 0   \n",
       "\n",
       "      city_copy_Рыбинск  city_copy_Ярославль  \n",
       "8957                  1                    0  "
      ]
     },
     "execution_count": 19,
     "metadata": {},
     "output_type": "execute_result"
    }
   ],
   "source": [
    "df[df['products']==0]"
   ]
  },
  {
   "cell_type": "markdown",
   "metadata": {},
   "source": [
    "Скорее всего, у клиента на самом деле должен быть один продукт - кредитки нет. Данных об остатках тоже нет."
   ]
  },
  {
   "cell_type": "code",
   "execution_count": 20,
   "metadata": {},
   "outputs": [],
   "source": [
    "df['products'] = df['products'].replace([0], [1])"
   ]
  },
  {
   "cell_type": "markdown",
   "metadata": {},
   "source": [
    "Теперь к дубликатам."
   ]
  },
  {
   "cell_type": "code",
   "execution_count": 21,
   "metadata": {},
   "outputs": [
    {
     "data": {
      "text/plain": [
       "0"
      ]
     },
     "execution_count": 21,
     "metadata": {},
     "output_type": "execute_result"
    }
   ],
   "source": [
    "df.duplicated().sum()"
   ]
  },
  {
   "cell_type": "markdown",
   "metadata": {},
   "source": [
    "Явных дублей нет. Единственный столбик, где они могут быть - user_id."
   ]
  },
  {
   "cell_type": "code",
   "execution_count": 22,
   "metadata": {},
   "outputs": [
    {
     "data": {
      "text/plain": [
       "73"
      ]
     },
     "execution_count": 22,
     "metadata": {},
     "output_type": "execute_result"
    }
   ],
   "source": [
    "df_dup = df.groupby('user_id')['city'].count().reset_index()\n",
    "df_dup = df_dup[df_dup['city'] > 1]\n",
    "len(df_dup)"
   ]
  },
  {
   "cell_type": "markdown",
   "metadata": {},
   "source": [
    "73 клиента имеют одинаковый id.\n",
    "Посмотрим, можно ли удалять такие дубли."
   ]
  },
  {
   "cell_type": "code",
   "execution_count": 23,
   "metadata": {
    "scrolled": false
   },
   "outputs": [
    {
     "data": {
      "text/html": [
       "<div>\n",
       "<style scoped>\n",
       "    .dataframe tbody tr th:only-of-type {\n",
       "        vertical-align: middle;\n",
       "    }\n",
       "\n",
       "    .dataframe tbody tr th {\n",
       "        vertical-align: top;\n",
       "    }\n",
       "\n",
       "    .dataframe thead th {\n",
       "        text-align: right;\n",
       "    }\n",
       "</style>\n",
       "<table border=\"1\" class=\"dataframe\">\n",
       "  <thead>\n",
       "    <tr style=\"text-align: right;\">\n",
       "      <th></th>\n",
       "      <th>user_id</th>\n",
       "      <th>score</th>\n",
       "      <th>city</th>\n",
       "      <th>gender</th>\n",
       "      <th>age</th>\n",
       "      <th>equity</th>\n",
       "      <th>balance</th>\n",
       "      <th>products</th>\n",
       "      <th>credit_card</th>\n",
       "      <th>last_activity</th>\n",
       "      <th>salary</th>\n",
       "      <th>churn</th>\n",
       "      <th>city_copy_Ростов</th>\n",
       "      <th>city_copy_Рыбинск</th>\n",
       "      <th>city_copy_Ярославль</th>\n",
       "    </tr>\n",
       "  </thead>\n",
       "  <tbody>\n",
       "    <tr>\n",
       "      <th>1893</th>\n",
       "      <td>116540</td>\n",
       "      <td>883.0</td>\n",
       "      <td>Рыбинск</td>\n",
       "      <td>Ж</td>\n",
       "      <td>55</td>\n",
       "      <td>1</td>\n",
       "      <td>362756.49</td>\n",
       "      <td>3</td>\n",
       "      <td>0</td>\n",
       "      <td>1</td>\n",
       "      <td>175920.48</td>\n",
       "      <td>1</td>\n",
       "      <td>0</td>\n",
       "      <td>1</td>\n",
       "      <td>0</td>\n",
       "    </tr>\n",
       "    <tr>\n",
       "      <th>7694</th>\n",
       "      <td>116540</td>\n",
       "      <td>887.0</td>\n",
       "      <td>Ярославль</td>\n",
       "      <td>Ж</td>\n",
       "      <td>38</td>\n",
       "      <td>0</td>\n",
       "      <td>NaN</td>\n",
       "      <td>1</td>\n",
       "      <td>0</td>\n",
       "      <td>1</td>\n",
       "      <td>119247.61</td>\n",
       "      <td>0</td>\n",
       "      <td>0</td>\n",
       "      <td>0</td>\n",
       "      <td>1</td>\n",
       "    </tr>\n",
       "    <tr>\n",
       "      <th>7542</th>\n",
       "      <td>117943</td>\n",
       "      <td>880.0</td>\n",
       "      <td>Ярославль</td>\n",
       "      <td>Ж</td>\n",
       "      <td>40</td>\n",
       "      <td>0</td>\n",
       "      <td>NaN</td>\n",
       "      <td>1</td>\n",
       "      <td>1</td>\n",
       "      <td>0</td>\n",
       "      <td>137718.93</td>\n",
       "      <td>0</td>\n",
       "      <td>0</td>\n",
       "      <td>0</td>\n",
       "      <td>1</td>\n",
       "    </tr>\n",
       "    <tr>\n",
       "      <th>4866</th>\n",
       "      <td>117943</td>\n",
       "      <td>855.0</td>\n",
       "      <td>Рыбинск</td>\n",
       "      <td>Ж</td>\n",
       "      <td>32</td>\n",
       "      <td>6</td>\n",
       "      <td>1036832.93</td>\n",
       "      <td>4</td>\n",
       "      <td>1</td>\n",
       "      <td>1</td>\n",
       "      <td>107792.71</td>\n",
       "      <td>1</td>\n",
       "      <td>0</td>\n",
       "      <td>1</td>\n",
       "      <td>0</td>\n",
       "    </tr>\n",
       "    <tr>\n",
       "      <th>5896</th>\n",
       "      <td>120258</td>\n",
       "      <td>905.0</td>\n",
       "      <td>Ярославль</td>\n",
       "      <td>М</td>\n",
       "      <td>30</td>\n",
       "      <td>0</td>\n",
       "      <td>NaN</td>\n",
       "      <td>1</td>\n",
       "      <td>1</td>\n",
       "      <td>1</td>\n",
       "      <td>146427.96</td>\n",
       "      <td>0</td>\n",
       "      <td>0</td>\n",
       "      <td>0</td>\n",
       "      <td>1</td>\n",
       "    </tr>\n",
       "    <tr>\n",
       "      <th>5863</th>\n",
       "      <td>120258</td>\n",
       "      <td>908.0</td>\n",
       "      <td>Рыбинск</td>\n",
       "      <td>Ж</td>\n",
       "      <td>38</td>\n",
       "      <td>4</td>\n",
       "      <td>2213581.63</td>\n",
       "      <td>2</td>\n",
       "      <td>0</td>\n",
       "      <td>1</td>\n",
       "      <td>160327.77</td>\n",
       "      <td>1</td>\n",
       "      <td>0</td>\n",
       "      <td>1</td>\n",
       "      <td>0</td>\n",
       "    </tr>\n",
       "    <tr>\n",
       "      <th>1411</th>\n",
       "      <td>123461</td>\n",
       "      <td>829.0</td>\n",
       "      <td>Ярославль</td>\n",
       "      <td>Ж</td>\n",
       "      <td>59</td>\n",
       "      <td>0</td>\n",
       "      <td>96222.44</td>\n",
       "      <td>2</td>\n",
       "      <td>0</td>\n",
       "      <td>1</td>\n",
       "      <td>102771.55</td>\n",
       "      <td>1</td>\n",
       "      <td>0</td>\n",
       "      <td>0</td>\n",
       "      <td>1</td>\n",
       "    </tr>\n",
       "    <tr>\n",
       "      <th>8638</th>\n",
       "      <td>123461</td>\n",
       "      <td>934.0</td>\n",
       "      <td>Рыбинск</td>\n",
       "      <td>М</td>\n",
       "      <td>34</td>\n",
       "      <td>0</td>\n",
       "      <td>NaN</td>\n",
       "      <td>2</td>\n",
       "      <td>1</td>\n",
       "      <td>0</td>\n",
       "      <td>291619.27</td>\n",
       "      <td>0</td>\n",
       "      <td>0</td>\n",
       "      <td>1</td>\n",
       "      <td>0</td>\n",
       "    </tr>\n",
       "    <tr>\n",
       "      <th>8164</th>\n",
       "      <td>124450</td>\n",
       "      <td>859.0</td>\n",
       "      <td>Ярославль</td>\n",
       "      <td>Ж</td>\n",
       "      <td>38</td>\n",
       "      <td>6</td>\n",
       "      <td>516811.20</td>\n",
       "      <td>1</td>\n",
       "      <td>1</td>\n",
       "      <td>1</td>\n",
       "      <td>95144.63</td>\n",
       "      <td>1</td>\n",
       "      <td>0</td>\n",
       "      <td>0</td>\n",
       "      <td>1</td>\n",
       "    </tr>\n",
       "    <tr>\n",
       "      <th>9775</th>\n",
       "      <td>124450</td>\n",
       "      <td>758.0</td>\n",
       "      <td>Рыбинск</td>\n",
       "      <td>Ж</td>\n",
       "      <td>36</td>\n",
       "      <td>0</td>\n",
       "      <td>73574.07</td>\n",
       "      <td>2</td>\n",
       "      <td>0</td>\n",
       "      <td>1</td>\n",
       "      <td>79963.59</td>\n",
       "      <td>0</td>\n",
       "      <td>0</td>\n",
       "      <td>1</td>\n",
       "      <td>0</td>\n",
       "    </tr>\n",
       "  </tbody>\n",
       "</table>\n",
       "</div>"
      ],
      "text/plain": [
       "      user_id  score       city gender  age  equity     balance  products  \\\n",
       "1893   116540  883.0    Рыбинск      Ж   55       1   362756.49         3   \n",
       "7694   116540  887.0  Ярославль      Ж   38       0         NaN         1   \n",
       "7542   117943  880.0  Ярославль      Ж   40       0         NaN         1   \n",
       "4866   117943  855.0    Рыбинск      Ж   32       6  1036832.93         4   \n",
       "5896   120258  905.0  Ярославль      М   30       0         NaN         1   \n",
       "5863   120258  908.0    Рыбинск      Ж   38       4  2213581.63         2   \n",
       "1411   123461  829.0  Ярославль      Ж   59       0    96222.44         2   \n",
       "8638   123461  934.0    Рыбинск      М   34       0         NaN         2   \n",
       "8164   124450  859.0  Ярославль      Ж   38       6   516811.20         1   \n",
       "9775   124450  758.0    Рыбинск      Ж   36       0    73574.07         2   \n",
       "\n",
       "      credit_card  last_activity     salary  churn  city_copy_Ростов  \\\n",
       "1893            0              1  175920.48      1                 0   \n",
       "7694            0              1  119247.61      0                 0   \n",
       "7542            1              0  137718.93      0                 0   \n",
       "4866            1              1  107792.71      1                 0   \n",
       "5896            1              1  146427.96      0                 0   \n",
       "5863            0              1  160327.77      1                 0   \n",
       "1411            0              1  102771.55      1                 0   \n",
       "8638            1              0  291619.27      0                 0   \n",
       "8164            1              1   95144.63      1                 0   \n",
       "9775            0              1   79963.59      0                 0   \n",
       "\n",
       "      city_copy_Рыбинск  city_copy_Ярославль  \n",
       "1893                  1                    0  \n",
       "7694                  0                    1  \n",
       "7542                  0                    1  \n",
       "4866                  1                    0  \n",
       "5896                  0                    1  \n",
       "5863                  1                    0  \n",
       "1411                  0                    1  \n",
       "8638                  1                    0  \n",
       "8164                  0                    1  \n",
       "9775                  1                    0  "
      ]
     },
     "execution_count": 23,
     "metadata": {},
     "output_type": "execute_result"
    }
   ],
   "source": [
    "df[df['user_id'].isin(df_dup['user_id'])].sort_values(by='user_id').head(10)"
   ]
  },
  {
   "cell_type": "markdown",
   "metadata": {},
   "source": [
    "Удалять нельзя. Предполагаю, что по каким-то причинам система некорректно назначала разным клиентам одинаковый id. Будто в системе не соблюдается принцип изоляции при хранении данных.  \n",
    "\n",
    "Можно переходить к анализу данных."
   ]
  },
  {
   "cell_type": "markdown",
   "metadata": {},
   "source": [
    "Итоги предобработки:\n",
    "* Формат данных скорректирован\n",
    "* Столбцы переименованы\n",
    "* Часть пропущенных значений заменены на заглушку"
   ]
  },
  {
   "cell_type": "markdown",
   "metadata": {},
   "source": [
    "## Анализ данных"
   ]
  },
  {
   "cell_type": "markdown",
   "metadata": {},
   "source": [
    "В данном блоке необходимо:  \n",
    "* Сравнить профили клиентов по основным признакам в разрезе отток/не отток\n",
    "* Изучить распределение признаков в разрезе отток/не отток\n",
    "* Проверить корреляцию между признаками и оттоком"
   ]
  },
  {
   "cell_type": "code",
   "execution_count": 24,
   "metadata": {},
   "outputs": [],
   "source": [
    "def sravnenie(category):\n",
    "    for i in category:\n",
    "        delta_mean = round(df[df['churn'] == 1][i].mean()/df[df['churn'] == 0][i].mean()-1,2)\n",
    "        delta_med = round(df[df['churn'] == 1][i].median()/df[df['churn'] == 0][i].median()-1,2)\n",
    "        print(f'Среднее по {i}: {round(df[i].mean())}')\n",
    "        print(f'Дельта между средними отточных и неотточных по {i}: {delta_mean}')\n",
    "        print(f'Дельта между медианами отточных и неотточных по {i}: {delta_med}')\n",
    "        print('               ')"
   ]
  },
  {
   "cell_type": "code",
   "execution_count": 25,
   "metadata": {
    "scrolled": false
   },
   "outputs": [
    {
     "name": "stdout",
     "output_type": "stream",
     "text": [
      "Среднее по salary: 147867\n",
      "Дельта между средними отточных и неотточных по salary: 0.0\n",
      "Дельта между медианами отточных и неотточных по salary: 0.06\n",
      "               \n",
      "Среднее по balance: 827794\n",
      "Дельта между средними отточных и неотточных по balance: 0.54\n",
      "Дельта между медианами отточных и неотточных по balance: 0.65\n",
      "               \n",
      "Среднее по score: 849\n",
      "Дельта между средними отточных и неотточных по score: 0.02\n",
      "Дельта между медианами отточных и неотточных по score: 0.02\n",
      "               \n",
      "Среднее по age: 43\n",
      "Дельта между средними отточных и неотточных по age: -0.03\n",
      "Дельта между медианами отточных и неотточных по age: -0.03\n",
      "               \n"
     ]
    }
   ],
   "source": [
    "category = ['salary', 'balance', 'score', 'age']\n",
    "sravnenie(category)"
   ]
  },
  {
   "cell_type": "code",
   "execution_count": 26,
   "metadata": {
    "scrolled": false
   },
   "outputs": [
    {
     "data": {
      "text/html": [
       "<div>\n",
       "<style scoped>\n",
       "    .dataframe tbody tr th:only-of-type {\n",
       "        vertical-align: middle;\n",
       "    }\n",
       "\n",
       "    .dataframe tbody tr th {\n",
       "        vertical-align: top;\n",
       "    }\n",
       "\n",
       "    .dataframe thead th {\n",
       "        text-align: right;\n",
       "    }\n",
       "</style>\n",
       "<table border=\"1\" class=\"dataframe\">\n",
       "  <thead>\n",
       "    <tr style=\"text-align: right;\">\n",
       "      <th></th>\n",
       "      <th>churn</th>\n",
       "      <th>age</th>\n",
       "      <th>score</th>\n",
       "      <th>equity</th>\n",
       "      <th>products</th>\n",
       "      <th>credit_card</th>\n",
       "      <th>last_activity</th>\n",
       "      <th>salary</th>\n",
       "      <th>balance</th>\n",
       "    </tr>\n",
       "  </thead>\n",
       "  <tbody>\n",
       "    <tr>\n",
       "      <th>0</th>\n",
       "      <td>0</td>\n",
       "      <td>42.892421</td>\n",
       "      <td>845.428362</td>\n",
       "      <td>2.374817</td>\n",
       "      <td>1.757579</td>\n",
       "      <td>0.709169</td>\n",
       "      <td>0.483741</td>\n",
       "      <td>147783.200108</td>\n",
       "      <td>7.339826e+05</td>\n",
       "    </tr>\n",
       "    <tr>\n",
       "      <th>1</th>\n",
       "      <td>1</td>\n",
       "      <td>41.428022</td>\n",
       "      <td>863.401099</td>\n",
       "      <td>3.763736</td>\n",
       "      <td>2.376374</td>\n",
       "      <td>0.551099</td>\n",
       "      <td>0.702198</td>\n",
       "      <td>148243.010198</td>\n",
       "      <td>1.133993e+06</td>\n",
       "    </tr>\n",
       "  </tbody>\n",
       "</table>\n",
       "</div>"
      ],
      "text/plain": [
       "   churn        age       score    equity  products  credit_card  \\\n",
       "0      0  42.892421  845.428362  2.374817  1.757579     0.709169   \n",
       "1      1  41.428022  863.401099  3.763736  2.376374     0.551099   \n",
       "\n",
       "   last_activity         salary       balance  \n",
       "0       0.483741  147783.200108  7.339826e+05  \n",
       "1       0.702198  148243.010198  1.133993e+06  "
      ]
     },
     "execution_count": 26,
     "metadata": {},
     "output_type": "execute_result"
    }
   ],
   "source": [
    "df.groupby('churn')[['age','score','equity','products','credit_card','last_activity','salary','balance']].mean().reset_index()"
   ]
  },
  {
   "cell_type": "markdown",
   "metadata": {},
   "source": [
    "Сравнивая средние значения отточных и не отточных клиентов можно заключить:  \n",
    "* Возраст, оценочная зарплата почти не отличаются.  \n",
    "* Средний балл оценки недвижимости у отточных клиентов почти в полтора раза выше.  \n",
    "* У отточного клиента также выше среднее колччисевто продуктов (2,37 против 1,76).  \n",
    "* Кредитная карта реже встречается у отточных клиентов (0,55 против 0,71)\n",
    "* Средний показатель активности выше у отточных.\n",
    "* Средний остаток у отточных примерно в 1,5 выше"
   ]
  },
  {
   "cell_type": "markdown",
   "metadata": {},
   "source": [
    "Переходим к категориальных."
   ]
  },
  {
   "cell_type": "code",
   "execution_count": 27,
   "metadata": {},
   "outputs": [],
   "source": [
    "df_copy = df.copy()\n",
    "df_copy['credit_card'] = df_copy['credit_card'].replace([0,1], ['нет', 'да'])\n",
    "df_copy['last_activity'] = df_copy['last_activity'].replace([0,1], ['нет', 'да'])"
   ]
  },
  {
   "cell_type": "code",
   "execution_count": 28,
   "metadata": {},
   "outputs": [],
   "source": [
    "def sravnenie1(category):\n",
    "    for i in category:\n",
    "        df_pivot = df_copy.pivot_table(index=i, values = 'churn', aggfunc = 'mean').reset_index()\n",
    "        plt.figure(figsize=(12,5))\n",
    "        sns.barplot(data=df_pivot, x=i, y='churn')\n",
    "        plt.ylabel('churn_rate')\n",
    "        plt.title('Доля отточных по '+i)\n",
    "        plt.axhline(y=df['churn'].mean())\n",
    "        plt.show()"
   ]
  },
  {
   "cell_type": "code",
   "execution_count": 29,
   "metadata": {
    "scrolled": false
   },
   "outputs": [
    {
     "data": {
      "image/png": "[encoded data removed]",
      "text/plain": [
       "<Figure size 864x360 with 1 Axes>"
      ]
     },
     "metadata": {},
     "output_type": "display_data"
    },
    {
     "data": {
      "image/png": "[encoded data removed]",
      "text/plain": [
       "<Figure size 864x360 with 1 Axes>"
      ]
     },
     "metadata": {},
     "output_type": "display_data"
    },
    {
     "data": {
      "image/png": "[encoded data removed]",
      "text/plain": [
       "<Figure size 864x360 with 1 Axes>"
      ]
     },
     "metadata": {},
     "output_type": "display_data"
    },
    {
     "data": {
      "image/png": "[encoded data removed]",
      "text/plain": [
       "<Figure size 864x360 with 1 Axes>"
      ]
     },
     "metadata": {},
     "output_type": "display_data"
    },
    {
     "data": {
      "image/png": "[encoded data removed]",
      "text/plain": [
       "<Figure size 864x360 with 1 Axes>"
      ]
     },
     "metadata": {},
     "output_type": "display_data"
    },
    {
     "data": {
      "image/png": "[encoded data removed]",
      "text/plain": [
       "<Figure size 864x360 with 1 Axes>"
      ]
     },
     "metadata": {},
     "output_type": "display_data"
    }
   ],
   "source": [
    "category = ['city', 'gender', 'equity', 'products', 'credit_card', 'last_activity']\n",
    "sravnenie1(category)"
   ]
  },
  {
   "cell_type": "markdown",
   "metadata": {},
   "source": [
    "По данным графиков:\n",
    "* Уровень оттока в городах почти одинаковый  \n",
    "* Мужчины в большей степени склонны у оттоку  \n",
    "* Клиенты с баллом оценки недвижимости более 3 по нарастающей более склонны к оттоку. Максимальное значение - 9 баллов (55%)  \n",
    "* Клиенты с количеством продуктов превышающих 2 более склонны к оттоку. С 4 продуктами ушло порядка 2/3 клиентов\n",
    "* Отсутствие кредитки является фактором для оттока\n",
    "* Уровень оттока у клиентов, которые не активны, в 2 раза превышает уровень оттока активных клиентов."
   ]
  },
  {
   "cell_type": "markdown",
   "metadata": {},
   "source": [
    "Теперь посмотрим распределение дохода, остатков, баллов скоринга и возраста в необходимом разрезе."
   ]
  },
  {
   "cell_type": "code",
   "execution_count": 31,
   "metadata": {},
   "outputs": [
    {
     "data": {
      "image/png": "[encoded data removed]",
      "text/plain": [
       "<Figure size 864x360 with 1 Axes>"
      ]
     },
     "metadata": {},
     "output_type": "display_data"
    }
   ],
   "source": [
    "df_salary = df[df['salary'] <= np.percentile(df['salary'], [95][0])]\n",
    "plt.figure(figsize=(12,5))\n",
    "sns.histplot(df_salary, x='salary', hue = df['churn'], stat=\"density\", common_norm=False)\n",
    "plt.legend(['отток', 'не отток'], title='Признак оттока')\n",
    "plt.title('Распределение дохода')\n",
    "plt.show()"
   ]
  },
  {
   "cell_type": "code",
   "execution_count": 32,
   "metadata": {},
   "outputs": [
    {
     "data": {
      "image/png": "[encoded data removed]",
      "text/plain": [
       "<Figure size 864x360 with 1 Axes>"
      ]
     },
     "metadata": {},
     "output_type": "display_data"
    }
   ],
   "source": [
    "df_balance = df.dropna(subset=['balance']).reset_index()\n",
    "plt.figure(figsize=(12,5))\n",
    "df_balance = df_balance[df_balance['balance'] <= np.percentile(df_balance['balance'], [95][0])]\n",
    "sns.histplot(df_balance, x='balance', hue = df['churn'], stat=\"density\", common_norm=False)\n",
    "plt.legend(['отток', 'не отток'], title='Признак оттока')\n",
    "plt.title('Распределение баланса')\n",
    "plt.show()"
   ]
  },
  {
   "cell_type": "code",
   "execution_count": 33,
   "metadata": {},
   "outputs": [
    {
     "data": {
      "image/png": "[encoded data removed]",
      "text/plain": [
       "<Figure size 864x360 with 1 Axes>"
      ]
     },
     "metadata": {},
     "output_type": "display_data"
    }
   ],
   "source": [
    "plt.figure(figsize=(12,5))\n",
    "sns.histplot(df, x='score', hue = df['churn'], stat=\"density\", common_norm=False)\n",
    "plt.legend(['отток', 'не отток'], title='Признак оттока')\n",
    "plt.title('Распределение баллов скоринга')\n",
    "plt.show()"
   ]
  },
  {
   "cell_type": "code",
   "execution_count": 34,
   "metadata": {
    "scrolled": true
   },
   "outputs": [
    {
     "data": {
      "image/png": "[encoded data removed]",
      "text/plain": [
       "<Figure size 864x360 with 1 Axes>"
      ]
     },
     "metadata": {},
     "output_type": "display_data"
    }
   ],
   "source": [
    "plt.figure(figsize=(12,5))\n",
    "df_age = df[df['age'] != 1]\n",
    "sns.histplot(df_age, x='age', hue = df['churn'], stat=\"density\", common_norm=False)\n",
    "plt.legend(['отток', 'не отток'], title='Признак оттока')\n",
    "plt.title('Распределение возраста')\n",
    "plt.show()"
   ]
  },
  {
   "cell_type": "markdown",
   "metadata": {},
   "source": [
    "По данным графиков:\n",
    "* Доход отточных и не отточных клиентов распределен почти одинаково. Есть небольшое смещение в сторону 150к у отточных. И к 50к у неотточных  \n",
    "* Распределение баланса также похоже. В некоторых бакетах отточные клиенты представлены больше (например, около 400к и от 700к до 1100к)\n",
    "* Распределение баллов скоринга отличается. Явно выделяются данные отточных клиентов - в диапазоне 830-900 баллов\n",
    "* Самое заметное различие в возрасте - диапазон 50-60 лет и диапазон 25-30 лет. Несколько бакетов имеет двойное превышение относительно неотточных клиентов."
   ]
  },
  {
   "cell_type": "code",
   "execution_count": 35,
   "metadata": {
    "scrolled": false
   },
   "outputs": [
    {
     "data": {
      "text/html": [
       "<div>\n",
       "<style scoped>\n",
       "    .dataframe tbody tr th:only-of-type {\n",
       "        vertical-align: middle;\n",
       "    }\n",
       "\n",
       "    .dataframe tbody tr th {\n",
       "        vertical-align: top;\n",
       "    }\n",
       "\n",
       "    .dataframe thead th {\n",
       "        text-align: right;\n",
       "    }\n",
       "</style>\n",
       "<table border=\"1\" class=\"dataframe\">\n",
       "  <thead>\n",
       "    <tr style=\"text-align: right;\">\n",
       "      <th></th>\n",
       "      <th>score</th>\n",
       "      <th>gender</th>\n",
       "      <th>age</th>\n",
       "      <th>equity</th>\n",
       "      <th>balance</th>\n",
       "      <th>products</th>\n",
       "      <th>credit_card</th>\n",
       "      <th>last_activity</th>\n",
       "      <th>salary</th>\n",
       "      <th>churn</th>\n",
       "      <th>city_copy_Ростов</th>\n",
       "      <th>city_copy_Рыбинск</th>\n",
       "      <th>city_copy_Ярославль</th>\n",
       "    </tr>\n",
       "  </thead>\n",
       "  <tbody>\n",
       "    <tr>\n",
       "      <th>score</th>\n",
       "      <td>1.000000</td>\n",
       "      <td>0.071359</td>\n",
       "      <td>0.043122</td>\n",
       "      <td>0.527991</td>\n",
       "      <td>0.170900</td>\n",
       "      <td>0.419670</td>\n",
       "      <td>0.208895</td>\n",
       "      <td>0.054473</td>\n",
       "      <td>0.395960</td>\n",
       "      <td>0.228179</td>\n",
       "      <td>0.087290</td>\n",
       "      <td>0.027389</td>\n",
       "      <td>0.084186</td>\n",
       "    </tr>\n",
       "    <tr>\n",
       "      <th>gender</th>\n",
       "      <td>0.071359</td>\n",
       "      <td>1.000000</td>\n",
       "      <td>0.225983</td>\n",
       "      <td>0.064554</td>\n",
       "      <td>0.045424</td>\n",
       "      <td>0.071954</td>\n",
       "      <td>0.196238</td>\n",
       "      <td>0.014156</td>\n",
       "      <td>0.144714</td>\n",
       "      <td>0.218799</td>\n",
       "      <td>0.017018</td>\n",
       "      <td>0.019485</td>\n",
       "      <td>0.036020</td>\n",
       "    </tr>\n",
       "    <tr>\n",
       "      <th>age</th>\n",
       "      <td>0.043122</td>\n",
       "      <td>0.225983</td>\n",
       "      <td>1.000000</td>\n",
       "      <td>0.037127</td>\n",
       "      <td>0.000000</td>\n",
       "      <td>0.105954</td>\n",
       "      <td>0.120863</td>\n",
       "      <td>0.060133</td>\n",
       "      <td>0.261062</td>\n",
       "      <td>0.141465</td>\n",
       "      <td>0.056585</td>\n",
       "      <td>0.042375</td>\n",
       "      <td>0.075341</td>\n",
       "    </tr>\n",
       "    <tr>\n",
       "      <th>equity</th>\n",
       "      <td>0.527991</td>\n",
       "      <td>0.064554</td>\n",
       "      <td>0.037127</td>\n",
       "      <td>1.000000</td>\n",
       "      <td>0.000000</td>\n",
       "      <td>0.584335</td>\n",
       "      <td>0.221940</td>\n",
       "      <td>0.051091</td>\n",
       "      <td>0.286452</td>\n",
       "      <td>0.352726</td>\n",
       "      <td>0.065462</td>\n",
       "      <td>0.000000</td>\n",
       "      <td>0.054950</td>\n",
       "    </tr>\n",
       "    <tr>\n",
       "      <th>balance</th>\n",
       "      <td>0.170900</td>\n",
       "      <td>0.045424</td>\n",
       "      <td>0.000000</td>\n",
       "      <td>0.000000</td>\n",
       "      <td>1.000000</td>\n",
       "      <td>0.000000</td>\n",
       "      <td>0.000000</td>\n",
       "      <td>0.000000</td>\n",
       "      <td>0.374373</td>\n",
       "      <td>0.024701</td>\n",
       "      <td>0.000000</td>\n",
       "      <td>0.023207</td>\n",
       "      <td>0.047921</td>\n",
       "    </tr>\n",
       "    <tr>\n",
       "      <th>products</th>\n",
       "      <td>0.419670</td>\n",
       "      <td>0.071954</td>\n",
       "      <td>0.105954</td>\n",
       "      <td>0.584335</td>\n",
       "      <td>0.000000</td>\n",
       "      <td>1.000000</td>\n",
       "      <td>0.270911</td>\n",
       "      <td>0.112497</td>\n",
       "      <td>0.222957</td>\n",
       "      <td>0.259877</td>\n",
       "      <td>0.045259</td>\n",
       "      <td>0.084728</td>\n",
       "      <td>0.107977</td>\n",
       "    </tr>\n",
       "    <tr>\n",
       "      <th>credit_card</th>\n",
       "      <td>0.208895</td>\n",
       "      <td>0.196238</td>\n",
       "      <td>0.120863</td>\n",
       "      <td>0.221940</td>\n",
       "      <td>0.000000</td>\n",
       "      <td>0.270911</td>\n",
       "      <td>1.000000</td>\n",
       "      <td>0.049761</td>\n",
       "      <td>0.038252</td>\n",
       "      <td>0.202997</td>\n",
       "      <td>0.152788</td>\n",
       "      <td>0.076669</td>\n",
       "      <td>0.178614</td>\n",
       "    </tr>\n",
       "    <tr>\n",
       "      <th>last_activity</th>\n",
       "      <td>0.054473</td>\n",
       "      <td>0.014156</td>\n",
       "      <td>0.060133</td>\n",
       "      <td>0.051091</td>\n",
       "      <td>0.000000</td>\n",
       "      <td>0.112497</td>\n",
       "      <td>0.049761</td>\n",
       "      <td>1.000000</td>\n",
       "      <td>0.046131</td>\n",
       "      <td>0.261174</td>\n",
       "      <td>0.000000</td>\n",
       "      <td>0.074618</td>\n",
       "      <td>0.074923</td>\n",
       "    </tr>\n",
       "    <tr>\n",
       "      <th>salary</th>\n",
       "      <td>0.395960</td>\n",
       "      <td>0.144714</td>\n",
       "      <td>0.261062</td>\n",
       "      <td>0.286452</td>\n",
       "      <td>0.374373</td>\n",
       "      <td>0.222957</td>\n",
       "      <td>0.038252</td>\n",
       "      <td>0.046131</td>\n",
       "      <td>1.000000</td>\n",
       "      <td>0.047635</td>\n",
       "      <td>0.136212</td>\n",
       "      <td>0.101617</td>\n",
       "      <td>0.176235</td>\n",
       "    </tr>\n",
       "    <tr>\n",
       "      <th>churn</th>\n",
       "      <td>0.228179</td>\n",
       "      <td>0.218799</td>\n",
       "      <td>0.141465</td>\n",
       "      <td>0.352726</td>\n",
       "      <td>0.024701</td>\n",
       "      <td>0.259877</td>\n",
       "      <td>0.202997</td>\n",
       "      <td>0.261174</td>\n",
       "      <td>0.047635</td>\n",
       "      <td>1.000000</td>\n",
       "      <td>0.000000</td>\n",
       "      <td>0.046001</td>\n",
       "      <td>0.033644</td>\n",
       "    </tr>\n",
       "    <tr>\n",
       "      <th>city_copy_Ростов</th>\n",
       "      <td>0.087290</td>\n",
       "      <td>0.017018</td>\n",
       "      <td>0.056585</td>\n",
       "      <td>0.065462</td>\n",
       "      <td>0.000000</td>\n",
       "      <td>0.045259</td>\n",
       "      <td>0.152788</td>\n",
       "      <td>0.000000</td>\n",
       "      <td>0.136212</td>\n",
       "      <td>0.000000</td>\n",
       "      <td>1.000000</td>\n",
       "      <td>0.377281</td>\n",
       "      <td>0.691205</td>\n",
       "    </tr>\n",
       "    <tr>\n",
       "      <th>city_copy_Рыбинск</th>\n",
       "      <td>0.027389</td>\n",
       "      <td>0.019485</td>\n",
       "      <td>0.042375</td>\n",
       "      <td>0.000000</td>\n",
       "      <td>0.023207</td>\n",
       "      <td>0.084728</td>\n",
       "      <td>0.076669</td>\n",
       "      <td>0.074618</td>\n",
       "      <td>0.101617</td>\n",
       "      <td>0.046001</td>\n",
       "      <td>0.377281</td>\n",
       "      <td>1.000000</td>\n",
       "      <td>0.909165</td>\n",
       "    </tr>\n",
       "    <tr>\n",
       "      <th>city_copy_Ярославль</th>\n",
       "      <td>0.084186</td>\n",
       "      <td>0.036020</td>\n",
       "      <td>0.075341</td>\n",
       "      <td>0.054950</td>\n",
       "      <td>0.047921</td>\n",
       "      <td>0.107977</td>\n",
       "      <td>0.178614</td>\n",
       "      <td>0.074923</td>\n",
       "      <td>0.176235</td>\n",
       "      <td>0.033644</td>\n",
       "      <td>0.691205</td>\n",
       "      <td>0.909165</td>\n",
       "      <td>1.000000</td>\n",
       "    </tr>\n",
       "  </tbody>\n",
       "</table>\n",
       "</div>"
      ],
      "text/plain": [
       "                        score    gender       age    equity   balance  \\\n",
       "score                1.000000  0.071359  0.043122  0.527991  0.170900   \n",
       "gender               0.071359  1.000000  0.225983  0.064554  0.045424   \n",
       "age                  0.043122  0.225983  1.000000  0.037127  0.000000   \n",
       "equity               0.527991  0.064554  0.037127  1.000000  0.000000   \n",
       "balance              0.170900  0.045424  0.000000  0.000000  1.000000   \n",
       "products             0.419670  0.071954  0.105954  0.584335  0.000000   \n",
       "credit_card          0.208895  0.196238  0.120863  0.221940  0.000000   \n",
       "last_activity        0.054473  0.014156  0.060133  0.051091  0.000000   \n",
       "salary               0.395960  0.144714  0.261062  0.286452  0.374373   \n",
       "churn                0.228179  0.218799  0.141465  0.352726  0.024701   \n",
       "city_copy_Ростов     0.087290  0.017018  0.056585  0.065462  0.000000   \n",
       "city_copy_Рыбинск    0.027389  0.019485  0.042375  0.000000  0.023207   \n",
       "city_copy_Ярославль  0.084186  0.036020  0.075341  0.054950  0.047921   \n",
       "\n",
       "                     products  credit_card  last_activity    salary     churn  \\\n",
       "score                0.419670     0.208895       0.054473  0.395960  0.228179   \n",
       "gender               0.071954     0.196238       0.014156  0.144714  0.218799   \n",
       "age                  0.105954     0.120863       0.060133  0.261062  0.141465   \n",
       "equity               0.584335     0.221940       0.051091  0.286452  0.352726   \n",
       "balance              0.000000     0.000000       0.000000  0.374373  0.024701   \n",
       "products             1.000000     0.270911       0.112497  0.222957  0.259877   \n",
       "credit_card          0.270911     1.000000       0.049761  0.038252  0.202997   \n",
       "last_activity        0.112497     0.049761       1.000000  0.046131  0.261174   \n",
       "salary               0.222957     0.038252       0.046131  1.000000  0.047635   \n",
       "churn                0.259877     0.202997       0.261174  0.047635  1.000000   \n",
       "city_copy_Ростов     0.045259     0.152788       0.000000  0.136212  0.000000   \n",
       "city_copy_Рыбинск    0.084728     0.076669       0.074618  0.101617  0.046001   \n",
       "city_copy_Ярославль  0.107977     0.178614       0.074923  0.176235  0.033644   \n",
       "\n",
       "                     city_copy_Ростов  city_copy_Рыбинск  city_copy_Ярославль  \n",
       "score                        0.087290           0.027389             0.084186  \n",
       "gender                       0.017018           0.019485             0.036020  \n",
       "age                          0.056585           0.042375             0.075341  \n",
       "equity                       0.065462           0.000000             0.054950  \n",
       "balance                      0.000000           0.023207             0.047921  \n",
       "products                     0.045259           0.084728             0.107977  \n",
       "credit_card                  0.152788           0.076669             0.178614  \n",
       "last_activity                0.000000           0.074618             0.074923  \n",
       "salary                       0.136212           0.101617             0.176235  \n",
       "churn                        0.000000           0.046001             0.033644  \n",
       "city_copy_Ростов             1.000000           0.377281             0.691205  \n",
       "city_copy_Рыбинск            0.377281           1.000000             0.909165  \n",
       "city_copy_Ярославль          0.691205           0.909165             1.000000  "
      ]
     },
     "execution_count": 35,
     "metadata": {},
     "output_type": "execute_result"
    }
   ],
   "source": [
    "df_copy3 = df.drop(columns='city')\n",
    "df_corr=df_copy3.loc[:,df_copy3.columns != 'user_id'].phik_matrix(interval_cols=['score', 'age', 'balance', 'salary'])\n",
    "df_corr"
   ]
  },
  {
   "cell_type": "code",
   "execution_count": 36,
   "metadata": {
    "scrolled": false
   },
   "outputs": [
    {
     "data": {
      "image/png": "[encoded data removed]",
      "text/plain": [
       "<Figure size 1440x720 with 2 Axes>"
      ]
     },
     "metadata": {},
     "output_type": "display_data"
    }
   ],
   "source": [
    "df_heat=df_copy3.loc[:,df_copy3.columns != 'user_id'].phik_matrix(interval_cols=['score', 'age', 'balance', 'salary'])\n",
    "plt.figure(figsize=(20,10))\n",
    "sns.heatmap(df_heat, cmap='coolwarm', center=0, annot = True)\n",
    "plt.title('Корреляция признаков')\n",
    "plt.show()"
   ]
  },
  {
   "cell_type": "code",
   "execution_count": 37,
   "metadata": {},
   "outputs": [
    {
     "data": {
      "image/png": "[encoded data removed]",
      "text/plain": [
       "<Figure size 1080x576 with 2 Axes>"
      ]
     },
     "metadata": {},
     "output_type": "display_data"
    }
   ],
   "source": [
    "plt.figure(figsize=(15,8))\n",
    "sns.heatmap(df_corr.loc[:,['churn']].drop('churn').sort_values('churn'), cmap='vlag', center=0, annot = True, fmt=\".0%\")\n",
    "plt.title('Корреляция оттока с признаками')\n",
    "plt.show()"
   ]
  },
  {
   "cell_type": "markdown",
   "metadata": {},
   "source": [
    "У оттока почти со всеми признаками очень слабая корреляция (до 0,3).  \n",
    "Самая сильная - у признака \"количество баллов собственности\" - 0,35\n",
    "Города, баланс, оценочная зарплата не влияют совсем.  "
   ]
  },
  {
   "cell_type": "markdown",
   "metadata": {},
   "source": [
    "По итогам исследовательского анализа:  \n",
    "  Основные различия отточного и неотточного клиента:  \n",
    "*  Возраст, оценочная зарплата почти не отличаются.  \n",
    "*  Средний балл оценки недвижимости у отточных клиентов почти в полтора раза выше.  \n",
    "*  У отточного клиента также выше среднее колччисевто продуктов (2,37 против 1,76).  \n",
    "*  Кредитная карта реже встречается у отточных клиентов (0,55 против 0,71)  \n",
    "*  Средний показатель активности выше у отточных.  \n",
    "*  Средний остаток у отточных примерно в 1,5 выше  \n",
    "*  Клиенты возраста 25-30 и 50-60 чаще оттекают\n",
    "*  Рейтинг отоочных клиентов чаще всего находится в диапазоне 830-900 баллов\n",
    "*  Клиенты с доходом 100к+ чаще оттекают"
   ]
  },
  {
   "cell_type": "markdown",
   "metadata": {},
   "source": [
    "Признаки оттока:  \n",
    "* Признак, имеющий наибольшую корреляцию - \"Количество баллов собственности\" - 0.35\n",
    "* Признаки, почти не имеющие корреляцию с оттоком - город, зарплата, остатки.\n",
    "* Остальные признаки имеют очень слабую корреляцию в диапазоне 0.14-0.26"
   ]
  },
  {
   "cell_type": "markdown",
   "metadata": {},
   "source": [
    "Перехожу к проверке гипотез."
   ]
  },
  {
   "cell_type": "markdown",
   "metadata": {},
   "source": [
    "## Проверка гипотезы 1"
   ]
  },
  {
   "cell_type": "markdown",
   "metadata": {},
   "source": [
    "Проверим гипотезу различия оценочного дохода между теми клиентами, которые ушли и теми, которые остались.  \n",
    "\n",
    "H0: Различий в оценочном доходе у отточных и неотточных клиентов нет.  \n",
    "H1: Различия в оценочном доходе у отточных и неотточных клиентов есть.  \n",
    "\n",
    "\n",
    "Гипотезу проверим с помощью критерия Стьюдента и критерия Манна-Уитни. p-value = 0.05  "
   ]
  },
  {
   "cell_type": "code",
   "execution_count": 38,
   "metadata": {},
   "outputs": [
    {
     "name": "stdout",
     "output_type": "stream",
     "text": [
      "p-значение:  0.8987254468291451\n",
      "Не получилось отвергнуть нулевую гипотезу, вывод о различии оценочного дохода сделать нельзя\n"
     ]
    }
   ],
   "source": [
    "#Критерий Стьюдента:\n",
    "alpha = 0.05\n",
    "df_churn = df[df['churn'] == 1]['salary']\n",
    "df_no_churn = df[df['churn'] == 0]['salary']\n",
    "\n",
    "results = st.ttest_ind(df_no_churn, df_churn)\n",
    "\n",
    "print('p-значение: ', results.pvalue)\n",
    "\n",
    "if results.pvalue < alpha:\n",
    "    print('Отвергаем нулевую гипотезу: разница в оценочном доходе статистически значима')\n",
    "else:\n",
    "    print(\n",
    "        'Не получилось отвергнуть нулевую гипотезу, вывод о различии оценочного дохода сделать нельзя'\n",
    "    ) "
   ]
  },
  {
   "cell_type": "code",
   "execution_count": 39,
   "metadata": {},
   "outputs": [
    {
     "name": "stdout",
     "output_type": "stream",
     "text": [
      "p-значение:  0.000243559272811695\n",
      "Отвергаем нулевую гипотезу: разница статистически значима\n"
     ]
    }
   ],
   "source": [
    "#Критерий Манна-Уитни:\n",
    "alpha = 0.05\n",
    "df_churn2 = df[df['churn'] == 1]['salary']\n",
    "df_no_churn2 = df[df['churn'] == 0]['salary']\n",
    "\n",
    "results = st.mannwhitneyu(df_no_churn2, df_churn2)\n",
    "\n",
    "print('p-значение: ', results.pvalue)\n",
    "\n",
    "if results.pvalue < alpha:\n",
    "    print('Отвергаем нулевую гипотезу: разница статистически значима')\n",
    "else:\n",
    "    print(\n",
    "        'Не получилось отвергнуть нулевую гипотезу, вывод о различии сделать нельзя'\n",
    "    ) "
   ]
  },
  {
   "cell_type": "markdown",
   "metadata": {},
   "source": [
    "Тест Манна-Уитни показывает, что разница между выборками есть. U-критерий более корректен, так как распределение признака нельзя назвать нормальным. Также тест Манна-Уитни нивелирует выбросы в доходах клиентов.\n",
    "\n",
    "Перехожу к проверке второй гипотезы."
   ]
  },
  {
   "cell_type": "markdown",
   "metadata": {},
   "source": [
    "## Проверка гипотезы 2"
   ]
  },
  {
   "cell_type": "markdown",
   "metadata": {},
   "source": [
    "По графику не очень понятно, сильно ли отличается баланс у отточных и у неотточных пользователей."
   ]
  },
  {
   "cell_type": "markdown",
   "metadata": {},
   "source": [
    "Проверим гипотезу различия остатков на счетах между клиентами, которые ушли и теми, которые остались.  \n",
    "\n",
    "H0: Различий в остатках у отточных и неотточных клиентов нет.  \n",
    "H1: Различия в остатках у отточных и неотточных клиентов есть.  \n",
    "\n",
    "\n",
    "Гипотезу проверим с помощью критерия Манна-Уитни (распределение похоже на логнормальное)"
   ]
  },
  {
   "cell_type": "code",
   "execution_count": 40,
   "metadata": {},
   "outputs": [
    {
     "name": "stdout",
     "output_type": "stream",
     "text": [
      "p-значение:  2.4600499882458142e-70\n",
      "Отвергаем нулевую гипотезу: разница статистически значима\n"
     ]
    }
   ],
   "source": [
    "#Критерий Манна-Уитни:\n",
    "alpha = 0.05\n",
    "df_churn3 = df[df['churn'] == 1]['balance'].dropna()\n",
    "df_no_churn3 = df[df['churn'] == 0]['balance'].dropna()\n",
    "\n",
    "results = st.mannwhitneyu(df_no_churn3, df_churn3)\n",
    "\n",
    "print('p-значение: ', results.pvalue)\n",
    "\n",
    "if results.pvalue < alpha:\n",
    "    print('Отвергаем нулевую гипотезу: разница статистически значима')\n",
    "else:\n",
    "    print(\n",
    "        'Не получилось отвергнуть нулевую гипотезу, вывод о различии сделать нельзя'\n",
    "    )"
   ]
  },
  {
   "cell_type": "markdown",
   "metadata": {},
   "source": [
    "Разница среднего остатка у отточных и неотточных клиентов статистически значима."
   ]
  },
  {
   "cell_type": "markdown",
   "metadata": {},
   "source": [
    "## Сегментация"
   ]
  },
  {
   "cell_type": "markdown",
   "metadata": {},
   "source": [
    "В данном блоке необходимо выделить сегменты клиентов, склонных к уходу."
   ]
  },
  {
   "cell_type": "code",
   "execution_count": 41,
   "metadata": {},
   "outputs": [
    {
     "data": {
      "text/html": [
       "<div>\n",
       "<style scoped>\n",
       "    .dataframe tbody tr th:only-of-type {\n",
       "        vertical-align: middle;\n",
       "    }\n",
       "\n",
       "    .dataframe tbody tr th {\n",
       "        vertical-align: top;\n",
       "    }\n",
       "\n",
       "    .dataframe thead th {\n",
       "        text-align: right;\n",
       "    }\n",
       "</style>\n",
       "<table border=\"1\" class=\"dataframe\">\n",
       "  <thead>\n",
       "    <tr style=\"text-align: right;\">\n",
       "      <th></th>\n",
       "      <th>churn</th>\n",
       "    </tr>\n",
       "  </thead>\n",
       "  <tbody>\n",
       "    <tr>\n",
       "      <th>mean</th>\n",
       "      <td>0.494318</td>\n",
       "    </tr>\n",
       "    <tr>\n",
       "      <th>sum</th>\n",
       "      <td>348.000000</td>\n",
       "    </tr>\n",
       "    <tr>\n",
       "      <th>count</th>\n",
       "      <td>704.000000</td>\n",
       "    </tr>\n",
       "  </tbody>\n",
       "</table>\n",
       "</div>"
      ],
      "text/plain": [
       "            churn\n",
       "mean     0.494318\n",
       "sum    348.000000\n",
       "count  704.000000"
      ]
     },
     "execution_count": 41,
     "metadata": {},
     "output_type": "execute_result"
    }
   ],
   "source": [
    "segment1 = df.query(\"gender=='М' and equity > 3 and credit_card == 0\").agg({\"churn\":[\"mean\",\"sum\",\"count\"]})\n",
    "segment1"
   ]
  },
  {
   "cell_type": "code",
   "execution_count": 42,
   "metadata": {},
   "outputs": [
    {
     "data": {
      "text/html": [
       "<div>\n",
       "<style scoped>\n",
       "    .dataframe tbody tr th:only-of-type {\n",
       "        vertical-align: middle;\n",
       "    }\n",
       "\n",
       "    .dataframe tbody tr th {\n",
       "        vertical-align: top;\n",
       "    }\n",
       "\n",
       "    .dataframe thead th {\n",
       "        text-align: right;\n",
       "    }\n",
       "</style>\n",
       "<table border=\"1\" class=\"dataframe\">\n",
       "  <thead>\n",
       "    <tr style=\"text-align: right;\">\n",
       "      <th></th>\n",
       "      <th>churn</th>\n",
       "    </tr>\n",
       "  </thead>\n",
       "  <tbody>\n",
       "    <tr>\n",
       "      <th>mean</th>\n",
       "      <td>0.667598</td>\n",
       "    </tr>\n",
       "    <tr>\n",
       "      <th>sum</th>\n",
       "      <td>239.000000</td>\n",
       "    </tr>\n",
       "    <tr>\n",
       "      <th>count</th>\n",
       "      <td>358.000000</td>\n",
       "    </tr>\n",
       "  </tbody>\n",
       "</table>\n",
       "</div>"
      ],
      "text/plain": [
       "            churn\n",
       "mean     0.667598\n",
       "sum    239.000000\n",
       "count  358.000000"
      ]
     },
     "execution_count": 42,
     "metadata": {},
     "output_type": "execute_result"
    }
   ],
   "source": [
    "segment2 = df.query(\"products >3 and score >= 850 and score <= 1000\").agg({\"churn\":[\"mean\",\"sum\",\"count\"]})\n",
    "segment2"
   ]
  },
  {
   "cell_type": "code",
   "execution_count": 43,
   "metadata": {},
   "outputs": [
    {
     "data": {
      "text/html": [
       "<div>\n",
       "<style scoped>\n",
       "    .dataframe tbody tr th:only-of-type {\n",
       "        vertical-align: middle;\n",
       "    }\n",
       "\n",
       "    .dataframe tbody tr th {\n",
       "        vertical-align: top;\n",
       "    }\n",
       "\n",
       "    .dataframe thead th {\n",
       "        text-align: right;\n",
       "    }\n",
       "</style>\n",
       "<table border=\"1\" class=\"dataframe\">\n",
       "  <thead>\n",
       "    <tr style=\"text-align: right;\">\n",
       "      <th></th>\n",
       "      <th>churn</th>\n",
       "    </tr>\n",
       "  </thead>\n",
       "  <tbody>\n",
       "    <tr>\n",
       "      <th>mean</th>\n",
       "      <td>0.472168</td>\n",
       "    </tr>\n",
       "    <tr>\n",
       "      <th>sum</th>\n",
       "      <td>721.000000</td>\n",
       "    </tr>\n",
       "    <tr>\n",
       "      <th>count</th>\n",
       "      <td>1527.000000</td>\n",
       "    </tr>\n",
       "  </tbody>\n",
       "</table>\n",
       "</div>"
      ],
      "text/plain": [
       "             churn\n",
       "mean      0.472168\n",
       "sum     721.000000\n",
       "count  1527.000000"
      ]
     },
     "execution_count": 43,
     "metadata": {},
     "output_type": "execute_result"
    }
   ],
   "source": [
    "segment3 = df.query(\"balance>=700000 and last_activity==1\").agg({\"churn\":[\"mean\",\"sum\",\"count\"]})\n",
    "segment3"
   ]
  },
  {
   "cell_type": "markdown",
   "metadata": {},
   "source": [
    "Смог обнаружить 3 сегмента:  \n",
    "* Мужчины без кредитной карты с оценкой недвижимости более 3\n",
    "* Клиенты, имеющие более 3 продуктов и высокий рейтинг\n",
    "* Активные клиенты с остатками более 700 000 рублей."
   ]
  },
  {
   "cell_type": "markdown",
   "metadata": {},
   "source": [
    "## Выводы и рекомендации"
   ]
  },
  {
   "cell_type": "markdown",
   "metadata": {},
   "source": [
    "По итогам анализа удалось заметить несколько сегментов, у которых уходит интерес к банку:\n",
    "1) Мужчины с высоким баллом недвижимости, но без кредитной карты - такие клиенты скорее всего не имеют продукта, которым регулярно пользуются    \n",
    "2) Клиенты с несколькими продуктами и высоким рейтингом - клиенты, которых точно не устраивают условия банка  \n",
    "3) Активные клиенты с остатком от 700к - по всей видимости этим клиентам чаще не выгодно оставлять деньги в банке (плохие условия размещения накоплений)\n",
    "\n",
    "В сумме три пункта покрывают 995 отточных клиентов (из 1820)."
   ]
  },
  {
   "cell_type": "markdown",
   "metadata": {},
   "source": [
    "Рекомендации:  \n",
    "\n",
    "1) Пересмотреть систему расчёта офферов для кредитных карт - необходимо рассчитать лимит всем клиентам и добавить предложение в мобильный банк. Дополнительно можно предложить повышенный кэшбэк/льготный период на первые месяцы пользования.  \n",
    "2) Клиенты с высоким рейтингом должны получать более выгодные условия относительно других - у них меньше риск. По кредитам и картам можно пересмотреть прайсинг.  \n",
    "3) Также необходимо пересмотреть тарифы на остатки по картам - сейчас они не привлекательны для чеков более 700к. Можно добавить премиум обслуживание, в том числе доверительное управление, инвест услуги и тд"
   ]
  },
  {
   "cell_type": "markdown",
   "metadata": {},
   "source": [
    "Summary.  \n",
    "В рамках проекта \"Анализ оттока клиентов\" получилось:\n",
    "Выделить особенности портрет отточных клиентов:\n",
    "*  Возраст, оценочная зарплата почти не отличаются.  \n",
    "*  Средний балл оценки недвижимости у отточных клиентов почти в полтора раза выше.  \n",
    "*  У отточного клиента также выше среднее колччисевто продуктов (2,37 против 1,76).  \n",
    "*  Кредитная карта реже встречается у отточных клиентов (0,55 против 0,71)  \n",
    "*  Средний показатель активности выше у отточных.  \n",
    "*  Средний остаток у отточных примерно в 1,5 выше  \n",
    "*  Клиенты возраста 25-30 и 50-60 чаще оттекают\n",
    "*  Рейтинг отоочных клиентов чаще всего находится в диапазоне 830-900 баллов\n",
    "*  Клиенты с доходом 100к+ чаще оттекают\n",
    "\n",
    "\n",
    "\n",
    "Выделить основные признаки влияющие на отток:  \n",
    "* Признак, имеющий наибольшую корреляцию - \"Количество баллов собственности\" - 0.35\n",
    "* Признаки, почти не имеющие корреляцию с оттоком - город, зарплата, остатки.\n",
    "* Остальные признаки имеют очень слабую корреляцию в диапазоне 0.14-0.26"
   ]
  }
 ],
 "metadata": {
  "ExecuteTimeLog": [
   {
    "duration": 401,
    "start_time": "2023-11-23T19:49:35.536Z"
   },
   {
    "duration": 80,
    "start_time": "2023-11-23T19:51:08.826Z"
   },
   {
    "duration": 12,
    "start_time": "2023-11-23T19:51:49.493Z"
   },
   {
    "duration": 14,
    "start_time": "2023-11-23T19:56:08.320Z"
   },
   {
    "duration": 13,
    "start_time": "2023-11-23T19:56:13.793Z"
   },
   {
    "duration": 6,
    "start_time": "2023-11-23T19:57:02.636Z"
   },
   {
    "duration": 6,
    "start_time": "2023-11-23T19:57:29.150Z"
   },
   {
    "duration": 7,
    "start_time": "2023-11-23T19:57:42.601Z"
   },
   {
    "duration": 542,
    "start_time": "2023-11-23T19:58:13.568Z"
   },
   {
    "duration": 190,
    "start_time": "2023-11-23T19:58:22.725Z"
   },
   {
    "duration": 4,
    "start_time": "2023-11-23T19:58:31.282Z"
   },
   {
    "duration": 5,
    "start_time": "2023-11-23T19:58:35.354Z"
   },
   {
    "duration": 5,
    "start_time": "2023-11-23T19:58:53.857Z"
   },
   {
    "duration": 135,
    "start_time": "2023-11-23T19:59:39.492Z"
   },
   {
    "duration": 4,
    "start_time": "2023-11-23T19:59:51.626Z"
   },
   {
    "duration": 6,
    "start_time": "2023-11-23T20:00:10.637Z"
   },
   {
    "duration": 5,
    "start_time": "2023-11-23T20:00:34.956Z"
   },
   {
    "duration": 5,
    "start_time": "2023-11-23T20:00:54.293Z"
   },
   {
    "duration": 19,
    "start_time": "2023-11-23T20:01:33.147Z"
   },
   {
    "duration": 190,
    "start_time": "2023-11-23T20:02:28.750Z"
   },
   {
    "duration": 10,
    "start_time": "2023-11-23T20:03:24.013Z"
   },
   {
    "duration": 9,
    "start_time": "2023-11-23T20:03:44.176Z"
   },
   {
    "duration": 6,
    "start_time": "2023-11-23T20:04:18.602Z"
   },
   {
    "duration": 76,
    "start_time": "2023-11-23T20:06:49.407Z"
   },
   {
    "duration": 10,
    "start_time": "2023-11-23T20:07:01.343Z"
   },
   {
    "duration": 10,
    "start_time": "2023-11-23T20:07:53.865Z"
   },
   {
    "duration": 21,
    "start_time": "2023-11-23T20:08:30.226Z"
   },
   {
    "duration": 11,
    "start_time": "2023-11-23T20:08:54.073Z"
   },
   {
    "duration": 23,
    "start_time": "2023-11-23T20:09:00.993Z"
   },
   {
    "duration": 19,
    "start_time": "2023-11-23T20:11:09.279Z"
   },
   {
    "duration": 4,
    "start_time": "2023-11-23T20:14:10.372Z"
   },
   {
    "duration": 5,
    "start_time": "2023-11-23T20:14:18.104Z"
   },
   {
    "duration": 79,
    "start_time": "2023-11-23T20:29:32.111Z"
   },
   {
    "duration": 4,
    "start_time": "2023-11-23T20:31:18.195Z"
   },
   {
    "duration": 9,
    "start_time": "2023-11-23T20:32:33.058Z"
   },
   {
    "duration": 7,
    "start_time": "2023-11-23T20:32:57.436Z"
   },
   {
    "duration": 8,
    "start_time": "2023-11-23T20:34:36.825Z"
   },
   {
    "duration": 94,
    "start_time": "2023-11-23T20:34:54.896Z"
   },
   {
    "duration": 15,
    "start_time": "2023-11-23T20:35:14.771Z"
   },
   {
    "duration": 3,
    "start_time": "2023-11-23T20:37:11.207Z"
   },
   {
    "duration": 3,
    "start_time": "2023-11-23T20:37:13.829Z"
   },
   {
    "duration": 3,
    "start_time": "2023-11-23T20:37:18.237Z"
   },
   {
    "duration": 7,
    "start_time": "2023-11-23T20:37:18.818Z"
   },
   {
    "duration": 4,
    "start_time": "2023-11-23T20:37:32.036Z"
   },
   {
    "duration": 1308,
    "start_time": "2023-11-23T20:37:55.415Z"
   },
   {
    "duration": 77,
    "start_time": "2023-11-23T20:37:56.725Z"
   },
   {
    "duration": 12,
    "start_time": "2023-11-23T20:37:56.803Z"
   },
   {
    "duration": 3,
    "start_time": "2023-11-23T20:37:56.816Z"
   },
   {
    "duration": 4,
    "start_time": "2023-11-23T20:37:56.821Z"
   },
   {
    "duration": 7,
    "start_time": "2023-11-23T20:37:56.826Z"
   },
   {
    "duration": 105,
    "start_time": "2023-11-23T20:37:56.835Z"
   },
   {
    "duration": 0,
    "start_time": "2023-11-23T20:37:56.942Z"
   },
   {
    "duration": 0,
    "start_time": "2023-11-23T20:37:56.943Z"
   },
   {
    "duration": 0,
    "start_time": "2023-11-23T20:37:56.945Z"
   },
   {
    "duration": 0,
    "start_time": "2023-11-23T20:37:56.946Z"
   },
   {
    "duration": 0,
    "start_time": "2023-11-23T20:37:56.947Z"
   },
   {
    "duration": 0,
    "start_time": "2023-11-23T20:37:56.948Z"
   },
   {
    "duration": 0,
    "start_time": "2023-11-23T20:37:56.948Z"
   },
   {
    "duration": 0,
    "start_time": "2023-11-23T20:37:56.949Z"
   },
   {
    "duration": 0,
    "start_time": "2023-11-23T20:37:56.950Z"
   },
   {
    "duration": 0,
    "start_time": "2023-11-23T20:37:56.951Z"
   },
   {
    "duration": 0,
    "start_time": "2023-11-23T20:37:56.952Z"
   },
   {
    "duration": 0,
    "start_time": "2023-11-23T20:37:56.953Z"
   },
   {
    "duration": 0,
    "start_time": "2023-11-23T20:37:56.955Z"
   },
   {
    "duration": 0,
    "start_time": "2023-11-23T20:37:56.956Z"
   },
   {
    "duration": 1269,
    "start_time": "2023-11-23T20:38:32.629Z"
   },
   {
    "duration": 76,
    "start_time": "2023-11-23T20:38:34.461Z"
   },
   {
    "duration": 13,
    "start_time": "2023-11-23T20:38:35.189Z"
   },
   {
    "duration": 3,
    "start_time": "2023-11-23T20:38:36.533Z"
   },
   {
    "duration": 7,
    "start_time": "2023-11-23T20:38:37.739Z"
   },
   {
    "duration": 12,
    "start_time": "2023-11-23T20:38:38.524Z"
   },
   {
    "duration": 13,
    "start_time": "2023-11-23T20:38:39.834Z"
   },
   {
    "duration": 7,
    "start_time": "2023-11-23T20:38:43.157Z"
   },
   {
    "duration": 6,
    "start_time": "2023-11-23T20:38:43.903Z"
   },
   {
    "duration": 5,
    "start_time": "2023-11-23T20:38:45.165Z"
   },
   {
    "duration": 5,
    "start_time": "2023-11-23T20:38:51.254Z"
   },
   {
    "duration": 5,
    "start_time": "2023-11-23T20:38:52.209Z"
   },
   {
    "duration": 5,
    "start_time": "2023-11-23T20:38:56.704Z"
   },
   {
    "duration": 11,
    "start_time": "2023-11-23T20:39:22.549Z"
   },
   {
    "duration": 9,
    "start_time": "2023-11-23T20:39:41.164Z"
   },
   {
    "duration": 5,
    "start_time": "2023-11-23T20:39:52.142Z"
   },
   {
    "duration": 7,
    "start_time": "2023-11-23T20:40:00.826Z"
   },
   {
    "duration": 4,
    "start_time": "2023-11-23T20:40:03.636Z"
   },
   {
    "duration": 8,
    "start_time": "2023-11-23T20:40:04.471Z"
   },
   {
    "duration": 184,
    "start_time": "2023-11-23T20:40:15.596Z"
   },
   {
    "duration": 10,
    "start_time": "2023-11-23T20:41:03.807Z"
   },
   {
    "duration": 8,
    "start_time": "2023-11-23T20:41:05.548Z"
   },
   {
    "duration": 18,
    "start_time": "2023-11-23T20:41:06.387Z"
   },
   {
    "duration": 101,
    "start_time": "2023-11-23T20:41:26.016Z"
   },
   {
    "duration": 37,
    "start_time": "2023-11-23T20:41:29.838Z"
   },
   {
    "duration": 18,
    "start_time": "2023-11-23T20:45:42.029Z"
   },
   {
    "duration": 4,
    "start_time": "2023-11-23T20:47:30.062Z"
   },
   {
    "duration": 4,
    "start_time": "2023-11-23T20:47:30.569Z"
   },
   {
    "duration": 3,
    "start_time": "2023-11-23T20:54:40.104Z"
   },
   {
    "duration": 6,
    "start_time": "2023-11-23T21:03:05.834Z"
   },
   {
    "duration": 10,
    "start_time": "2023-11-23T21:03:42.159Z"
   },
   {
    "duration": 16,
    "start_time": "2023-11-23T21:05:29.515Z"
   },
   {
    "duration": 1543,
    "start_time": "2023-11-24T18:32:49.422Z"
   },
   {
    "duration": 138,
    "start_time": "2023-11-24T18:32:50.967Z"
   },
   {
    "duration": 13,
    "start_time": "2023-11-24T18:32:51.106Z"
   },
   {
    "duration": 42,
    "start_time": "2023-11-24T18:32:51.121Z"
   },
   {
    "duration": 3,
    "start_time": "2023-11-24T18:32:51.166Z"
   },
   {
    "duration": 9,
    "start_time": "2023-11-24T18:32:51.171Z"
   },
   {
    "duration": 34,
    "start_time": "2023-11-24T18:32:51.181Z"
   },
   {
    "duration": 7,
    "start_time": "2023-11-24T18:32:51.218Z"
   },
   {
    "duration": 28,
    "start_time": "2023-11-24T18:32:51.227Z"
   },
   {
    "duration": 8,
    "start_time": "2023-11-24T18:32:51.257Z"
   },
   {
    "duration": 11,
    "start_time": "2023-11-24T18:32:51.267Z"
   },
   {
    "duration": 32,
    "start_time": "2023-11-24T18:32:51.280Z"
   },
   {
    "duration": 16,
    "start_time": "2023-11-24T18:32:51.314Z"
   },
   {
    "duration": 406,
    "start_time": "2023-11-24T18:49:11.242Z"
   },
   {
    "duration": 405,
    "start_time": "2023-11-24T18:49:38.470Z"
   },
   {
    "duration": 369,
    "start_time": "2023-11-24T18:51:33.405Z"
   },
   {
    "duration": 560,
    "start_time": "2023-11-24T18:51:45.267Z"
   },
   {
    "duration": 599,
    "start_time": "2023-11-24T18:53:44.757Z"
   },
   {
    "duration": 511,
    "start_time": "2023-11-24T18:53:55.595Z"
   },
   {
    "duration": 595,
    "start_time": "2023-11-24T18:54:06.554Z"
   },
   {
    "duration": 490,
    "start_time": "2023-11-24T18:55:11.830Z"
   },
   {
    "duration": 484,
    "start_time": "2023-11-24T18:55:24.478Z"
   },
   {
    "duration": 17,
    "start_time": "2023-11-24T18:56:21.852Z"
   },
   {
    "duration": 13,
    "start_time": "2023-11-24T18:56:43.110Z"
   },
   {
    "duration": 16,
    "start_time": "2023-11-24T18:58:01.023Z"
   },
   {
    "duration": 14,
    "start_time": "2023-11-24T18:58:17.586Z"
   },
   {
    "duration": 17,
    "start_time": "2023-11-24T18:59:02.582Z"
   },
   {
    "duration": 14,
    "start_time": "2023-11-24T18:59:44.743Z"
   },
   {
    "duration": 14,
    "start_time": "2023-11-24T18:59:49.434Z"
   },
   {
    "duration": 18,
    "start_time": "2023-11-24T19:00:00.477Z"
   },
   {
    "duration": 19,
    "start_time": "2023-11-24T19:02:39.610Z"
   },
   {
    "duration": 958,
    "start_time": "2023-11-24T19:03:19.195Z"
   },
   {
    "duration": 775,
    "start_time": "2023-11-24T19:03:54.891Z"
   },
   {
    "duration": 4,
    "start_time": "2023-11-24T19:11:20.281Z"
   },
   {
    "duration": 88,
    "start_time": "2023-11-24T19:12:10.314Z"
   },
   {
    "duration": 3,
    "start_time": "2023-11-24T19:12:20.085Z"
   },
   {
    "duration": 13,
    "start_time": "2023-11-24T19:12:34.262Z"
   },
   {
    "duration": 3,
    "start_time": "2023-11-24T19:12:49.612Z"
   },
   {
    "duration": 4,
    "start_time": "2023-11-24T19:12:49.992Z"
   },
   {
    "duration": 4,
    "start_time": "2023-11-24T19:13:13.473Z"
   },
   {
    "duration": 8,
    "start_time": "2023-11-24T19:13:13.866Z"
   },
   {
    "duration": 155,
    "start_time": "2023-11-24T19:14:53.478Z"
   },
   {
    "duration": 7,
    "start_time": "2023-11-24T19:15:19.294Z"
   },
   {
    "duration": 3,
    "start_time": "2023-11-24T19:15:41.278Z"
   },
   {
    "duration": 4,
    "start_time": "2023-11-24T19:15:42.107Z"
   },
   {
    "duration": 3,
    "start_time": "2023-11-24T19:15:59.943Z"
   },
   {
    "duration": 4,
    "start_time": "2023-11-24T19:16:00.360Z"
   },
   {
    "duration": 3,
    "start_time": "2023-11-24T19:16:08.798Z"
   },
   {
    "duration": 4,
    "start_time": "2023-11-24T19:16:09.234Z"
   },
   {
    "duration": 4,
    "start_time": "2023-11-24T19:16:14.334Z"
   },
   {
    "duration": 10,
    "start_time": "2023-11-24T19:16:14.712Z"
   },
   {
    "duration": 82,
    "start_time": "2023-11-24T19:16:40.403Z"
   },
   {
    "duration": 6,
    "start_time": "2023-11-24T19:17:36.483Z"
   },
   {
    "duration": 107,
    "start_time": "2023-11-24T19:17:57.469Z"
   },
   {
    "duration": 8,
    "start_time": "2023-11-24T19:20:23.213Z"
   },
   {
    "duration": 7,
    "start_time": "2023-11-24T19:20:24.530Z"
   },
   {
    "duration": 9,
    "start_time": "2023-11-24T19:20:37.028Z"
   },
   {
    "duration": 8,
    "start_time": "2023-11-24T19:20:37.525Z"
   },
   {
    "duration": 10,
    "start_time": "2023-11-24T19:21:07.166Z"
   },
   {
    "duration": 4,
    "start_time": "2023-11-24T19:21:21.148Z"
   },
   {
    "duration": 10,
    "start_time": "2023-11-24T19:21:21.583Z"
   },
   {
    "duration": 4,
    "start_time": "2023-11-24T19:24:16.986Z"
   },
   {
    "duration": 19,
    "start_time": "2023-11-24T19:24:17.821Z"
   },
   {
    "duration": 4,
    "start_time": "2023-11-24T19:24:32.785Z"
   },
   {
    "duration": 9,
    "start_time": "2023-11-24T19:24:33.248Z"
   },
   {
    "duration": 4,
    "start_time": "2023-11-24T19:28:13.469Z"
   },
   {
    "duration": 11,
    "start_time": "2023-11-24T19:28:14.023Z"
   },
   {
    "duration": 12,
    "start_time": "2023-11-24T19:28:36.712Z"
   },
   {
    "duration": 11,
    "start_time": "2023-11-24T19:28:37.831Z"
   },
   {
    "duration": 7,
    "start_time": "2023-11-24T19:28:45.819Z"
   },
   {
    "duration": 11,
    "start_time": "2023-11-24T19:28:46.174Z"
   },
   {
    "duration": 4,
    "start_time": "2023-11-24T19:28:51.477Z"
   },
   {
    "duration": 14,
    "start_time": "2023-11-24T19:28:51.733Z"
   },
   {
    "duration": 6,
    "start_time": "2023-11-24T19:29:14.819Z"
   },
   {
    "duration": 13,
    "start_time": "2023-11-24T19:29:15.871Z"
   },
   {
    "duration": 6,
    "start_time": "2023-11-24T19:29:24.998Z"
   },
   {
    "duration": 14,
    "start_time": "2023-11-24T19:29:25.765Z"
   },
   {
    "duration": 6,
    "start_time": "2023-11-24T19:29:30.342Z"
   },
   {
    "duration": 13,
    "start_time": "2023-11-24T19:29:30.561Z"
   },
   {
    "duration": 12,
    "start_time": "2023-11-24T19:30:04.516Z"
   },
   {
    "duration": 12,
    "start_time": "2023-11-24T19:30:14.675Z"
   },
   {
    "duration": 6,
    "start_time": "2023-11-24T19:30:19.449Z"
   },
   {
    "duration": 7,
    "start_time": "2023-11-24T19:31:37.042Z"
   },
   {
    "duration": 19,
    "start_time": "2023-11-24T19:31:38.021Z"
   },
   {
    "duration": 6,
    "start_time": "2023-11-24T19:31:47.661Z"
   },
   {
    "duration": 14,
    "start_time": "2023-11-24T19:31:48.028Z"
   },
   {
    "duration": 5,
    "start_time": "2023-11-24T19:32:40.339Z"
   },
   {
    "duration": 18,
    "start_time": "2023-11-24T19:32:40.711Z"
   },
   {
    "duration": 5,
    "start_time": "2023-11-24T19:32:48.019Z"
   },
   {
    "duration": 16,
    "start_time": "2023-11-24T19:32:48.378Z"
   },
   {
    "duration": 5,
    "start_time": "2023-11-24T19:33:02.746Z"
   },
   {
    "duration": 17,
    "start_time": "2023-11-24T19:33:03.086Z"
   },
   {
    "duration": 6,
    "start_time": "2023-11-24T19:33:11.308Z"
   },
   {
    "duration": 22,
    "start_time": "2023-11-24T19:33:11.676Z"
   },
   {
    "duration": 6,
    "start_time": "2023-11-24T19:33:16.676Z"
   },
   {
    "duration": 17,
    "start_time": "2023-11-24T19:33:17.032Z"
   },
   {
    "duration": 4,
    "start_time": "2023-11-24T19:34:01.933Z"
   },
   {
    "duration": 16,
    "start_time": "2023-11-24T19:34:02.524Z"
   },
   {
    "duration": 10,
    "start_time": "2023-11-24T19:34:13.803Z"
   },
   {
    "duration": 15,
    "start_time": "2023-11-24T19:34:14.257Z"
   },
   {
    "duration": 5,
    "start_time": "2023-11-24T19:34:33.069Z"
   },
   {
    "duration": 22,
    "start_time": "2023-11-24T19:34:33.500Z"
   },
   {
    "duration": 20,
    "start_time": "2023-11-24T20:10:55.946Z"
   },
   {
    "duration": 23,
    "start_time": "2023-11-24T20:11:48.062Z"
   },
   {
    "duration": 3,
    "start_time": "2023-11-24T20:18:53.564Z"
   },
   {
    "duration": 23,
    "start_time": "2023-11-24T20:19:26.656Z"
   },
   {
    "duration": 4,
    "start_time": "2023-11-24T20:20:01.736Z"
   },
   {
    "duration": 9,
    "start_time": "2023-11-24T20:20:02.172Z"
   },
   {
    "duration": 1912,
    "start_time": "2023-11-24T20:20:09.868Z"
   },
   {
    "duration": 17,
    "start_time": "2023-11-24T20:20:30.335Z"
   },
   {
    "duration": 3,
    "start_time": "2023-11-24T20:20:51.621Z"
   },
   {
    "duration": 1691,
    "start_time": "2023-11-24T20:20:53.760Z"
   },
   {
    "duration": 3,
    "start_time": "2023-11-24T20:21:07.525Z"
   },
   {
    "duration": 23,
    "start_time": "2023-11-24T20:21:09.262Z"
   },
   {
    "duration": 21,
    "start_time": "2023-11-24T20:21:59.048Z"
   },
   {
    "duration": 16,
    "start_time": "2023-11-24T20:22:05.924Z"
   },
   {
    "duration": 5,
    "start_time": "2023-11-24T20:23:31.013Z"
   },
   {
    "duration": 15,
    "start_time": "2023-11-24T20:23:32.182Z"
   },
   {
    "duration": 322,
    "start_time": "2023-11-24T20:23:33.255Z"
   },
   {
    "duration": 20,
    "start_time": "2023-11-24T20:24:04.524Z"
   },
   {
    "duration": 20,
    "start_time": "2023-11-24T20:24:16.438Z"
   },
   {
    "duration": 319,
    "start_time": "2023-11-24T20:24:22.478Z"
   },
   {
    "duration": 19,
    "start_time": "2023-11-24T20:24:31.656Z"
   },
   {
    "duration": 5,
    "start_time": "2023-11-24T20:24:39.621Z"
   },
   {
    "duration": 23,
    "start_time": "2023-11-24T20:24:40.771Z"
   },
   {
    "duration": 4,
    "start_time": "2023-11-24T20:25:08.270Z"
   },
   {
    "duration": 26,
    "start_time": "2023-11-24T20:25:09.702Z"
   },
   {
    "duration": 89,
    "start_time": "2023-11-24T20:25:38.461Z"
   },
   {
    "duration": 4,
    "start_time": "2023-11-24T20:25:46.690Z"
   },
   {
    "duration": 17,
    "start_time": "2023-11-24T20:25:47.482Z"
   },
   {
    "duration": 27,
    "start_time": "2023-11-24T20:25:48.122Z"
   },
   {
    "duration": 4,
    "start_time": "2023-11-24T20:26:21.939Z"
   },
   {
    "duration": 17,
    "start_time": "2023-11-24T20:26:22.348Z"
   },
   {
    "duration": 27,
    "start_time": "2023-11-24T20:26:23.124Z"
   },
   {
    "duration": 27,
    "start_time": "2023-11-24T20:26:25.061Z"
   },
   {
    "duration": 28,
    "start_time": "2023-11-24T20:26:26.026Z"
   },
   {
    "duration": 4,
    "start_time": "2023-11-24T20:26:31.421Z"
   },
   {
    "duration": 16,
    "start_time": "2023-11-24T20:26:31.848Z"
   },
   {
    "duration": 19,
    "start_time": "2023-11-24T20:26:32.353Z"
   },
   {
    "duration": 5,
    "start_time": "2023-11-24T20:26:44.988Z"
   },
   {
    "duration": 33,
    "start_time": "2023-11-24T20:26:45.586Z"
   },
   {
    "duration": 41,
    "start_time": "2023-11-24T20:26:46.175Z"
   },
   {
    "duration": 60,
    "start_time": "2023-11-24T20:30:27.024Z"
   },
   {
    "duration": 75,
    "start_time": "2023-11-24T20:31:36.470Z"
   },
   {
    "duration": 82,
    "start_time": "2023-11-24T20:36:16.184Z"
   },
   {
    "duration": 7,
    "start_time": "2023-11-24T20:36:21.262Z"
   },
   {
    "duration": 5,
    "start_time": "2023-11-24T20:36:32.137Z"
   },
   {
    "duration": 5,
    "start_time": "2023-11-24T20:36:41.563Z"
   },
   {
    "duration": 126,
    "start_time": "2023-11-24T20:36:49.336Z"
   },
   {
    "duration": 121,
    "start_time": "2023-11-24T20:37:15.323Z"
   },
   {
    "duration": 794,
    "start_time": "2023-11-24T20:37:27.762Z"
   },
   {
    "duration": 105,
    "start_time": "2023-11-24T20:37:44.434Z"
   },
   {
    "duration": 951,
    "start_time": "2023-11-24T20:38:01.619Z"
   },
   {
    "duration": 586,
    "start_time": "2023-11-24T20:38:07.341Z"
   },
   {
    "duration": 358,
    "start_time": "2023-11-24T20:39:11.790Z"
   },
   {
    "duration": 234,
    "start_time": "2023-11-24T20:40:30.153Z"
   },
   {
    "duration": 500,
    "start_time": "2023-11-24T20:41:17.020Z"
   },
   {
    "duration": 346,
    "start_time": "2023-11-24T20:41:29.121Z"
   },
   {
    "duration": 352,
    "start_time": "2023-11-24T20:41:47.178Z"
   },
   {
    "duration": 399,
    "start_time": "2023-11-24T20:42:36.678Z"
   },
   {
    "duration": 149,
    "start_time": "2023-11-24T20:42:45.480Z"
   },
   {
    "duration": 1090,
    "start_time": "2023-11-24T20:43:53.305Z"
   },
   {
    "duration": 3,
    "start_time": "2023-11-24T20:44:28.497Z"
   },
   {
    "duration": 6,
    "start_time": "2023-11-24T20:44:36.893Z"
   },
   {
    "duration": 12,
    "start_time": "2023-11-24T20:45:39.369Z"
   },
   {
    "duration": 18,
    "start_time": "2023-11-24T20:45:50.356Z"
   },
   {
    "duration": 18,
    "start_time": "2023-11-24T20:46:51.282Z"
   },
   {
    "duration": 18,
    "start_time": "2023-11-24T20:46:56.098Z"
   },
   {
    "duration": 333,
    "start_time": "2023-11-24T20:47:18.751Z"
   },
   {
    "duration": 486,
    "start_time": "2023-11-24T20:48:39.164Z"
   },
   {
    "duration": 416,
    "start_time": "2023-11-24T20:50:45.719Z"
   },
   {
    "duration": 380,
    "start_time": "2023-11-24T20:51:18.019Z"
   },
   {
    "duration": 21,
    "start_time": "2023-11-24T21:10:05.341Z"
   },
   {
    "duration": 4,
    "start_time": "2023-11-24T21:21:46.818Z"
   },
   {
    "duration": 923,
    "start_time": "2023-11-24T21:21:47.913Z"
   },
   {
    "duration": 4,
    "start_time": "2023-11-24T21:23:35.299Z"
   },
   {
    "duration": 27,
    "start_time": "2023-11-24T21:23:36.142Z"
   },
   {
    "duration": 25,
    "start_time": "2023-11-24T21:25:05.319Z"
   },
   {
    "duration": 21,
    "start_time": "2023-11-24T21:25:16.518Z"
   },
   {
    "duration": 16,
    "start_time": "2023-11-24T21:28:42.049Z"
   },
   {
    "duration": 15,
    "start_time": "2023-11-24T21:28:56.854Z"
   },
   {
    "duration": 19,
    "start_time": "2023-11-24T21:29:38.161Z"
   },
   {
    "duration": 204,
    "start_time": "2023-11-24T21:30:02.775Z"
   },
   {
    "duration": 18,
    "start_time": "2023-11-24T21:30:24.439Z"
   },
   {
    "duration": 196,
    "start_time": "2023-11-24T21:30:32.425Z"
   },
   {
    "duration": 23,
    "start_time": "2023-11-24T21:31:13.272Z"
   },
   {
    "duration": 21,
    "start_time": "2023-11-24T21:31:26.221Z"
   },
   {
    "duration": 153,
    "start_time": "2023-11-24T21:33:42.359Z"
   },
   {
    "duration": 4,
    "start_time": "2023-11-24T21:34:42.522Z"
   },
   {
    "duration": 1024,
    "start_time": "2023-11-24T21:34:43.575Z"
   },
   {
    "duration": 4,
    "start_time": "2023-11-24T21:34:53.019Z"
   },
   {
    "duration": 869,
    "start_time": "2023-11-24T21:34:53.542Z"
   },
   {
    "duration": 18,
    "start_time": "2023-11-24T21:36:18.983Z"
   },
   {
    "duration": 1702,
    "start_time": "2023-11-24T21:37:23.340Z"
   },
   {
    "duration": 10,
    "start_time": "2023-11-24T21:37:30.223Z"
   },
   {
    "duration": 14,
    "start_time": "2023-11-24T21:38:51.244Z"
   },
   {
    "duration": 10,
    "start_time": "2023-11-24T21:43:52.388Z"
   },
   {
    "duration": 11,
    "start_time": "2023-11-24T21:44:48.481Z"
   },
   {
    "duration": 89,
    "start_time": "2023-11-24T21:46:18.353Z"
   },
   {
    "duration": 11,
    "start_time": "2023-11-24T21:46:25.119Z"
   },
   {
    "duration": 85,
    "start_time": "2023-11-24T21:47:04.518Z"
   },
   {
    "duration": 3731,
    "start_time": "2023-11-24T21:47:10.238Z"
   },
   {
    "duration": 4,
    "start_time": "2023-11-24T21:47:28.238Z"
   },
   {
    "duration": 1330,
    "start_time": "2023-11-24T21:47:28.244Z"
   },
   {
    "duration": 146,
    "start_time": "2023-11-24T21:47:29.576Z"
   },
   {
    "duration": 18,
    "start_time": "2023-11-24T21:47:29.725Z"
   },
   {
    "duration": 41,
    "start_time": "2023-11-24T21:47:29.746Z"
   },
   {
    "duration": 29,
    "start_time": "2023-11-24T21:47:29.788Z"
   },
   {
    "duration": 9,
    "start_time": "2023-11-24T21:47:29.819Z"
   },
   {
    "duration": 14,
    "start_time": "2023-11-24T21:47:29.830Z"
   },
   {
    "duration": 14,
    "start_time": "2023-11-24T21:47:29.846Z"
   },
   {
    "duration": 12,
    "start_time": "2023-11-24T21:47:29.861Z"
   },
   {
    "duration": 8,
    "start_time": "2023-11-24T21:47:29.875Z"
   },
   {
    "duration": 28,
    "start_time": "2023-11-24T21:47:29.885Z"
   },
   {
    "duration": 10,
    "start_time": "2023-11-24T21:47:29.917Z"
   },
   {
    "duration": 20,
    "start_time": "2023-11-24T21:47:29.930Z"
   },
   {
    "duration": 4,
    "start_time": "2023-11-24T21:47:29.952Z"
   },
   {
    "duration": 29,
    "start_time": "2023-11-24T21:47:29.957Z"
   },
   {
    "duration": 34,
    "start_time": "2023-11-24T21:47:29.987Z"
   },
   {
    "duration": 944,
    "start_time": "2023-11-24T21:47:30.023Z"
   },
   {
    "duration": 460,
    "start_time": "2023-11-24T21:47:30.969Z"
   },
   {
    "duration": 349,
    "start_time": "2023-11-24T21:47:31.430Z"
   },
   {
    "duration": 369,
    "start_time": "2023-11-24T21:47:31.781Z"
   },
   {
    "duration": 372,
    "start_time": "2023-11-24T21:47:32.152Z"
   },
   {
    "duration": 12,
    "start_time": "2023-11-24T21:47:32.526Z"
   },
   {
    "duration": 135,
    "start_time": "2023-11-24T21:47:32.539Z"
   },
   {
    "duration": 5,
    "start_time": "2023-11-24T21:47:44.026Z"
   },
   {
    "duration": 21803,
    "start_time": "2023-11-24T21:49:06.999Z"
   },
   {
    "duration": 87,
    "start_time": "2023-11-24T21:50:29.470Z"
   },
   {
    "duration": 76,
    "start_time": "2023-11-24T21:50:35.685Z"
   },
   {
    "duration": 19,
    "start_time": "2023-11-24T21:51:20.678Z"
   },
   {
    "duration": 15,
    "start_time": "2023-11-24T21:51:32.318Z"
   },
   {
    "duration": 17,
    "start_time": "2023-11-24T21:51:36.118Z"
   },
   {
    "duration": 84,
    "start_time": "2023-11-24T21:52:30.660Z"
   },
   {
    "duration": 89,
    "start_time": "2023-11-24T21:53:38.051Z"
   },
   {
    "duration": 77,
    "start_time": "2023-11-24T21:53:46.805Z"
   },
   {
    "duration": 20,
    "start_time": "2023-11-24T21:54:02.035Z"
   },
   {
    "duration": 483,
    "start_time": "2023-11-24T21:54:22.862Z"
   },
   {
    "duration": 4,
    "start_time": "2023-11-27T18:41:15.224Z"
   },
   {
    "duration": 1556,
    "start_time": "2023-11-27T18:41:15.229Z"
   },
   {
    "duration": 0,
    "start_time": "2023-11-27T18:41:16.788Z"
   },
   {
    "duration": 0,
    "start_time": "2023-11-27T18:41:16.789Z"
   },
   {
    "duration": 0,
    "start_time": "2023-11-27T18:41:16.790Z"
   },
   {
    "duration": 0,
    "start_time": "2023-11-27T18:41:16.792Z"
   },
   {
    "duration": 0,
    "start_time": "2023-11-27T18:41:16.793Z"
   },
   {
    "duration": 0,
    "start_time": "2023-11-27T18:41:16.795Z"
   },
   {
    "duration": 0,
    "start_time": "2023-11-27T18:41:16.796Z"
   },
   {
    "duration": 0,
    "start_time": "2023-11-27T18:41:16.797Z"
   },
   {
    "duration": 0,
    "start_time": "2023-11-27T18:41:16.798Z"
   },
   {
    "duration": 0,
    "start_time": "2023-11-27T18:41:16.799Z"
   },
   {
    "duration": 0,
    "start_time": "2023-11-27T18:41:16.801Z"
   },
   {
    "duration": 0,
    "start_time": "2023-11-27T18:41:16.802Z"
   },
   {
    "duration": 0,
    "start_time": "2023-11-27T18:41:16.804Z"
   },
   {
    "duration": 0,
    "start_time": "2023-11-27T18:41:16.805Z"
   },
   {
    "duration": 0,
    "start_time": "2023-11-27T18:41:16.807Z"
   },
   {
    "duration": 0,
    "start_time": "2023-11-27T18:41:16.808Z"
   },
   {
    "duration": 0,
    "start_time": "2023-11-27T18:41:16.809Z"
   },
   {
    "duration": 0,
    "start_time": "2023-11-27T18:41:16.812Z"
   },
   {
    "duration": 0,
    "start_time": "2023-11-27T18:41:16.852Z"
   },
   {
    "duration": 0,
    "start_time": "2023-11-27T18:41:16.854Z"
   },
   {
    "duration": 0,
    "start_time": "2023-11-27T18:41:16.854Z"
   },
   {
    "duration": 5,
    "start_time": "2023-11-27T18:41:50.624Z"
   },
   {
    "duration": 1256,
    "start_time": "2023-11-27T18:41:50.631Z"
   },
   {
    "duration": 0,
    "start_time": "2023-11-27T18:41:51.889Z"
   },
   {
    "duration": 0,
    "start_time": "2023-11-27T18:41:51.890Z"
   },
   {
    "duration": 0,
    "start_time": "2023-11-27T18:41:51.891Z"
   },
   {
    "duration": 0,
    "start_time": "2023-11-27T18:41:51.892Z"
   },
   {
    "duration": 0,
    "start_time": "2023-11-27T18:41:51.893Z"
   },
   {
    "duration": 0,
    "start_time": "2023-11-27T18:41:51.894Z"
   },
   {
    "duration": 0,
    "start_time": "2023-11-27T18:41:51.895Z"
   },
   {
    "duration": 0,
    "start_time": "2023-11-27T18:41:51.896Z"
   },
   {
    "duration": 0,
    "start_time": "2023-11-27T18:41:51.897Z"
   },
   {
    "duration": 0,
    "start_time": "2023-11-27T18:41:51.898Z"
   },
   {
    "duration": 0,
    "start_time": "2023-11-27T18:41:51.899Z"
   },
   {
    "duration": 0,
    "start_time": "2023-11-27T18:41:51.900Z"
   },
   {
    "duration": 0,
    "start_time": "2023-11-27T18:41:51.901Z"
   },
   {
    "duration": 0,
    "start_time": "2023-11-27T18:41:51.902Z"
   },
   {
    "duration": 0,
    "start_time": "2023-11-27T18:41:51.903Z"
   },
   {
    "duration": 0,
    "start_time": "2023-11-27T18:41:51.904Z"
   },
   {
    "duration": 0,
    "start_time": "2023-11-27T18:41:51.905Z"
   },
   {
    "duration": 0,
    "start_time": "2023-11-27T18:41:51.906Z"
   },
   {
    "duration": 0,
    "start_time": "2023-11-27T18:41:51.907Z"
   },
   {
    "duration": 0,
    "start_time": "2023-11-27T18:41:51.908Z"
   },
   {
    "duration": 0,
    "start_time": "2023-11-27T18:41:51.909Z"
   },
   {
    "duration": 3309,
    "start_time": "2023-11-27T18:42:05.105Z"
   },
   {
    "duration": 2280,
    "start_time": "2023-11-27T18:42:16.391Z"
   },
   {
    "duration": 1237,
    "start_time": "2023-11-27T18:42:18.673Z"
   },
   {
    "duration": 108,
    "start_time": "2023-11-27T18:42:19.912Z"
   },
   {
    "duration": 12,
    "start_time": "2023-11-27T18:42:20.022Z"
   },
   {
    "duration": 38,
    "start_time": "2023-11-27T18:42:20.036Z"
   },
   {
    "duration": 4,
    "start_time": "2023-11-27T18:42:20.075Z"
   },
   {
    "duration": 9,
    "start_time": "2023-11-27T18:42:20.080Z"
   },
   {
    "duration": 12,
    "start_time": "2023-11-27T18:42:20.090Z"
   },
   {
    "duration": 7,
    "start_time": "2023-11-27T18:42:20.103Z"
   },
   {
    "duration": 7,
    "start_time": "2023-11-27T18:42:20.111Z"
   },
   {
    "duration": 34,
    "start_time": "2023-11-27T18:42:20.119Z"
   },
   {
    "duration": 14,
    "start_time": "2023-11-27T18:42:20.154Z"
   },
   {
    "duration": 8,
    "start_time": "2023-11-27T18:42:20.170Z"
   },
   {
    "duration": 15,
    "start_time": "2023-11-27T18:42:20.181Z"
   },
   {
    "duration": 4,
    "start_time": "2023-11-27T18:42:20.197Z"
   },
   {
    "duration": 64,
    "start_time": "2023-11-27T18:42:20.203Z"
   },
   {
    "duration": 3,
    "start_time": "2023-11-27T18:42:20.268Z"
   },
   {
    "duration": 798,
    "start_time": "2023-11-27T18:42:20.272Z"
   },
   {
    "duration": 374,
    "start_time": "2023-11-27T18:42:21.071Z"
   },
   {
    "duration": 298,
    "start_time": "2023-11-27T18:42:21.446Z"
   },
   {
    "duration": 329,
    "start_time": "2023-11-27T18:42:21.746Z"
   },
   {
    "duration": 319,
    "start_time": "2023-11-27T18:42:22.077Z"
   },
   {
    "duration": 374,
    "start_time": "2023-11-27T18:42:22.397Z"
   },
   {
    "duration": 84,
    "start_time": "2023-11-27T18:54:16.195Z"
   },
   {
    "duration": 14,
    "start_time": "2023-11-27T18:54:22.223Z"
   },
   {
    "duration": 8,
    "start_time": "2023-11-27T18:56:42.901Z"
   },
   {
    "duration": 15,
    "start_time": "2023-11-27T18:59:13.449Z"
   },
   {
    "duration": 9,
    "start_time": "2023-11-27T19:13:31.868Z"
   },
   {
    "duration": 8,
    "start_time": "2023-11-27T19:13:45.859Z"
   },
   {
    "duration": 8,
    "start_time": "2023-11-27T19:14:03.418Z"
   },
   {
    "duration": 14,
    "start_time": "2023-11-27T19:14:24.298Z"
   },
   {
    "duration": 5,
    "start_time": "2023-11-27T19:14:39.538Z"
   },
   {
    "duration": 3,
    "start_time": "2023-11-27T19:14:56.239Z"
   },
   {
    "duration": 3,
    "start_time": "2023-11-27T19:15:17.697Z"
   },
   {
    "duration": 7,
    "start_time": "2023-11-27T19:21:20.529Z"
   },
   {
    "duration": 9,
    "start_time": "2023-11-27T19:22:31.371Z"
   },
   {
    "duration": 9,
    "start_time": "2023-11-27T19:22:32.289Z"
   },
   {
    "duration": 11,
    "start_time": "2023-11-27T19:22:33.947Z"
   },
   {
    "duration": 5,
    "start_time": "2023-11-27T19:23:03.390Z"
   },
   {
    "duration": 14,
    "start_time": "2023-11-27T19:23:04.777Z"
   },
   {
    "duration": 13,
    "start_time": "2023-11-27T19:23:29.547Z"
   },
   {
    "duration": 7,
    "start_time": "2023-11-27T19:31:49.095Z"
   },
   {
    "duration": 9,
    "start_time": "2023-11-27T19:32:11.800Z"
   },
   {
    "duration": 2,
    "start_time": "2023-11-27T19:34:51.781Z"
   },
   {
    "duration": 797,
    "start_time": "2023-11-27T19:53:07.101Z"
   },
   {
    "duration": 2237,
    "start_time": "2023-11-27T21:02:34.760Z"
   },
   {
    "duration": 1127,
    "start_time": "2023-11-27T21:02:36.999Z"
   },
   {
    "duration": 86,
    "start_time": "2023-11-27T21:02:38.128Z"
   },
   {
    "duration": 11,
    "start_time": "2023-11-27T21:02:38.216Z"
   },
   {
    "duration": 34,
    "start_time": "2023-11-27T21:02:38.229Z"
   },
   {
    "duration": 3,
    "start_time": "2023-11-27T21:02:38.264Z"
   },
   {
    "duration": 8,
    "start_time": "2023-11-27T21:02:38.268Z"
   },
   {
    "duration": 12,
    "start_time": "2023-11-27T21:02:38.278Z"
   },
   {
    "duration": 7,
    "start_time": "2023-11-27T21:02:38.291Z"
   },
   {
    "duration": 12,
    "start_time": "2023-11-27T21:02:38.299Z"
   },
   {
    "duration": 7,
    "start_time": "2023-11-27T21:02:38.313Z"
   },
   {
    "duration": 32,
    "start_time": "2023-11-27T21:02:38.321Z"
   },
   {
    "duration": 8,
    "start_time": "2023-11-27T21:02:38.355Z"
   },
   {
    "duration": 20,
    "start_time": "2023-11-27T21:02:38.365Z"
   },
   {
    "duration": 4,
    "start_time": "2023-11-27T21:02:38.387Z"
   },
   {
    "duration": 31,
    "start_time": "2023-11-27T21:02:38.392Z"
   },
   {
    "duration": 27,
    "start_time": "2023-11-27T21:02:38.425Z"
   },
   {
    "duration": 690,
    "start_time": "2023-11-27T21:02:38.453Z"
   },
   {
    "duration": 336,
    "start_time": "2023-11-27T21:02:39.144Z"
   },
   {
    "duration": 293,
    "start_time": "2023-11-27T21:02:39.481Z"
   },
   {
    "duration": 287,
    "start_time": "2023-11-27T21:02:39.776Z"
   },
   {
    "duration": 289,
    "start_time": "2023-11-27T21:02:40.065Z"
   },
   {
    "duration": 345,
    "start_time": "2023-11-27T21:02:40.356Z"
   },
   {
    "duration": 7,
    "start_time": "2023-11-27T21:02:40.702Z"
   },
   {
    "duration": 21,
    "start_time": "2023-11-27T21:02:40.711Z"
   },
   {
    "duration": 16,
    "start_time": "2023-11-27T21:02:40.733Z"
   },
   {
    "duration": 7,
    "start_time": "2023-11-27T21:02:40.750Z"
   },
   {
    "duration": 417,
    "start_time": "2023-11-27T21:08:06.259Z"
   },
   {
    "duration": 653,
    "start_time": "2023-11-27T21:08:39.256Z"
   },
   {
    "duration": 680,
    "start_time": "2023-11-27T21:10:06.495Z"
   },
   {
    "duration": 3426,
    "start_time": "2023-11-28T19:19:07.748Z"
   },
   {
    "duration": 1445,
    "start_time": "2023-11-28T19:19:11.176Z"
   },
   {
    "duration": 79,
    "start_time": "2023-11-28T19:19:12.623Z"
   },
   {
    "duration": 14,
    "start_time": "2023-11-28T19:19:12.703Z"
   },
   {
    "duration": 53,
    "start_time": "2023-11-28T19:19:12.720Z"
   },
   {
    "duration": 3,
    "start_time": "2023-11-28T19:19:12.775Z"
   },
   {
    "duration": 14,
    "start_time": "2023-11-28T19:19:12.779Z"
   },
   {
    "duration": 13,
    "start_time": "2023-11-28T19:19:12.795Z"
   },
   {
    "duration": 6,
    "start_time": "2023-11-28T19:19:12.810Z"
   },
   {
    "duration": 6,
    "start_time": "2023-11-28T19:19:12.817Z"
   },
   {
    "duration": 6,
    "start_time": "2023-11-28T19:19:12.825Z"
   },
   {
    "duration": 35,
    "start_time": "2023-11-28T19:19:12.833Z"
   },
   {
    "duration": 9,
    "start_time": "2023-11-28T19:19:12.869Z"
   },
   {
    "duration": 14,
    "start_time": "2023-11-28T19:19:12.880Z"
   },
   {
    "duration": 4,
    "start_time": "2023-11-28T19:19:12.895Z"
   },
   {
    "duration": 24,
    "start_time": "2023-11-28T19:19:12.901Z"
   },
   {
    "duration": 4,
    "start_time": "2023-11-28T19:19:12.927Z"
   },
   {
    "duration": 821,
    "start_time": "2023-11-28T19:19:12.932Z"
   },
   {
    "duration": 381,
    "start_time": "2023-11-28T19:19:13.755Z"
   },
   {
    "duration": 308,
    "start_time": "2023-11-28T19:19:14.138Z"
   },
   {
    "duration": 323,
    "start_time": "2023-11-28T19:19:14.448Z"
   },
   {
    "duration": 330,
    "start_time": "2023-11-28T19:19:14.772Z"
   },
   {
    "duration": 387,
    "start_time": "2023-11-28T19:19:15.103Z"
   },
   {
    "duration": 802,
    "start_time": "2023-11-28T19:19:15.491Z"
   },
   {
    "duration": 8,
    "start_time": "2023-11-28T19:19:16.294Z"
   },
   {
    "duration": 6,
    "start_time": "2023-11-28T19:19:16.304Z"
   },
   {
    "duration": 14,
    "start_time": "2023-11-28T19:19:16.312Z"
   },
   {
    "duration": 8,
    "start_time": "2023-11-28T19:19:16.328Z"
   },
   {
    "duration": 17,
    "start_time": "2023-11-28T19:34:29.064Z"
   },
   {
    "duration": 100,
    "start_time": "2023-11-28T19:37:35.276Z"
   },
   {
    "duration": 18,
    "start_time": "2023-11-28T19:37:43.885Z"
   },
   {
    "duration": 5,
    "start_time": "2023-11-28T19:37:57.855Z"
   },
   {
    "duration": 72,
    "start_time": "2023-11-28T19:41:21.663Z"
   },
   {
    "duration": 10,
    "start_time": "2023-11-28T19:41:35.273Z"
   },
   {
    "duration": 9,
    "start_time": "2023-11-28T19:41:59.127Z"
   },
   {
    "duration": 79,
    "start_time": "2023-11-28T19:42:53.684Z"
   },
   {
    "duration": 20,
    "start_time": "2023-11-28T19:43:08.590Z"
   },
   {
    "duration": 10,
    "start_time": "2023-11-28T19:43:17.913Z"
   },
   {
    "duration": 10,
    "start_time": "2023-11-28T19:44:27.857Z"
   },
   {
    "duration": 11,
    "start_time": "2023-11-28T19:45:39.476Z"
   },
   {
    "duration": 12,
    "start_time": "2023-11-28T19:45:57.673Z"
   },
   {
    "duration": 10,
    "start_time": "2023-11-28T19:46:22.784Z"
   },
   {
    "duration": 10,
    "start_time": "2023-11-28T19:46:30.710Z"
   },
   {
    "duration": 26,
    "start_time": "2023-11-28T19:46:40.482Z"
   },
   {
    "duration": 10,
    "start_time": "2023-11-28T19:46:59.061Z"
   },
   {
    "duration": 10,
    "start_time": "2023-11-28T19:47:06.184Z"
   },
   {
    "duration": 10,
    "start_time": "2023-11-28T19:47:18.458Z"
   },
   {
    "duration": 10,
    "start_time": "2023-11-28T19:47:24.683Z"
   },
   {
    "duration": 10,
    "start_time": "2023-11-28T19:47:29.219Z"
   },
   {
    "duration": 10,
    "start_time": "2023-11-28T19:47:34.442Z"
   },
   {
    "duration": 10,
    "start_time": "2023-11-28T19:47:38.102Z"
   },
   {
    "duration": 10,
    "start_time": "2023-11-28T19:47:42.282Z"
   },
   {
    "duration": 10,
    "start_time": "2023-11-28T19:47:52.550Z"
   },
   {
    "duration": 10,
    "start_time": "2023-11-28T19:48:02.458Z"
   },
   {
    "duration": 10,
    "start_time": "2023-11-28T19:48:23.010Z"
   },
   {
    "duration": 11,
    "start_time": "2023-11-28T19:48:38.826Z"
   },
   {
    "duration": 11,
    "start_time": "2023-11-28T19:48:49.340Z"
   },
   {
    "duration": 10,
    "start_time": "2023-11-28T19:49:40.591Z"
   },
   {
    "duration": 10,
    "start_time": "2023-11-28T19:50:05.620Z"
   },
   {
    "duration": 10,
    "start_time": "2023-11-28T19:50:25.037Z"
   },
   {
    "duration": 349,
    "start_time": "2023-11-28T19:51:13.969Z"
   },
   {
    "duration": 4,
    "start_time": "2023-11-28T19:51:19.578Z"
   },
   {
    "duration": 3,
    "start_time": "2023-11-28T19:51:36.783Z"
   },
   {
    "duration": 72,
    "start_time": "2023-11-28T19:51:46.054Z"
   },
   {
    "duration": 21,
    "start_time": "2023-11-28T19:52:00.438Z"
   },
   {
    "duration": 21,
    "start_time": "2023-11-28T19:52:31.423Z"
   },
   {
    "duration": 23,
    "start_time": "2023-11-28T19:53:15.920Z"
   },
   {
    "duration": 21,
    "start_time": "2023-11-28T19:53:34.494Z"
   },
   {
    "duration": 19,
    "start_time": "2023-11-28T19:55:32.758Z"
   },
   {
    "duration": 21,
    "start_time": "2023-11-28T19:55:42.263Z"
   },
   {
    "duration": 20,
    "start_time": "2023-11-28T19:55:54.377Z"
   },
   {
    "duration": 11,
    "start_time": "2023-11-28T19:56:41.026Z"
   },
   {
    "duration": 11,
    "start_time": "2023-11-28T19:57:03.581Z"
   },
   {
    "duration": 11,
    "start_time": "2023-11-28T19:57:16.774Z"
   },
   {
    "duration": 10,
    "start_time": "2023-11-28T19:59:31.781Z"
   },
   {
    "duration": 51,
    "start_time": "2023-11-28T20:00:13.605Z"
   },
   {
    "duration": 11,
    "start_time": "2023-11-28T20:00:20.183Z"
   },
   {
    "duration": 10,
    "start_time": "2023-11-28T20:00:28.244Z"
   },
   {
    "duration": 11,
    "start_time": "2023-11-28T20:00:46.286Z"
   },
   {
    "duration": 10,
    "start_time": "2023-11-28T20:00:58.766Z"
   },
   {
    "duration": 10,
    "start_time": "2023-11-28T20:01:03.387Z"
   },
   {
    "duration": 10,
    "start_time": "2023-11-28T20:01:14.290Z"
   },
   {
    "duration": 10,
    "start_time": "2023-11-28T20:02:31.793Z"
   },
   {
    "duration": 12,
    "start_time": "2023-11-28T20:03:26.293Z"
   },
   {
    "duration": 11,
    "start_time": "2023-11-28T20:03:32.180Z"
   },
   {
    "duration": 80,
    "start_time": "2023-11-28T20:03:56.394Z"
   },
   {
    "duration": 12,
    "start_time": "2023-11-28T20:04:10.509Z"
   },
   {
    "duration": 12,
    "start_time": "2023-11-28T20:04:15.737Z"
   },
   {
    "duration": 10,
    "start_time": "2023-11-28T20:04:19.896Z"
   },
   {
    "duration": 11,
    "start_time": "2023-11-28T20:04:25.166Z"
   },
   {
    "duration": 10,
    "start_time": "2023-11-28T20:04:32.307Z"
   },
   {
    "duration": 11,
    "start_time": "2023-11-28T20:04:44.431Z"
   },
   {
    "duration": 11,
    "start_time": "2023-11-28T20:04:47.965Z"
   },
   {
    "duration": 11,
    "start_time": "2023-11-28T20:04:57.497Z"
   },
   {
    "duration": 11,
    "start_time": "2023-11-28T20:05:19.995Z"
   },
   {
    "duration": 12,
    "start_time": "2023-11-28T20:05:23.243Z"
   },
   {
    "duration": 12,
    "start_time": "2023-11-28T20:05:28.658Z"
   },
   {
    "duration": 11,
    "start_time": "2023-11-28T20:05:36.666Z"
   },
   {
    "duration": 11,
    "start_time": "2023-11-28T20:05:57.489Z"
   },
   {
    "duration": 12,
    "start_time": "2023-11-28T20:06:07.150Z"
   },
   {
    "duration": 11,
    "start_time": "2023-11-28T20:06:12.956Z"
   },
   {
    "duration": 10,
    "start_time": "2023-11-28T20:06:35.181Z"
   },
   {
    "duration": 10,
    "start_time": "2023-11-28T20:06:39.123Z"
   },
   {
    "duration": 11,
    "start_time": "2023-11-28T20:07:04.420Z"
   },
   {
    "duration": 11,
    "start_time": "2023-11-28T20:07:11.569Z"
   },
   {
    "duration": 11,
    "start_time": "2023-11-28T20:07:18.405Z"
   },
   {
    "duration": 11,
    "start_time": "2023-11-28T20:08:03.914Z"
   },
   {
    "duration": 11,
    "start_time": "2023-11-28T20:08:10.360Z"
   },
   {
    "duration": 12,
    "start_time": "2023-11-28T20:08:44.932Z"
   },
   {
    "duration": 11,
    "start_time": "2023-11-28T20:09:05.923Z"
   },
   {
    "duration": 11,
    "start_time": "2023-11-28T20:09:23.348Z"
   },
   {
    "duration": 13,
    "start_time": "2023-11-28T20:09:48.096Z"
   },
   {
    "duration": 12,
    "start_time": "2023-11-28T20:09:53.364Z"
   },
   {
    "duration": 13,
    "start_time": "2023-11-28T20:10:10.100Z"
   },
   {
    "duration": 12,
    "start_time": "2023-11-28T20:10:17.280Z"
   },
   {
    "duration": 12,
    "start_time": "2023-11-28T20:10:24.244Z"
   },
   {
    "duration": 12,
    "start_time": "2023-11-28T20:10:51.116Z"
   },
   {
    "duration": 11,
    "start_time": "2023-11-28T20:10:57.001Z"
   },
   {
    "duration": 12,
    "start_time": "2023-11-28T20:11:03.400Z"
   },
   {
    "duration": 12,
    "start_time": "2023-11-28T20:11:14.956Z"
   },
   {
    "duration": 11,
    "start_time": "2023-11-28T20:13:15.626Z"
   },
   {
    "duration": 10,
    "start_time": "2023-11-28T20:13:23.076Z"
   },
   {
    "duration": 11,
    "start_time": "2023-11-28T20:13:30.975Z"
   },
   {
    "duration": 11,
    "start_time": "2023-11-28T20:13:48.644Z"
   },
   {
    "duration": 10,
    "start_time": "2023-11-28T20:13:54.661Z"
   },
   {
    "duration": 11,
    "start_time": "2023-11-28T20:13:59.917Z"
   },
   {
    "duration": 11,
    "start_time": "2023-11-28T20:14:24.390Z"
   },
   {
    "duration": 10,
    "start_time": "2023-11-28T20:14:31.456Z"
   },
   {
    "duration": 11,
    "start_time": "2023-11-28T20:14:44.656Z"
   },
   {
    "duration": 12,
    "start_time": "2023-11-28T20:14:49.736Z"
   },
   {
    "duration": 11,
    "start_time": "2023-11-28T20:14:55.978Z"
   },
   {
    "duration": 9,
    "start_time": "2023-11-28T20:14:59.852Z"
   },
   {
    "duration": 9,
    "start_time": "2023-11-28T20:15:08.451Z"
   },
   {
    "duration": 9,
    "start_time": "2023-11-28T20:15:14.950Z"
   },
   {
    "duration": 10,
    "start_time": "2023-11-28T20:15:38.116Z"
   },
   {
    "duration": 10,
    "start_time": "2023-11-28T20:15:44.403Z"
   },
   {
    "duration": 10,
    "start_time": "2023-11-28T20:15:47.461Z"
   },
   {
    "duration": 10,
    "start_time": "2023-11-28T20:16:00.004Z"
   },
   {
    "duration": 10,
    "start_time": "2023-11-28T20:16:04.727Z"
   },
   {
    "duration": 11,
    "start_time": "2023-11-28T20:16:16.787Z"
   },
   {
    "duration": 12,
    "start_time": "2023-11-28T20:16:22.031Z"
   },
   {
    "duration": 11,
    "start_time": "2023-11-28T20:16:26.511Z"
   },
   {
    "duration": 11,
    "start_time": "2023-11-28T20:16:35.089Z"
   },
   {
    "duration": 11,
    "start_time": "2023-11-28T20:16:40.821Z"
   },
   {
    "duration": 13,
    "start_time": "2023-11-28T20:16:51.522Z"
   },
   {
    "duration": 12,
    "start_time": "2023-11-28T20:16:58.852Z"
   },
   {
    "duration": 11,
    "start_time": "2023-11-28T20:17:05.516Z"
   },
   {
    "duration": 12,
    "start_time": "2023-11-28T20:17:12.726Z"
   },
   {
    "duration": 11,
    "start_time": "2023-11-28T20:17:18.018Z"
   },
   {
    "duration": 10,
    "start_time": "2023-11-28T20:19:48.489Z"
   },
   {
    "duration": 11,
    "start_time": "2023-11-28T20:19:51.652Z"
   },
   {
    "duration": 10,
    "start_time": "2023-11-28T20:19:55.479Z"
   },
   {
    "duration": 12,
    "start_time": "2023-11-28T20:20:02.971Z"
   },
   {
    "duration": 11,
    "start_time": "2023-11-28T20:20:07.796Z"
   },
   {
    "duration": 11,
    "start_time": "2023-11-28T20:20:14.415Z"
   },
   {
    "duration": 13,
    "start_time": "2023-11-28T20:20:41.313Z"
   },
   {
    "duration": 12,
    "start_time": "2023-11-28T20:20:46.353Z"
   },
   {
    "duration": 12,
    "start_time": "2023-11-28T20:20:53.263Z"
   },
   {
    "duration": 11,
    "start_time": "2023-11-28T20:21:09.893Z"
   },
   {
    "duration": 11,
    "start_time": "2023-11-28T20:21:27.996Z"
   },
   {
    "duration": 12,
    "start_time": "2023-11-28T20:21:34.253Z"
   },
   {
    "duration": 11,
    "start_time": "2023-11-28T20:21:42.661Z"
   },
   {
    "duration": 11,
    "start_time": "2023-11-28T20:21:48.328Z"
   },
   {
    "duration": 17,
    "start_time": "2023-11-28T20:21:54.311Z"
   },
   {
    "duration": 11,
    "start_time": "2023-11-28T20:21:59.134Z"
   },
   {
    "duration": 11,
    "start_time": "2023-11-28T20:22:09.022Z"
   },
   {
    "duration": 16,
    "start_time": "2023-11-28T20:22:14.902Z"
   },
   {
    "duration": 12,
    "start_time": "2023-11-28T20:22:19.280Z"
   },
   {
    "duration": 11,
    "start_time": "2023-11-28T20:22:24.141Z"
   },
   {
    "duration": 13,
    "start_time": "2023-11-28T20:22:28.772Z"
   },
   {
    "duration": 15,
    "start_time": "2023-11-28T20:22:36.657Z"
   },
   {
    "duration": 11,
    "start_time": "2023-11-28T20:22:53.917Z"
   },
   {
    "duration": 10,
    "start_time": "2023-11-28T20:23:23.019Z"
   },
   {
    "duration": 11,
    "start_time": "2023-11-28T20:23:37.139Z"
   },
   {
    "duration": 10,
    "start_time": "2023-11-28T20:23:40.887Z"
   },
   {
    "duration": 11,
    "start_time": "2023-11-28T20:23:48.198Z"
   },
   {
    "duration": 10,
    "start_time": "2023-11-28T20:23:53.820Z"
   },
   {
    "duration": 10,
    "start_time": "2023-11-28T20:27:45.232Z"
   },
   {
    "duration": 12,
    "start_time": "2023-11-28T20:27:49.047Z"
   },
   {
    "duration": 10,
    "start_time": "2023-11-28T20:27:53.559Z"
   },
   {
    "duration": 10,
    "start_time": "2023-11-28T20:28:00.632Z"
   },
   {
    "duration": 12,
    "start_time": "2023-11-28T20:28:06.611Z"
   },
   {
    "duration": 11,
    "start_time": "2023-11-28T20:28:11.806Z"
   },
   {
    "duration": 11,
    "start_time": "2023-11-28T20:28:19.645Z"
   },
   {
    "duration": 10,
    "start_time": "2023-11-28T20:28:24.574Z"
   },
   {
    "duration": 11,
    "start_time": "2023-11-28T20:28:29.549Z"
   },
   {
    "duration": 10,
    "start_time": "2023-11-28T20:28:38.102Z"
   },
   {
    "duration": 11,
    "start_time": "2023-11-28T20:28:43.986Z"
   },
   {
    "duration": 10,
    "start_time": "2023-11-28T20:28:51.042Z"
   },
   {
    "duration": 11,
    "start_time": "2023-11-28T20:28:58.791Z"
   },
   {
    "duration": 11,
    "start_time": "2023-11-28T20:29:04.107Z"
   },
   {
    "duration": 10,
    "start_time": "2023-11-28T20:29:11.378Z"
   },
   {
    "duration": 11,
    "start_time": "2023-11-28T20:29:16.140Z"
   },
   {
    "duration": 12,
    "start_time": "2023-11-28T20:29:19.702Z"
   },
   {
    "duration": 11,
    "start_time": "2023-11-28T20:29:24.966Z"
   },
   {
    "duration": 12,
    "start_time": "2023-11-28T20:29:35.326Z"
   },
   {
    "duration": 13,
    "start_time": "2023-11-28T20:29:41.451Z"
   },
   {
    "duration": 12,
    "start_time": "2023-11-28T20:29:49.511Z"
   },
   {
    "duration": 12,
    "start_time": "2023-11-28T20:29:57.808Z"
   },
   {
    "duration": 11,
    "start_time": "2023-11-28T20:30:22.526Z"
   },
   {
    "duration": 12,
    "start_time": "2023-11-28T20:30:28.442Z"
   },
   {
    "duration": 17,
    "start_time": "2023-11-28T20:31:06.476Z"
   },
   {
    "duration": 10,
    "start_time": "2023-11-28T20:31:13.733Z"
   },
   {
    "duration": 10,
    "start_time": "2023-11-28T20:31:17.598Z"
   },
   {
    "duration": 10,
    "start_time": "2023-11-28T20:31:25.107Z"
   },
   {
    "duration": 10,
    "start_time": "2023-11-28T20:31:42.186Z"
   },
   {
    "duration": 11,
    "start_time": "2023-11-28T20:31:45.859Z"
   },
   {
    "duration": 11,
    "start_time": "2023-11-28T20:32:03.397Z"
   },
   {
    "duration": 13,
    "start_time": "2023-11-28T20:32:18.510Z"
   },
   {
    "duration": 102,
    "start_time": "2023-11-28T20:32:26.946Z"
   },
   {
    "duration": 11,
    "start_time": "2023-11-28T20:32:30.748Z"
   },
   {
    "duration": 11,
    "start_time": "2023-11-28T20:32:37.592Z"
   },
   {
    "duration": 11,
    "start_time": "2023-11-28T20:32:52.243Z"
   },
   {
    "duration": 10,
    "start_time": "2023-11-28T20:32:58.327Z"
   },
   {
    "duration": 11,
    "start_time": "2023-11-28T20:33:05.749Z"
   },
   {
    "duration": 11,
    "start_time": "2023-11-28T20:33:18.492Z"
   },
   {
    "duration": 10,
    "start_time": "2023-11-28T20:33:22.504Z"
   },
   {
    "duration": 12,
    "start_time": "2023-11-28T20:34:53.871Z"
   },
   {
    "duration": 12,
    "start_time": "2023-11-28T20:35:00.546Z"
   },
   {
    "duration": 11,
    "start_time": "2023-11-28T20:35:08.804Z"
   },
   {
    "duration": 13,
    "start_time": "2023-11-28T20:37:08.904Z"
   },
   {
    "duration": 11,
    "start_time": "2023-11-28T20:40:25.058Z"
   },
   {
    "duration": 10,
    "start_time": "2023-11-28T20:40:28.868Z"
   },
   {
    "duration": 10,
    "start_time": "2023-11-28T20:40:34.809Z"
   },
   {
    "duration": 10,
    "start_time": "2023-11-28T20:40:38.809Z"
   },
   {
    "duration": 12,
    "start_time": "2023-11-28T20:40:43.685Z"
   },
   {
    "duration": 10,
    "start_time": "2023-11-28T20:40:46.687Z"
   },
   {
    "duration": 10,
    "start_time": "2023-11-28T20:40:51.250Z"
   },
   {
    "duration": 11,
    "start_time": "2023-11-28T20:40:59.389Z"
   },
   {
    "duration": 11,
    "start_time": "2023-11-28T20:41:15.015Z"
   },
   {
    "duration": 11,
    "start_time": "2023-11-28T20:41:24.698Z"
   },
   {
    "duration": 11,
    "start_time": "2023-11-28T20:41:28.418Z"
   },
   {
    "duration": 13,
    "start_time": "2023-11-28T20:41:32.227Z"
   },
   {
    "duration": 10,
    "start_time": "2023-11-28T20:41:37.077Z"
   },
   {
    "duration": 10,
    "start_time": "2023-11-28T20:41:41.787Z"
   },
   {
    "duration": 10,
    "start_time": "2023-11-28T20:41:47.319Z"
   },
   {
    "duration": 10,
    "start_time": "2023-11-28T20:41:59.179Z"
   },
   {
    "duration": 10,
    "start_time": "2023-11-28T20:42:11.210Z"
   },
   {
    "duration": 12,
    "start_time": "2023-11-28T20:42:16.542Z"
   },
   {
    "duration": 10,
    "start_time": "2023-11-28T20:42:27.202Z"
   },
   {
    "duration": 9,
    "start_time": "2023-11-28T20:42:33.718Z"
   },
   {
    "duration": 11,
    "start_time": "2023-11-28T20:42:49.536Z"
   },
   {
    "duration": 11,
    "start_time": "2023-11-28T20:43:01.546Z"
   },
   {
    "duration": 11,
    "start_time": "2023-11-28T20:43:04.658Z"
   },
   {
    "duration": 11,
    "start_time": "2023-11-28T20:43:12.862Z"
   },
   {
    "duration": 11,
    "start_time": "2023-11-28T20:43:18.013Z"
   },
   {
    "duration": 11,
    "start_time": "2023-11-28T20:43:23.592Z"
   },
   {
    "duration": 11,
    "start_time": "2023-11-28T20:43:28.458Z"
   },
   {
    "duration": 10,
    "start_time": "2023-11-28T20:43:36.301Z"
   },
   {
    "duration": 12,
    "start_time": "2023-11-28T20:43:49.066Z"
   },
   {
    "duration": 11,
    "start_time": "2023-11-28T20:44:03.055Z"
   },
   {
    "duration": 10,
    "start_time": "2023-11-28T20:44:06.744Z"
   },
   {
    "duration": 11,
    "start_time": "2023-11-28T20:44:12.983Z"
   },
   {
    "duration": 10,
    "start_time": "2023-11-28T20:44:21.903Z"
   },
   {
    "duration": 10,
    "start_time": "2023-11-28T20:44:29.719Z"
   },
   {
    "duration": 12,
    "start_time": "2023-11-28T20:44:35.671Z"
   },
   {
    "duration": 92,
    "start_time": "2023-11-28T20:44:52.771Z"
   },
   {
    "duration": 11,
    "start_time": "2023-11-28T20:44:58.089Z"
   },
   {
    "duration": 11,
    "start_time": "2023-11-28T20:45:01.392Z"
   },
   {
    "duration": 11,
    "start_time": "2023-11-28T20:45:53.266Z"
   },
   {
    "duration": 10,
    "start_time": "2023-11-28T20:45:57.570Z"
   },
   {
    "duration": 9,
    "start_time": "2023-11-28T20:46:02.966Z"
   },
   {
    "duration": 12,
    "start_time": "2023-11-28T20:46:09.612Z"
   },
   {
    "duration": 11,
    "start_time": "2023-11-28T20:46:17.135Z"
   },
   {
    "duration": 11,
    "start_time": "2023-11-28T20:47:12.905Z"
   },
   {
    "duration": 44,
    "start_time": "2023-11-28T20:47:22.736Z"
   },
   {
    "duration": 11,
    "start_time": "2023-11-28T20:47:26.607Z"
   },
   {
    "duration": 10,
    "start_time": "2023-11-28T20:47:30.176Z"
   },
   {
    "duration": 11,
    "start_time": "2023-11-28T20:47:33.422Z"
   },
   {
    "duration": 10,
    "start_time": "2023-11-28T20:47:39.510Z"
   },
   {
    "duration": 12,
    "start_time": "2023-11-28T20:48:14.548Z"
   },
   {
    "duration": 10,
    "start_time": "2023-11-28T20:48:19.721Z"
   },
   {
    "duration": 11,
    "start_time": "2023-11-28T20:48:25.627Z"
   },
   {
    "duration": 12,
    "start_time": "2023-11-28T20:48:35.738Z"
   },
   {
    "duration": 11,
    "start_time": "2023-11-28T20:48:44.512Z"
   },
   {
    "duration": 11,
    "start_time": "2023-11-28T20:48:58.339Z"
   },
   {
    "duration": 11,
    "start_time": "2023-11-28T20:49:02.732Z"
   },
   {
    "duration": 13,
    "start_time": "2023-11-28T20:49:08.473Z"
   },
   {
    "duration": 12,
    "start_time": "2023-11-28T20:49:11.366Z"
   },
   {
    "duration": 12,
    "start_time": "2023-11-28T20:49:15.931Z"
   },
   {
    "duration": 12,
    "start_time": "2023-11-28T20:49:22.600Z"
   },
   {
    "duration": 11,
    "start_time": "2023-11-28T20:50:31.188Z"
   },
   {
    "duration": 11,
    "start_time": "2023-11-28T20:50:37.316Z"
   },
   {
    "duration": 11,
    "start_time": "2023-11-28T20:51:07.647Z"
   },
   {
    "duration": 11,
    "start_time": "2023-11-28T20:51:12.153Z"
   },
   {
    "duration": 11,
    "start_time": "2023-11-28T20:51:22.662Z"
   },
   {
    "duration": 11,
    "start_time": "2023-11-28T20:51:42.571Z"
   },
   {
    "duration": 11,
    "start_time": "2023-11-28T20:51:46.879Z"
   },
   {
    "duration": 11,
    "start_time": "2023-11-28T20:51:53.096Z"
   },
   {
    "duration": 11,
    "start_time": "2023-11-28T20:52:04.712Z"
   },
   {
    "duration": 10,
    "start_time": "2023-11-28T20:53:23.442Z"
   },
   {
    "duration": 9,
    "start_time": "2023-11-28T20:53:30.389Z"
   },
   {
    "duration": 10,
    "start_time": "2023-11-28T20:53:48.305Z"
   },
   {
    "duration": 10,
    "start_time": "2023-11-28T20:53:56.775Z"
   },
   {
    "duration": 11,
    "start_time": "2023-11-28T20:54:01.092Z"
   },
   {
    "duration": 11,
    "start_time": "2023-11-28T20:56:07.716Z"
   },
   {
    "duration": 10,
    "start_time": "2023-11-28T20:56:13.053Z"
   },
   {
    "duration": 10,
    "start_time": "2023-11-28T20:56:25.773Z"
   },
   {
    "duration": 11,
    "start_time": "2023-11-28T20:56:29.673Z"
   },
   {
    "duration": 11,
    "start_time": "2023-11-28T20:56:47.133Z"
   },
   {
    "duration": 11,
    "start_time": "2023-11-28T20:56:52.972Z"
   },
   {
    "duration": 10,
    "start_time": "2023-11-28T20:57:07.254Z"
   },
   {
    "duration": 11,
    "start_time": "2023-11-28T20:57:20.620Z"
   },
   {
    "duration": 10,
    "start_time": "2023-11-28T20:57:24.994Z"
   },
   {
    "duration": 12,
    "start_time": "2023-11-28T20:57:46.636Z"
   },
   {
    "duration": 11,
    "start_time": "2023-11-28T20:57:51.040Z"
   },
   {
    "duration": 10,
    "start_time": "2023-11-28T20:57:52.592Z"
   },
   {
    "duration": 11,
    "start_time": "2023-11-28T20:57:53.187Z"
   },
   {
    "duration": 12,
    "start_time": "2023-11-28T20:58:19.148Z"
   },
   {
    "duration": 11,
    "start_time": "2023-11-28T20:58:23.036Z"
   },
   {
    "duration": 10,
    "start_time": "2023-11-28T20:58:45.467Z"
   },
   {
    "duration": 10,
    "start_time": "2023-11-28T20:59:24.987Z"
   },
   {
    "duration": 11,
    "start_time": "2023-11-28T20:59:29.747Z"
   },
   {
    "duration": 9,
    "start_time": "2023-11-28T20:59:34.024Z"
   },
   {
    "duration": 12,
    "start_time": "2023-11-28T20:59:37.164Z"
   },
   {
    "duration": 10,
    "start_time": "2023-11-28T20:59:43.289Z"
   },
   {
    "duration": 12,
    "start_time": "2023-11-28T21:00:09.704Z"
   },
   {
    "duration": 11,
    "start_time": "2023-11-28T21:00:11.780Z"
   },
   {
    "duration": 11,
    "start_time": "2023-11-28T21:00:23.384Z"
   },
   {
    "duration": 11,
    "start_time": "2023-11-28T21:00:30.067Z"
   },
   {
    "duration": 11,
    "start_time": "2023-11-28T21:00:36.761Z"
   },
   {
    "duration": 11,
    "start_time": "2023-11-28T21:00:43.900Z"
   },
   {
    "duration": 10,
    "start_time": "2023-11-28T21:00:47.338Z"
   },
   {
    "duration": 11,
    "start_time": "2023-11-28T21:00:52.069Z"
   },
   {
    "duration": 12,
    "start_time": "2023-11-28T21:00:59.333Z"
   },
   {
    "duration": 11,
    "start_time": "2023-11-28T21:01:04.816Z"
   },
   {
    "duration": 10,
    "start_time": "2023-11-28T21:03:55.490Z"
   },
   {
    "duration": 11,
    "start_time": "2023-11-28T21:04:02.014Z"
   },
   {
    "duration": 11,
    "start_time": "2023-11-28T21:04:21.361Z"
   },
   {
    "duration": 12,
    "start_time": "2023-11-28T21:04:27.912Z"
   },
   {
    "duration": 12,
    "start_time": "2023-11-28T21:04:31.987Z"
   },
   {
    "duration": 10,
    "start_time": "2023-11-28T21:04:37.547Z"
   },
   {
    "duration": 11,
    "start_time": "2023-11-28T21:04:55.879Z"
   },
   {
    "duration": 11,
    "start_time": "2023-11-28T21:05:00.607Z"
   },
   {
    "duration": 10,
    "start_time": "2023-11-28T21:05:37.915Z"
   },
   {
    "duration": 11,
    "start_time": "2023-11-28T21:05:45.422Z"
   },
   {
    "duration": 12,
    "start_time": "2023-11-28T21:06:09.135Z"
   },
   {
    "duration": 13,
    "start_time": "2023-11-28T21:06:12.375Z"
   },
   {
    "duration": 12,
    "start_time": "2023-11-28T21:06:20.517Z"
   },
   {
    "duration": 11,
    "start_time": "2023-11-28T21:06:26.776Z"
   },
   {
    "duration": 11,
    "start_time": "2023-11-28T21:06:33.644Z"
   },
   {
    "duration": 12,
    "start_time": "2023-11-28T21:06:39.919Z"
   },
   {
    "duration": 11,
    "start_time": "2023-11-28T21:06:47.299Z"
   },
   {
    "duration": 11,
    "start_time": "2023-11-28T21:06:57.545Z"
   },
   {
    "duration": 11,
    "start_time": "2023-11-28T21:07:03.355Z"
   },
   {
    "duration": 11,
    "start_time": "2023-11-28T21:07:16.488Z"
   },
   {
    "duration": 13,
    "start_time": "2023-11-28T21:07:22.049Z"
   },
   {
    "duration": 11,
    "start_time": "2023-11-28T21:07:25.976Z"
   },
   {
    "duration": 11,
    "start_time": "2023-11-28T21:07:29.123Z"
   },
   {
    "duration": 11,
    "start_time": "2023-11-28T21:07:52.562Z"
   },
   {
    "duration": 10,
    "start_time": "2023-11-28T21:08:03.982Z"
   },
   {
    "duration": 10,
    "start_time": "2023-11-28T21:08:10.697Z"
   },
   {
    "duration": 9,
    "start_time": "2023-11-28T21:08:50.046Z"
   },
   {
    "duration": 10,
    "start_time": "2023-11-28T21:08:57.941Z"
   },
   {
    "duration": 10,
    "start_time": "2023-11-28T21:09:02.261Z"
   },
   {
    "duration": 9,
    "start_time": "2023-11-28T21:09:08.808Z"
   },
   {
    "duration": 11,
    "start_time": "2023-11-28T21:09:12.459Z"
   },
   {
    "duration": 11,
    "start_time": "2023-11-28T21:09:45.667Z"
   },
   {
    "duration": 11,
    "start_time": "2023-11-28T21:09:49.457Z"
   },
   {
    "duration": 11,
    "start_time": "2023-11-28T21:09:55.568Z"
   },
   {
    "duration": 11,
    "start_time": "2023-11-28T21:09:59.555Z"
   },
   {
    "duration": 10,
    "start_time": "2023-11-28T21:10:04.420Z"
   },
   {
    "duration": 11,
    "start_time": "2023-11-28T21:10:18.512Z"
   },
   {
    "duration": 11,
    "start_time": "2023-11-28T21:10:22.039Z"
   },
   {
    "duration": 11,
    "start_time": "2023-11-28T21:10:26.730Z"
   },
   {
    "duration": 10,
    "start_time": "2023-11-28T21:11:25.385Z"
   },
   {
    "duration": 11,
    "start_time": "2023-11-28T21:11:31.567Z"
   },
   {
    "duration": 11,
    "start_time": "2023-11-28T21:11:36.459Z"
   },
   {
    "duration": 69,
    "start_time": "2023-11-28T21:12:11.231Z"
   },
   {
    "duration": 11,
    "start_time": "2023-11-28T21:12:14.932Z"
   },
   {
    "duration": 12,
    "start_time": "2023-11-28T21:12:22.532Z"
   },
   {
    "duration": 12,
    "start_time": "2023-11-28T21:12:27.132Z"
   },
   {
    "duration": 13,
    "start_time": "2023-11-28T21:12:31.300Z"
   },
   {
    "duration": 12,
    "start_time": "2023-11-28T21:12:37.617Z"
   },
   {
    "duration": 48,
    "start_time": "2023-11-28T21:12:49.551Z"
   },
   {
    "duration": 11,
    "start_time": "2023-11-28T21:13:09.476Z"
   },
   {
    "duration": 12,
    "start_time": "2023-11-28T21:13:14.700Z"
   },
   {
    "duration": 11,
    "start_time": "2023-11-28T21:13:20.404Z"
   },
   {
    "duration": 12,
    "start_time": "2023-11-28T21:13:24.066Z"
   },
   {
    "duration": 13,
    "start_time": "2023-11-28T21:13:27.623Z"
   },
   {
    "duration": 10,
    "start_time": "2023-11-28T21:13:31.427Z"
   },
   {
    "duration": 11,
    "start_time": "2023-11-28T21:13:44.855Z"
   },
   {
    "duration": 11,
    "start_time": "2023-11-28T21:13:53.055Z"
   },
   {
    "duration": 11,
    "start_time": "2023-11-28T21:14:00.688Z"
   },
   {
    "duration": 10,
    "start_time": "2023-11-28T21:14:06.016Z"
   },
   {
    "duration": 12,
    "start_time": "2023-11-28T21:14:09.691Z"
   },
   {
    "duration": 11,
    "start_time": "2023-11-28T21:14:14.733Z"
   },
   {
    "duration": 11,
    "start_time": "2023-11-28T21:14:17.629Z"
   },
   {
    "duration": 11,
    "start_time": "2023-11-28T21:14:22.079Z"
   },
   {
    "duration": 11,
    "start_time": "2023-11-28T21:14:31.148Z"
   },
   {
    "duration": 11,
    "start_time": "2023-11-28T21:14:34.520Z"
   },
   {
    "duration": 13,
    "start_time": "2023-11-28T21:14:38.900Z"
   },
   {
    "duration": 11,
    "start_time": "2023-11-28T21:14:43.695Z"
   },
   {
    "duration": 12,
    "start_time": "2023-11-28T21:14:49.595Z"
   },
   {
    "duration": 11,
    "start_time": "2023-11-28T21:14:53.638Z"
   },
   {
    "duration": 11,
    "start_time": "2023-11-28T21:15:08.275Z"
   },
   {
    "duration": 12,
    "start_time": "2023-11-28T21:15:15.408Z"
   },
   {
    "duration": 12,
    "start_time": "2023-11-28T21:15:21.684Z"
   },
   {
    "duration": 12,
    "start_time": "2023-11-28T21:15:25.431Z"
   },
   {
    "duration": 11,
    "start_time": "2023-11-28T21:15:35.402Z"
   },
   {
    "duration": 10,
    "start_time": "2023-11-28T21:15:53.343Z"
   },
   {
    "duration": 11,
    "start_time": "2023-11-28T21:16:22.336Z"
   },
   {
    "duration": 11,
    "start_time": "2023-11-28T21:16:27.609Z"
   },
   {
    "duration": 11,
    "start_time": "2023-11-28T21:16:35.763Z"
   },
   {
    "duration": 12,
    "start_time": "2023-11-28T21:16:44.955Z"
   },
   {
    "duration": 12,
    "start_time": "2023-11-28T21:16:48.552Z"
   },
   {
    "duration": 10,
    "start_time": "2023-11-28T21:16:54.685Z"
   },
   {
    "duration": 10,
    "start_time": "2023-11-28T21:16:59.063Z"
   },
   {
    "duration": 11,
    "start_time": "2023-11-28T21:17:03.607Z"
   },
   {
    "duration": 10,
    "start_time": "2023-11-28T21:17:07.970Z"
   },
   {
    "duration": 10,
    "start_time": "2023-11-28T21:17:14.619Z"
   },
   {
    "duration": 11,
    "start_time": "2023-11-28T21:17:20.672Z"
   },
   {
    "duration": 10,
    "start_time": "2023-11-28T21:17:23.226Z"
   },
   {
    "duration": 11,
    "start_time": "2023-11-28T21:17:56.203Z"
   },
   {
    "duration": 11,
    "start_time": "2023-11-28T21:17:59.326Z"
   },
   {
    "duration": 10,
    "start_time": "2023-11-28T21:18:12.468Z"
   },
   {
    "duration": 58,
    "start_time": "2023-11-28T21:18:17.614Z"
   },
   {
    "duration": 12,
    "start_time": "2023-11-28T21:18:21.428Z"
   },
   {
    "duration": 10,
    "start_time": "2023-11-28T21:18:26.315Z"
   },
   {
    "duration": 11,
    "start_time": "2023-11-28T21:18:32.255Z"
   },
   {
    "duration": 11,
    "start_time": "2023-11-28T21:18:35.376Z"
   },
   {
    "duration": 11,
    "start_time": "2023-11-28T21:18:43.449Z"
   },
   {
    "duration": 10,
    "start_time": "2023-11-28T21:18:47.663Z"
   },
   {
    "duration": 11,
    "start_time": "2023-11-28T21:18:51.988Z"
   },
   {
    "duration": 10,
    "start_time": "2023-11-28T21:18:55.640Z"
   },
   {
    "duration": 10,
    "start_time": "2023-11-28T21:18:59.506Z"
   },
   {
    "duration": 11,
    "start_time": "2023-11-28T21:19:31.372Z"
   },
   {
    "duration": 11,
    "start_time": "2023-11-28T21:19:40.031Z"
   },
   {
    "duration": 12,
    "start_time": "2023-11-28T21:19:47.792Z"
   },
   {
    "duration": 13,
    "start_time": "2023-11-28T21:19:52.616Z"
   },
   {
    "duration": 10,
    "start_time": "2023-11-28T21:19:56.447Z"
   },
   {
    "duration": 10,
    "start_time": "2023-11-28T21:20:03.769Z"
   },
   {
    "duration": 10,
    "start_time": "2023-11-28T21:20:12.074Z"
   },
   {
    "duration": 11,
    "start_time": "2023-11-28T21:20:17.012Z"
   },
   {
    "duration": 12,
    "start_time": "2023-11-28T21:20:23.510Z"
   },
   {
    "duration": 11,
    "start_time": "2023-11-28T21:20:28.581Z"
   },
   {
    "duration": 11,
    "start_time": "2023-11-28T21:20:33.414Z"
   },
   {
    "duration": 11,
    "start_time": "2023-11-28T21:20:40.464Z"
   },
   {
    "duration": 12,
    "start_time": "2023-11-28T21:20:49.921Z"
   },
   {
    "duration": 12,
    "start_time": "2023-11-28T21:21:04.515Z"
   },
   {
    "duration": 12,
    "start_time": "2023-11-28T21:21:25.292Z"
   },
   {
    "duration": 14,
    "start_time": "2023-11-28T21:21:30.071Z"
   },
   {
    "duration": 11,
    "start_time": "2023-11-28T21:21:37.085Z"
   },
   {
    "duration": 11,
    "start_time": "2023-11-28T21:21:46.128Z"
   },
   {
    "duration": 41,
    "start_time": "2023-11-28T21:22:26.653Z"
   },
   {
    "duration": 11,
    "start_time": "2023-11-28T21:22:30.403Z"
   },
   {
    "duration": 11,
    "start_time": "2023-11-28T21:22:38.459Z"
   },
   {
    "duration": 12,
    "start_time": "2023-11-28T21:22:44.257Z"
   },
   {
    "duration": 10,
    "start_time": "2023-11-28T21:22:50.260Z"
   },
   {
    "duration": 10,
    "start_time": "2023-11-28T21:23:49.899Z"
   },
   {
    "duration": 11,
    "start_time": "2023-11-28T21:23:54.736Z"
   },
   {
    "duration": 10,
    "start_time": "2023-11-28T21:24:00.323Z"
   },
   {
    "duration": 11,
    "start_time": "2023-11-28T21:24:41.237Z"
   },
   {
    "duration": 11,
    "start_time": "2023-11-28T21:24:46.325Z"
   },
   {
    "duration": 12,
    "start_time": "2023-11-28T21:24:53.243Z"
   },
   {
    "duration": 11,
    "start_time": "2023-11-28T21:24:56.659Z"
   },
   {
    "duration": 11,
    "start_time": "2023-11-28T21:25:00.977Z"
   },
   {
    "duration": 11,
    "start_time": "2023-11-28T21:25:06.687Z"
   },
   {
    "duration": 11,
    "start_time": "2023-11-28T21:25:14.479Z"
   },
   {
    "duration": 10,
    "start_time": "2023-11-28T21:25:29.323Z"
   },
   {
    "duration": 10,
    "start_time": "2023-11-28T21:25:34.815Z"
   },
   {
    "duration": 11,
    "start_time": "2023-11-28T21:26:05.487Z"
   },
   {
    "duration": 12,
    "start_time": "2023-11-28T21:26:13.108Z"
   },
   {
    "duration": 11,
    "start_time": "2023-11-28T21:26:21.904Z"
   },
   {
    "duration": 11,
    "start_time": "2023-11-28T21:26:27.648Z"
   },
   {
    "duration": 11,
    "start_time": "2023-11-28T21:26:35.591Z"
   },
   {
    "duration": 10,
    "start_time": "2023-11-28T21:27:27.679Z"
   },
   {
    "duration": 85,
    "start_time": "2023-11-28T21:27:36.774Z"
   },
   {
    "duration": 11,
    "start_time": "2023-11-28T21:27:45.387Z"
   },
   {
    "duration": 10,
    "start_time": "2023-11-28T21:27:51.422Z"
   },
   {
    "duration": 10,
    "start_time": "2023-11-28T21:27:55.276Z"
   },
   {
    "duration": 11,
    "start_time": "2023-11-28T21:27:59.044Z"
   },
   {
    "duration": 10,
    "start_time": "2023-11-28T21:28:05.006Z"
   },
   {
    "duration": 10,
    "start_time": "2023-11-28T21:28:13.823Z"
   },
   {
    "duration": 10,
    "start_time": "2023-11-28T21:28:18.336Z"
   },
   {
    "duration": 11,
    "start_time": "2023-11-28T21:28:25.302Z"
   },
   {
    "duration": 4,
    "start_time": "2023-11-29T09:03:54.062Z"
   },
   {
    "duration": 3669,
    "start_time": "2023-11-29T09:03:54.067Z"
   },
   {
    "duration": 1456,
    "start_time": "2023-11-29T09:03:57.738Z"
   },
   {
    "duration": 143,
    "start_time": "2023-11-29T09:03:59.195Z"
   },
   {
    "duration": 12,
    "start_time": "2023-11-29T09:03:59.340Z"
   },
   {
    "duration": 38,
    "start_time": "2023-11-29T09:03:59.354Z"
   },
   {
    "duration": 6,
    "start_time": "2023-11-29T09:03:59.393Z"
   },
   {
    "duration": 6,
    "start_time": "2023-11-29T09:03:59.400Z"
   },
   {
    "duration": 6,
    "start_time": "2023-11-29T09:03:59.407Z"
   },
   {
    "duration": 14,
    "start_time": "2023-11-29T09:03:59.414Z"
   },
   {
    "duration": 9,
    "start_time": "2023-11-29T09:03:59.429Z"
   },
   {
    "duration": 55,
    "start_time": "2023-11-29T09:03:59.440Z"
   },
   {
    "duration": 7,
    "start_time": "2023-11-29T09:03:59.497Z"
   },
   {
    "duration": 16,
    "start_time": "2023-11-29T09:03:59.507Z"
   },
   {
    "duration": 11,
    "start_time": "2023-11-29T09:03:59.524Z"
   },
   {
    "duration": 16,
    "start_time": "2023-11-29T09:03:59.537Z"
   },
   {
    "duration": 18,
    "start_time": "2023-11-29T09:03:59.555Z"
   },
   {
    "duration": 29,
    "start_time": "2023-11-29T09:03:59.575Z"
   },
   {
    "duration": 4,
    "start_time": "2023-11-29T09:03:59.606Z"
   },
   {
    "duration": 847,
    "start_time": "2023-11-29T09:03:59.611Z"
   },
   {
    "duration": 391,
    "start_time": "2023-11-29T09:04:00.459Z"
   },
   {
    "duration": 323,
    "start_time": "2023-11-29T09:04:00.851Z"
   },
   {
    "duration": 351,
    "start_time": "2023-11-29T09:04:01.176Z"
   },
   {
    "duration": 339,
    "start_time": "2023-11-29T09:04:01.528Z"
   },
   {
    "duration": 396,
    "start_time": "2023-11-29T09:04:01.873Z"
   },
   {
    "duration": 826,
    "start_time": "2023-11-29T09:04:02.273Z"
   },
   {
    "duration": 8,
    "start_time": "2023-11-29T09:04:03.100Z"
   },
   {
    "duration": 5,
    "start_time": "2023-11-29T09:04:03.110Z"
   },
   {
    "duration": 16,
    "start_time": "2023-11-29T09:04:03.117Z"
   },
   {
    "duration": 47,
    "start_time": "2023-11-29T09:04:03.134Z"
   },
   {
    "duration": 13,
    "start_time": "2023-11-29T09:04:03.182Z"
   },
   {
    "duration": 13,
    "start_time": "2023-11-29T09:04:03.196Z"
   },
   {
    "duration": 10,
    "start_time": "2023-11-29T09:04:03.211Z"
   },
   {
    "duration": 10,
    "start_time": "2023-11-29T09:04:03.222Z"
   },
   {
    "duration": 4,
    "start_time": "2023-11-29T10:25:48.069Z"
   },
   {
    "duration": 2438,
    "start_time": "2023-11-29T10:25:48.075Z"
   },
   {
    "duration": 1237,
    "start_time": "2023-11-29T10:25:50.515Z"
   },
   {
    "duration": 198,
    "start_time": "2023-11-29T10:25:51.754Z"
   },
   {
    "duration": 12,
    "start_time": "2023-11-29T10:25:51.954Z"
   },
   {
    "duration": 52,
    "start_time": "2023-11-29T10:25:51.967Z"
   },
   {
    "duration": 6,
    "start_time": "2023-11-29T10:25:52.020Z"
   },
   {
    "duration": 7,
    "start_time": "2023-11-29T10:25:52.027Z"
   },
   {
    "duration": 7,
    "start_time": "2023-11-29T10:25:52.036Z"
   },
   {
    "duration": 12,
    "start_time": "2023-11-29T10:25:52.045Z"
   },
   {
    "duration": 30,
    "start_time": "2023-11-29T10:25:52.059Z"
   },
   {
    "duration": 10,
    "start_time": "2023-11-29T10:25:52.090Z"
   },
   {
    "duration": 6,
    "start_time": "2023-11-29T10:25:52.101Z"
   },
   {
    "duration": 13,
    "start_time": "2023-11-29T10:25:52.110Z"
   },
   {
    "duration": 8,
    "start_time": "2023-11-29T10:25:52.125Z"
   },
   {
    "duration": 22,
    "start_time": "2023-11-29T10:25:52.135Z"
   },
   {
    "duration": 11,
    "start_time": "2023-11-29T10:25:52.159Z"
   },
   {
    "duration": 32,
    "start_time": "2023-11-29T10:25:52.171Z"
   },
   {
    "duration": 4,
    "start_time": "2023-11-29T10:25:52.204Z"
   },
   {
    "duration": 786,
    "start_time": "2023-11-29T10:25:52.209Z"
   },
   {
    "duration": 383,
    "start_time": "2023-11-29T10:25:52.996Z"
   },
   {
    "duration": 334,
    "start_time": "2023-11-29T10:25:53.380Z"
   },
   {
    "duration": 352,
    "start_time": "2023-11-29T10:25:53.716Z"
   },
   {
    "duration": 341,
    "start_time": "2023-11-29T10:25:54.069Z"
   },
   {
    "duration": 400,
    "start_time": "2023-11-29T10:25:54.412Z"
   },
   {
    "duration": 751,
    "start_time": "2023-11-29T10:25:54.813Z"
   },
   {
    "duration": 12,
    "start_time": "2023-11-29T10:25:55.566Z"
   },
   {
    "duration": 9,
    "start_time": "2023-11-29T10:25:55.579Z"
   },
   {
    "duration": 15,
    "start_time": "2023-11-29T10:25:55.589Z"
   },
   {
    "duration": 13,
    "start_time": "2023-11-29T10:25:55.606Z"
   },
   {
    "duration": 12,
    "start_time": "2023-11-29T10:25:55.620Z"
   },
   {
    "duration": 40,
    "start_time": "2023-11-29T10:25:55.634Z"
   },
   {
    "duration": 10,
    "start_time": "2023-11-29T10:25:55.675Z"
   },
   {
    "duration": 12,
    "start_time": "2023-11-29T10:25:55.687Z"
   },
   {
    "duration": 13,
    "start_time": "2023-11-29T10:28:55.669Z"
   },
   {
    "duration": 12,
    "start_time": "2023-11-29T10:29:00.155Z"
   },
   {
    "duration": 13,
    "start_time": "2023-11-29T10:29:15.201Z"
   },
   {
    "duration": 12,
    "start_time": "2023-11-29T10:29:18.893Z"
   },
   {
    "duration": 13,
    "start_time": "2023-11-29T10:29:23.431Z"
   },
   {
    "duration": 11,
    "start_time": "2023-11-29T10:29:26.962Z"
   },
   {
    "duration": 11,
    "start_time": "2023-11-29T10:29:49.358Z"
   },
   {
    "duration": 10,
    "start_time": "2023-11-29T10:29:54.067Z"
   },
   {
    "duration": 12,
    "start_time": "2023-11-29T10:30:07.694Z"
   },
   {
    "duration": 11,
    "start_time": "2023-11-29T10:30:12.312Z"
   },
   {
    "duration": 128,
    "start_time": "2023-11-29T10:30:30.215Z"
   },
   {
    "duration": 12,
    "start_time": "2023-11-29T10:30:44.984Z"
   },
   {
    "duration": 12,
    "start_time": "2023-11-29T10:30:58.451Z"
   },
   {
    "duration": 11,
    "start_time": "2023-11-29T10:31:45.209Z"
   },
   {
    "duration": 13,
    "start_time": "2023-11-29T10:32:16.675Z"
   },
   {
    "duration": 11,
    "start_time": "2023-11-29T10:32:20.849Z"
   },
   {
    "duration": 11,
    "start_time": "2023-11-29T10:32:49.983Z"
   },
   {
    "duration": 11,
    "start_time": "2023-11-29T10:32:55.836Z"
   },
   {
    "duration": 12,
    "start_time": "2023-11-29T10:33:43.336Z"
   },
   {
    "duration": 11,
    "start_time": "2023-11-29T10:33:48.143Z"
   },
   {
    "duration": 12,
    "start_time": "2023-11-29T10:33:56.753Z"
   },
   {
    "duration": 12,
    "start_time": "2023-11-29T10:34:12.006Z"
   },
   {
    "duration": 11,
    "start_time": "2023-11-29T10:34:13.137Z"
   },
   {
    "duration": 12,
    "start_time": "2023-11-29T10:34:14.057Z"
   },
   {
    "duration": 12,
    "start_time": "2023-11-29T10:34:15.051Z"
   },
   {
    "duration": 13,
    "start_time": "2023-11-29T10:46:56.849Z"
   },
   {
    "duration": 11,
    "start_time": "2023-11-29T10:47:01.709Z"
   },
   {
    "duration": 11,
    "start_time": "2023-11-29T10:47:08.512Z"
   },
   {
    "duration": 11,
    "start_time": "2023-11-29T10:47:12.658Z"
   },
   {
    "duration": 12,
    "start_time": "2023-11-29T10:47:17.896Z"
   },
   {
    "duration": 13,
    "start_time": "2023-11-29T10:47:21.453Z"
   },
   {
    "duration": 11,
    "start_time": "2023-11-29T10:47:28.233Z"
   },
   {
    "duration": 11,
    "start_time": "2023-11-29T10:47:35.338Z"
   },
   {
    "duration": 14,
    "start_time": "2023-11-29T10:47:41.672Z"
   },
   {
    "duration": 24,
    "start_time": "2023-11-29T10:47:48.177Z"
   },
   {
    "duration": 11,
    "start_time": "2023-11-29T10:47:54.354Z"
   },
   {
    "duration": 41,
    "start_time": "2023-11-29T10:48:30.300Z"
   },
   {
    "duration": 11,
    "start_time": "2023-11-29T10:48:33.910Z"
   },
   {
    "duration": 11,
    "start_time": "2023-11-29T10:48:38.916Z"
   },
   {
    "duration": 11,
    "start_time": "2023-11-29T10:48:48.837Z"
   },
   {
    "duration": 12,
    "start_time": "2023-11-29T10:48:54.555Z"
   },
   {
    "duration": 12,
    "start_time": "2023-11-29T10:48:59.631Z"
   },
   {
    "duration": 13,
    "start_time": "2023-11-29T10:49:17.274Z"
   },
   {
    "duration": 12,
    "start_time": "2023-11-29T10:49:24.720Z"
   },
   {
    "duration": 16,
    "start_time": "2023-11-29T10:49:48.092Z"
   },
   {
    "duration": 13,
    "start_time": "2023-11-29T10:49:57.080Z"
   },
   {
    "duration": 12,
    "start_time": "2023-11-29T10:50:00.053Z"
   },
   {
    "duration": 14,
    "start_time": "2023-11-29T10:50:09.113Z"
   },
   {
    "duration": 12,
    "start_time": "2023-11-29T10:50:20.778Z"
   },
   {
    "duration": 14,
    "start_time": "2023-11-29T10:50:28.022Z"
   },
   {
    "duration": 12,
    "start_time": "2023-11-29T10:50:32.961Z"
   },
   {
    "duration": 12,
    "start_time": "2023-11-29T10:50:41.847Z"
   },
   {
    "duration": 11,
    "start_time": "2023-11-29T10:50:50.585Z"
   },
   {
    "duration": 13,
    "start_time": "2023-11-29T10:50:54.944Z"
   },
   {
    "duration": 15,
    "start_time": "2023-11-29T10:50:59.324Z"
   },
   {
    "duration": 12,
    "start_time": "2023-11-29T10:51:02.590Z"
   },
   {
    "duration": 13,
    "start_time": "2023-11-29T10:51:06.593Z"
   },
   {
    "duration": 12,
    "start_time": "2023-11-29T10:51:18.511Z"
   },
   {
    "duration": 14,
    "start_time": "2023-11-29T10:51:25.220Z"
   },
   {
    "duration": 12,
    "start_time": "2023-11-29T10:51:30.705Z"
   },
   {
    "duration": 12,
    "start_time": "2023-11-29T10:51:35.335Z"
   },
   {
    "duration": 11,
    "start_time": "2023-11-29T10:51:42.219Z"
   },
   {
    "duration": 12,
    "start_time": "2023-11-29T10:51:49.322Z"
   },
   {
    "duration": 12,
    "start_time": "2023-11-29T10:51:56.995Z"
   },
   {
    "duration": 12,
    "start_time": "2023-11-29T10:52:09.357Z"
   },
   {
    "duration": 12,
    "start_time": "2023-11-29T10:52:15.533Z"
   },
   {
    "duration": 11,
    "start_time": "2023-11-29T10:52:20.195Z"
   },
   {
    "duration": 11,
    "start_time": "2023-11-29T10:52:27.749Z"
   },
   {
    "duration": 11,
    "start_time": "2023-11-29T10:52:31.852Z"
   },
   {
    "duration": 32,
    "start_time": "2023-11-29T10:52:58.230Z"
   },
   {
    "duration": 13,
    "start_time": "2023-11-29T10:53:17.124Z"
   },
   {
    "duration": 13,
    "start_time": "2023-11-29T10:53:23.804Z"
   },
   {
    "duration": 14,
    "start_time": "2023-11-29T10:53:34.801Z"
   },
   {
    "duration": 11,
    "start_time": "2023-11-29T11:02:40.418Z"
   },
   {
    "duration": 12,
    "start_time": "2023-11-29T11:02:48.407Z"
   },
   {
    "duration": 11,
    "start_time": "2023-11-29T11:02:55.017Z"
   },
   {
    "duration": 14,
    "start_time": "2023-11-29T11:03:13.580Z"
   },
   {
    "duration": 12,
    "start_time": "2023-11-29T11:03:29.137Z"
   },
   {
    "duration": 11,
    "start_time": "2023-11-29T11:03:35.592Z"
   },
   {
    "duration": 14,
    "start_time": "2023-11-29T11:03:40.882Z"
   },
   {
    "duration": 12,
    "start_time": "2023-11-29T11:03:47.812Z"
   },
   {
    "duration": 12,
    "start_time": "2023-11-29T11:03:54.126Z"
   },
   {
    "duration": 12,
    "start_time": "2023-11-29T11:03:59.168Z"
   },
   {
    "duration": 13,
    "start_time": "2023-11-29T11:04:03.613Z"
   },
   {
    "duration": 15,
    "start_time": "2023-11-29T11:04:08.086Z"
   },
   {
    "duration": 12,
    "start_time": "2023-11-29T11:04:13.593Z"
   },
   {
    "duration": 13,
    "start_time": "2023-11-29T11:04:16.590Z"
   },
   {
    "duration": 13,
    "start_time": "2023-11-29T11:04:21.962Z"
   },
   {
    "duration": 12,
    "start_time": "2023-11-29T11:04:25.761Z"
   },
   {
    "duration": 12,
    "start_time": "2023-11-29T11:04:30.741Z"
   },
   {
    "duration": 12,
    "start_time": "2023-11-29T11:04:37.961Z"
   },
   {
    "duration": 12,
    "start_time": "2023-11-29T11:04:41.250Z"
   },
   {
    "duration": 12,
    "start_time": "2023-11-29T11:11:29.640Z"
   },
   {
    "duration": 12,
    "start_time": "2023-11-29T11:11:38.170Z"
   },
   {
    "duration": 12,
    "start_time": "2023-11-29T11:11:42.743Z"
   },
   {
    "duration": 12,
    "start_time": "2023-11-29T11:11:49.303Z"
   },
   {
    "duration": 11,
    "start_time": "2023-11-29T11:13:33.803Z"
   },
   {
    "duration": 11,
    "start_time": "2023-11-29T11:14:04.896Z"
   },
   {
    "duration": 13,
    "start_time": "2023-11-29T11:14:13.443Z"
   },
   {
    "duration": 12,
    "start_time": "2023-11-29T11:14:17.812Z"
   },
   {
    "duration": 11,
    "start_time": "2023-11-29T11:14:21.247Z"
   },
   {
    "duration": 10,
    "start_time": "2023-11-29T11:14:37.400Z"
   },
   {
    "duration": 13,
    "start_time": "2023-11-29T11:14:42.229Z"
   },
   {
    "duration": 10,
    "start_time": "2023-11-29T11:14:46.541Z"
   },
   {
    "duration": 11,
    "start_time": "2023-11-29T11:14:50.872Z"
   },
   {
    "duration": 11,
    "start_time": "2023-11-29T11:14:59.751Z"
   },
   {
    "duration": 15,
    "start_time": "2023-11-29T11:15:04.095Z"
   },
   {
    "duration": 11,
    "start_time": "2023-11-29T11:15:08.338Z"
   },
   {
    "duration": 11,
    "start_time": "2023-11-29T11:15:23.473Z"
   },
   {
    "duration": 10,
    "start_time": "2023-11-29T11:17:45.561Z"
   },
   {
    "duration": 11,
    "start_time": "2023-11-29T11:17:51.215Z"
   },
   {
    "duration": 9,
    "start_time": "2023-11-29T11:17:57.726Z"
   },
   {
    "duration": 11,
    "start_time": "2023-11-29T11:18:02.640Z"
   },
   {
    "duration": 13,
    "start_time": "2023-11-29T11:19:09.349Z"
   },
   {
    "duration": 11,
    "start_time": "2023-11-29T11:19:17.227Z"
   },
   {
    "duration": 11,
    "start_time": "2023-11-29T11:19:22.047Z"
   },
   {
    "duration": 12,
    "start_time": "2023-11-29T11:19:29.421Z"
   },
   {
    "duration": 11,
    "start_time": "2023-11-29T11:19:37.540Z"
   },
   {
    "duration": 11,
    "start_time": "2023-11-29T11:19:44.848Z"
   },
   {
    "duration": 13,
    "start_time": "2023-11-29T11:19:52.792Z"
   },
   {
    "duration": 11,
    "start_time": "2023-11-29T11:19:57.433Z"
   },
   {
    "duration": 14,
    "start_time": "2023-11-29T11:21:07.541Z"
   },
   {
    "duration": 12,
    "start_time": "2023-11-29T11:21:11.484Z"
   },
   {
    "duration": 22,
    "start_time": "2023-11-29T11:21:40.764Z"
   },
   {
    "duration": 11,
    "start_time": "2023-11-29T11:21:49.346Z"
   },
   {
    "duration": 11,
    "start_time": "2023-11-29T11:21:55.208Z"
   },
   {
    "duration": 11,
    "start_time": "2023-11-29T11:21:58.852Z"
   },
   {
    "duration": 14,
    "start_time": "2023-11-29T11:22:06.067Z"
   },
   {
    "duration": 11,
    "start_time": "2023-11-29T11:22:10.971Z"
   },
   {
    "duration": 12,
    "start_time": "2023-11-29T11:22:14.920Z"
   },
   {
    "duration": 11,
    "start_time": "2023-11-29T11:22:19.563Z"
   },
   {
    "duration": 11,
    "start_time": "2023-11-29T11:22:25.009Z"
   },
   {
    "duration": 10,
    "start_time": "2023-11-29T11:22:49.950Z"
   },
   {
    "duration": 11,
    "start_time": "2023-11-29T11:22:55.851Z"
   },
   {
    "duration": 12,
    "start_time": "2023-11-29T11:23:14.029Z"
   },
   {
    "duration": 11,
    "start_time": "2023-11-29T11:23:18.775Z"
   },
   {
    "duration": 10,
    "start_time": "2023-11-29T11:23:29.589Z"
   },
   {
    "duration": 11,
    "start_time": "2023-11-29T11:23:34.524Z"
   },
   {
    "duration": 11,
    "start_time": "2023-11-29T11:24:07.993Z"
   },
   {
    "duration": 10,
    "start_time": "2023-11-29T11:24:14.985Z"
   },
   {
    "duration": 11,
    "start_time": "2023-11-29T11:24:19.560Z"
   },
   {
    "duration": 11,
    "start_time": "2023-11-29T11:24:23.564Z"
   },
   {
    "duration": 11,
    "start_time": "2023-11-29T11:24:28.840Z"
   },
   {
    "duration": 11,
    "start_time": "2023-11-29T11:24:32.009Z"
   },
   {
    "duration": 11,
    "start_time": "2023-11-29T11:24:41.691Z"
   },
   {
    "duration": 11,
    "start_time": "2023-11-29T11:24:46.213Z"
   },
   {
    "duration": 11,
    "start_time": "2023-11-29T11:24:49.261Z"
   },
   {
    "duration": 12,
    "start_time": "2023-11-29T11:24:58.215Z"
   },
   {
    "duration": 11,
    "start_time": "2023-11-29T11:25:04.578Z"
   },
   {
    "duration": 10,
    "start_time": "2023-11-29T11:25:08.994Z"
   },
   {
    "duration": 12,
    "start_time": "2023-11-29T11:25:14.079Z"
   },
   {
    "duration": 71,
    "start_time": "2023-11-29T11:25:23.436Z"
   },
   {
    "duration": 11,
    "start_time": "2023-11-29T11:25:28.230Z"
   },
   {
    "duration": 12,
    "start_time": "2023-11-29T11:25:33.120Z"
   },
   {
    "duration": 12,
    "start_time": "2023-11-29T11:25:37.686Z"
   },
   {
    "duration": 12,
    "start_time": "2023-11-29T11:25:44.096Z"
   },
   {
    "duration": 11,
    "start_time": "2023-11-29T11:25:53.841Z"
   },
   {
    "duration": 12,
    "start_time": "2023-11-29T11:25:57.118Z"
   },
   {
    "duration": 13,
    "start_time": "2023-11-29T11:26:01.799Z"
   },
   {
    "duration": 12,
    "start_time": "2023-11-29T11:26:09.083Z"
   },
   {
    "duration": 12,
    "start_time": "2023-11-29T11:26:21.285Z"
   },
   {
    "duration": 12,
    "start_time": "2023-11-29T11:26:30.456Z"
   },
   {
    "duration": 12,
    "start_time": "2023-11-29T11:26:38.512Z"
   },
   {
    "duration": 15,
    "start_time": "2023-11-29T11:26:46.866Z"
   },
   {
    "duration": 12,
    "start_time": "2023-11-29T11:26:56.286Z"
   },
   {
    "duration": 12,
    "start_time": "2023-11-29T11:27:04.345Z"
   },
   {
    "duration": 900,
    "start_time": "2023-11-29T11:45:43.297Z"
   },
   {
    "duration": 3,
    "start_time": "2023-11-29T11:47:24.075Z"
   },
   {
    "duration": 3,
    "start_time": "2023-11-29T13:34:16.126Z"
   },
   {
    "duration": 2610,
    "start_time": "2023-11-29T13:34:16.157Z"
   },
   {
    "duration": 1242,
    "start_time": "2023-11-29T13:34:18.769Z"
   },
   {
    "duration": 124,
    "start_time": "2023-11-29T13:34:20.012Z"
   },
   {
    "duration": 12,
    "start_time": "2023-11-29T13:34:20.137Z"
   },
   {
    "duration": 49,
    "start_time": "2023-11-29T13:34:20.151Z"
   },
   {
    "duration": 9,
    "start_time": "2023-11-29T13:34:20.202Z"
   },
   {
    "duration": 12,
    "start_time": "2023-11-29T13:34:20.213Z"
   },
   {
    "duration": 16,
    "start_time": "2023-11-29T13:34:20.227Z"
   },
   {
    "duration": 44,
    "start_time": "2023-11-29T13:34:20.244Z"
   },
   {
    "duration": 12,
    "start_time": "2023-11-29T13:34:20.290Z"
   },
   {
    "duration": 31,
    "start_time": "2023-11-29T13:34:20.304Z"
   },
   {
    "duration": 11,
    "start_time": "2023-11-29T13:34:20.337Z"
   },
   {
    "duration": 14,
    "start_time": "2023-11-29T13:34:20.350Z"
   },
   {
    "duration": 13,
    "start_time": "2023-11-29T13:34:20.366Z"
   },
   {
    "duration": 18,
    "start_time": "2023-11-29T13:34:20.380Z"
   },
   {
    "duration": 9,
    "start_time": "2023-11-29T13:34:20.399Z"
   },
   {
    "duration": 26,
    "start_time": "2023-11-29T13:34:20.409Z"
   },
   {
    "duration": 3,
    "start_time": "2023-11-29T13:34:20.436Z"
   },
   {
    "duration": 752,
    "start_time": "2023-11-29T13:34:20.440Z"
   },
   {
    "duration": 375,
    "start_time": "2023-11-29T13:34:21.194Z"
   },
   {
    "duration": 341,
    "start_time": "2023-11-29T13:34:21.571Z"
   },
   {
    "duration": 345,
    "start_time": "2023-11-29T13:34:21.914Z"
   },
   {
    "duration": 324,
    "start_time": "2023-11-29T13:34:22.260Z"
   },
   {
    "duration": 378,
    "start_time": "2023-11-29T13:34:22.585Z"
   },
   {
    "duration": 746,
    "start_time": "2023-11-29T13:34:22.966Z"
   },
   {
    "duration": 10,
    "start_time": "2023-11-29T13:34:23.715Z"
   },
   {
    "duration": 5,
    "start_time": "2023-11-29T13:34:23.726Z"
   },
   {
    "duration": 31,
    "start_time": "2023-11-29T13:34:23.733Z"
   },
   {
    "duration": 19,
    "start_time": "2023-11-29T13:34:23.767Z"
   },
   {
    "duration": 34,
    "start_time": "2023-11-29T13:34:23.788Z"
   },
   {
    "duration": 10,
    "start_time": "2023-11-29T13:34:23.823Z"
   },
   {
    "duration": 9,
    "start_time": "2023-11-29T13:34:23.835Z"
   },
   {
    "duration": 3,
    "start_time": "2023-11-29T17:25:13.470Z"
   },
   {
    "duration": 3670,
    "start_time": "2023-11-29T17:25:13.511Z"
   },
   {
    "duration": 1475,
    "start_time": "2023-11-29T17:25:17.184Z"
   },
   {
    "duration": 73,
    "start_time": "2023-11-29T17:25:18.661Z"
   },
   {
    "duration": 12,
    "start_time": "2023-11-29T17:25:18.736Z"
   },
   {
    "duration": 40,
    "start_time": "2023-11-29T17:25:18.750Z"
   },
   {
    "duration": 8,
    "start_time": "2023-11-29T17:25:18.792Z"
   },
   {
    "duration": 4,
    "start_time": "2023-11-29T17:25:18.822Z"
   },
   {
    "duration": 7,
    "start_time": "2023-11-29T17:25:18.828Z"
   },
   {
    "duration": 14,
    "start_time": "2023-11-29T17:25:18.837Z"
   },
   {
    "duration": 28,
    "start_time": "2023-11-29T17:25:18.853Z"
   },
   {
    "duration": 14,
    "start_time": "2023-11-29T17:25:18.883Z"
   },
   {
    "duration": 20,
    "start_time": "2023-11-29T17:25:18.898Z"
   },
   {
    "duration": 25,
    "start_time": "2023-11-29T17:25:18.920Z"
   },
   {
    "duration": 9,
    "start_time": "2023-11-29T17:25:18.949Z"
   },
   {
    "duration": 14,
    "start_time": "2023-11-29T17:25:18.959Z"
   },
   {
    "duration": 4,
    "start_time": "2023-11-29T17:25:18.975Z"
   },
   {
    "duration": 32,
    "start_time": "2023-11-29T17:25:18.981Z"
   },
   {
    "duration": 4,
    "start_time": "2023-11-29T17:25:19.021Z"
   },
   {
    "duration": 871,
    "start_time": "2023-11-29T17:25:19.026Z"
   },
   {
    "duration": 323,
    "start_time": "2023-11-29T17:25:19.899Z"
   },
   {
    "duration": 311,
    "start_time": "2023-11-29T17:25:20.224Z"
   },
   {
    "duration": 364,
    "start_time": "2023-11-29T17:25:20.536Z"
   },
   {
    "duration": 317,
    "start_time": "2023-11-29T17:25:20.902Z"
   },
   {
    "duration": 380,
    "start_time": "2023-11-29T17:25:21.222Z"
   },
   {
    "duration": 840,
    "start_time": "2023-11-29T17:25:21.604Z"
   },
   {
    "duration": 8,
    "start_time": "2023-11-29T17:25:22.446Z"
   },
   {
    "duration": 7,
    "start_time": "2023-11-29T17:25:22.455Z"
   },
   {
    "duration": 14,
    "start_time": "2023-11-29T17:25:22.463Z"
   },
   {
    "duration": 12,
    "start_time": "2023-11-29T17:25:22.479Z"
   },
   {
    "duration": 107,
    "start_time": "2023-11-29T17:25:22.493Z"
   },
   {
    "duration": 24,
    "start_time": "2023-11-29T17:25:22.602Z"
   },
   {
    "duration": 10,
    "start_time": "2023-11-29T17:25:22.628Z"
   },
   {
    "duration": 822,
    "start_time": "2023-11-29T17:43:12.928Z"
   },
   {
    "duration": 1463,
    "start_time": "2023-11-29T17:43:44.586Z"
   },
   {
    "duration": 77,
    "start_time": "2023-11-29T17:51:32.503Z"
   },
   {
    "duration": 93,
    "start_time": "2023-11-29T17:54:15.130Z"
   },
   {
    "duration": 80,
    "start_time": "2023-11-29T17:54:28.475Z"
   },
   {
    "duration": 38,
    "start_time": "2023-11-29T17:56:33.026Z"
   },
   {
    "duration": 86,
    "start_time": "2023-11-29T18:26:09.698Z"
   },
   {
    "duration": 4,
    "start_time": "2023-11-29T18:26:19.006Z"
   },
   {
    "duration": 3487,
    "start_time": "2023-11-29T18:26:19.013Z"
   },
   {
    "duration": 1383,
    "start_time": "2023-11-29T18:26:22.502Z"
   },
   {
    "duration": 100,
    "start_time": "2023-11-29T18:26:23.886Z"
   },
   {
    "duration": 11,
    "start_time": "2023-11-29T18:26:23.988Z"
   },
   {
    "duration": 36,
    "start_time": "2023-11-29T18:26:24.001Z"
   },
   {
    "duration": 5,
    "start_time": "2023-11-29T18:26:24.039Z"
   },
   {
    "duration": 9,
    "start_time": "2023-11-29T18:26:24.045Z"
   },
   {
    "duration": 5,
    "start_time": "2023-11-29T18:26:24.055Z"
   },
   {
    "duration": 18,
    "start_time": "2023-11-29T18:26:24.081Z"
   },
   {
    "duration": 8,
    "start_time": "2023-11-29T18:26:24.101Z"
   },
   {
    "duration": 10,
    "start_time": "2023-11-29T18:26:24.110Z"
   },
   {
    "duration": 16,
    "start_time": "2023-11-29T18:26:24.122Z"
   },
   {
    "duration": 13,
    "start_time": "2023-11-29T18:26:24.140Z"
   },
   {
    "duration": 9,
    "start_time": "2023-11-29T18:26:24.156Z"
   },
   {
    "duration": 15,
    "start_time": "2023-11-29T18:26:24.182Z"
   },
   {
    "duration": 5,
    "start_time": "2023-11-29T18:26:24.199Z"
   },
   {
    "duration": 52,
    "start_time": "2023-11-29T18:26:24.206Z"
   },
   {
    "duration": 4,
    "start_time": "2023-11-29T18:26:24.260Z"
   },
   {
    "duration": 750,
    "start_time": "2023-11-29T18:26:24.266Z"
   },
   {
    "duration": 372,
    "start_time": "2023-11-29T18:26:25.019Z"
   },
   {
    "duration": 287,
    "start_time": "2023-11-29T18:26:25.393Z"
   },
   {
    "duration": 297,
    "start_time": "2023-11-29T18:26:25.682Z"
   },
   {
    "duration": 316,
    "start_time": "2023-11-29T18:26:25.981Z"
   },
   {
    "duration": 368,
    "start_time": "2023-11-29T18:26:26.298Z"
   },
   {
    "duration": 729,
    "start_time": "2023-11-29T18:26:26.667Z"
   },
   {
    "duration": 8,
    "start_time": "2023-11-29T18:26:27.397Z"
   },
   {
    "duration": 8,
    "start_time": "2023-11-29T18:26:27.406Z"
   },
   {
    "duration": 17,
    "start_time": "2023-11-29T18:26:27.416Z"
   },
   {
    "duration": 12,
    "start_time": "2023-11-29T18:26:27.434Z"
   },
   {
    "duration": 10,
    "start_time": "2023-11-29T18:26:27.448Z"
   },
   {
    "duration": 29,
    "start_time": "2023-11-29T18:26:27.459Z"
   },
   {
    "duration": 9,
    "start_time": "2023-11-29T18:26:27.490Z"
   },
   {
    "duration": 9,
    "start_time": "2023-11-29T18:35:49.559Z"
   },
   {
    "duration": 5,
    "start_time": "2023-11-29T18:35:51.916Z"
   },
   {
    "duration": 5,
    "start_time": "2023-11-29T18:36:15.878Z"
   },
   {
    "duration": 10,
    "start_time": "2023-11-29T18:36:29.156Z"
   },
   {
    "duration": 4,
    "start_time": "2023-11-29T18:38:47.525Z"
   },
   {
    "duration": 7,
    "start_time": "2023-11-29T18:38:49.789Z"
   },
   {
    "duration": 4,
    "start_time": "2023-11-29T18:39:04.191Z"
   },
   {
    "duration": 770,
    "start_time": "2023-11-29T18:39:04.839Z"
   },
   {
    "duration": 3,
    "start_time": "2023-11-29T18:40:32.803Z"
   },
   {
    "duration": 212,
    "start_time": "2023-11-29T18:40:35.510Z"
   },
   {
    "duration": 4,
    "start_time": "2023-11-29T18:41:05.459Z"
   },
   {
    "duration": 1344,
    "start_time": "2023-11-29T18:41:05.977Z"
   },
   {
    "duration": 84,
    "start_time": "2023-11-29T18:41:28.309Z"
   },
   {
    "duration": 64,
    "start_time": "2023-11-29T18:43:24.806Z"
   },
   {
    "duration": 3,
    "start_time": "2023-11-29T18:49:10.562Z"
   },
   {
    "duration": 2262,
    "start_time": "2023-11-29T18:49:10.569Z"
   },
   {
    "duration": 1130,
    "start_time": "2023-11-29T18:49:12.833Z"
   },
   {
    "duration": 79,
    "start_time": "2023-11-29T18:49:13.965Z"
   },
   {
    "duration": 11,
    "start_time": "2023-11-29T18:49:14.046Z"
   },
   {
    "duration": 40,
    "start_time": "2023-11-29T18:49:14.059Z"
   },
   {
    "duration": 5,
    "start_time": "2023-11-29T18:49:14.101Z"
   },
   {
    "duration": 17,
    "start_time": "2023-11-29T18:49:14.108Z"
   },
   {
    "duration": 12,
    "start_time": "2023-11-29T18:49:14.126Z"
   },
   {
    "duration": 14,
    "start_time": "2023-11-29T18:49:14.140Z"
   },
   {
    "duration": 6,
    "start_time": "2023-11-29T18:49:14.156Z"
   },
   {
    "duration": 7,
    "start_time": "2023-11-29T18:49:14.164Z"
   },
   {
    "duration": 6,
    "start_time": "2023-11-29T18:49:14.172Z"
   },
   {
    "duration": 5,
    "start_time": "2023-11-29T18:49:14.182Z"
   },
   {
    "duration": 27,
    "start_time": "2023-11-29T18:49:14.188Z"
   },
   {
    "duration": 3,
    "start_time": "2023-11-29T18:49:14.216Z"
   },
   {
    "duration": 11,
    "start_time": "2023-11-29T18:49:14.221Z"
   },
   {
    "duration": 7,
    "start_time": "2023-11-29T18:49:14.233Z"
   },
   {
    "duration": 14,
    "start_time": "2023-11-29T18:49:14.241Z"
   },
   {
    "duration": 4,
    "start_time": "2023-11-29T18:49:14.256Z"
   },
   {
    "duration": 40,
    "start_time": "2023-11-29T18:49:14.261Z"
   },
   {
    "duration": 3,
    "start_time": "2023-11-29T18:49:14.302Z"
   },
   {
    "duration": 1406,
    "start_time": "2023-11-29T18:49:14.307Z"
   },
   {
    "duration": 357,
    "start_time": "2023-11-29T18:49:15.715Z"
   },
   {
    "duration": 321,
    "start_time": "2023-11-29T18:49:16.074Z"
   },
   {
    "duration": 347,
    "start_time": "2023-11-29T18:49:16.397Z"
   },
   {
    "duration": 343,
    "start_time": "2023-11-29T18:49:16.745Z"
   },
   {
    "duration": 364,
    "start_time": "2023-11-29T18:49:17.090Z"
   },
   {
    "duration": 727,
    "start_time": "2023-11-29T18:49:17.457Z"
   },
   {
    "duration": 8,
    "start_time": "2023-11-29T18:49:18.185Z"
   },
   {
    "duration": 17,
    "start_time": "2023-11-29T18:49:18.195Z"
   },
   {
    "duration": 15,
    "start_time": "2023-11-29T18:49:18.214Z"
   },
   {
    "duration": 12,
    "start_time": "2023-11-29T18:49:18.230Z"
   },
   {
    "duration": 45,
    "start_time": "2023-11-29T18:49:18.243Z"
   },
   {
    "duration": 10,
    "start_time": "2023-11-29T18:49:18.290Z"
   },
   {
    "duration": 1327,
    "start_time": "2023-11-29T18:50:01.153Z"
   },
   {
    "duration": 1313,
    "start_time": "2023-11-29T18:50:47.389Z"
   },
   {
    "duration": 1255,
    "start_time": "2023-11-29T18:51:05.543Z"
   },
   {
    "duration": 83,
    "start_time": "2023-11-29T18:51:53.099Z"
   },
   {
    "duration": 7,
    "start_time": "2023-11-29T18:53:36.778Z"
   },
   {
    "duration": 4,
    "start_time": "2023-11-29T18:58:55.169Z"
   },
   {
    "duration": 1813,
    "start_time": "2023-11-29T18:58:56.540Z"
   },
   {
    "duration": 4,
    "start_time": "2023-11-29T18:59:12.158Z"
   },
   {
    "duration": 1577,
    "start_time": "2023-11-29T18:59:12.764Z"
   },
   {
    "duration": 2,
    "start_time": "2023-11-29T20:08:57.366Z"
   },
   {
    "duration": 2315,
    "start_time": "2023-11-29T20:08:57.370Z"
   },
   {
    "duration": 1125,
    "start_time": "2023-11-29T20:08:59.686Z"
   },
   {
    "duration": 87,
    "start_time": "2023-11-29T20:09:00.813Z"
   },
   {
    "duration": 12,
    "start_time": "2023-11-29T20:09:00.901Z"
   },
   {
    "duration": 91,
    "start_time": "2023-11-29T20:09:00.914Z"
   },
   {
    "duration": 6,
    "start_time": "2023-11-29T20:09:01.007Z"
   },
   {
    "duration": 48,
    "start_time": "2023-11-29T20:09:01.014Z"
   },
   {
    "duration": 53,
    "start_time": "2023-11-29T20:09:01.064Z"
   },
   {
    "duration": 28,
    "start_time": "2023-11-29T20:09:01.119Z"
   },
   {
    "duration": 22,
    "start_time": "2023-11-29T20:09:01.149Z"
   },
   {
    "duration": 38,
    "start_time": "2023-11-29T20:09:01.172Z"
   },
   {
    "duration": 36,
    "start_time": "2023-11-29T20:09:01.212Z"
   },
   {
    "duration": 44,
    "start_time": "2023-11-29T20:09:01.249Z"
   },
   {
    "duration": 38,
    "start_time": "2023-11-29T20:09:01.294Z"
   },
   {
    "duration": 44,
    "start_time": "2023-11-29T20:09:01.333Z"
   },
   {
    "duration": 28,
    "start_time": "2023-11-29T20:09:01.379Z"
   },
   {
    "duration": 26,
    "start_time": "2023-11-29T20:09:01.409Z"
   },
   {
    "duration": 23,
    "start_time": "2023-11-29T20:09:01.436Z"
   },
   {
    "duration": 11,
    "start_time": "2023-11-29T20:09:01.460Z"
   },
   {
    "duration": 41,
    "start_time": "2023-11-29T20:09:01.472Z"
   },
   {
    "duration": 4,
    "start_time": "2023-11-29T20:09:01.515Z"
   },
   {
    "duration": 1623,
    "start_time": "2023-11-29T20:09:01.520Z"
   },
   {
    "duration": 355,
    "start_time": "2023-11-29T20:09:03.145Z"
   },
   {
    "duration": 283,
    "start_time": "2023-11-29T20:09:03.502Z"
   },
   {
    "duration": 313,
    "start_time": "2023-11-29T20:09:03.787Z"
   },
   {
    "duration": 296,
    "start_time": "2023-11-29T20:09:04.102Z"
   },
   {
    "duration": 331,
    "start_time": "2023-11-29T20:09:04.400Z"
   },
   {
    "duration": 1307,
    "start_time": "2023-11-29T20:09:04.733Z"
   },
   {
    "duration": 8,
    "start_time": "2023-11-29T20:09:06.042Z"
   },
   {
    "duration": 18,
    "start_time": "2023-11-29T20:09:06.051Z"
   },
   {
    "duration": 14,
    "start_time": "2023-11-29T20:09:06.070Z"
   },
   {
    "duration": 11,
    "start_time": "2023-11-29T20:09:06.085Z"
   },
   {
    "duration": 10,
    "start_time": "2023-11-29T20:09:06.097Z"
   },
   {
    "duration": 19,
    "start_time": "2023-11-29T20:09:06.108Z"
   },
   {
    "duration": 4,
    "start_time": "2023-11-29T20:15:59.151Z"
   },
   {
    "duration": 105,
    "start_time": "2023-11-29T20:16:27.968Z"
   },
   {
    "duration": 5,
    "start_time": "2023-11-29T20:17:01.946Z"
   },
   {
    "duration": 12,
    "start_time": "2023-11-29T20:17:31.384Z"
   },
   {
    "duration": 6,
    "start_time": "2023-11-29T20:17:44.593Z"
   },
   {
    "duration": 19,
    "start_time": "2023-11-29T20:17:45.569Z"
   },
   {
    "duration": 4,
    "start_time": "2023-11-29T20:17:53.972Z"
   },
   {
    "duration": 1602,
    "start_time": "2023-11-29T20:17:54.539Z"
   },
   {
    "duration": 4,
    "start_time": "2023-11-29T20:25:04.058Z"
   },
   {
    "duration": 1552,
    "start_time": "2023-11-29T20:25:04.592Z"
   },
   {
    "duration": 365,
    "start_time": "2023-11-29T20:25:54.542Z"
   },
   {
    "duration": 307,
    "start_time": "2023-11-29T20:28:45.147Z"
   },
   {
    "duration": 285,
    "start_time": "2023-11-29T20:29:01.235Z"
   },
   {
    "duration": 281,
    "start_time": "2023-11-29T20:29:24.865Z"
   },
   {
    "duration": 290,
    "start_time": "2023-11-29T20:29:44.306Z"
   },
   {
    "duration": 291,
    "start_time": "2023-11-29T20:31:05.361Z"
   },
   {
    "duration": 357,
    "start_time": "2023-11-29T20:31:21.119Z"
   },
   {
    "duration": 288,
    "start_time": "2023-11-29T20:31:33.113Z"
   },
   {
    "duration": 305,
    "start_time": "2023-11-29T20:31:38.924Z"
   },
   {
    "duration": 4,
    "start_time": "2023-11-29T20:32:00.107Z"
   },
   {
    "duration": 1446,
    "start_time": "2023-11-29T20:32:00.670Z"
   },
   {
    "duration": 297,
    "start_time": "2023-11-29T20:32:13.448Z"
   },
   {
    "duration": 286,
    "start_time": "2023-11-29T20:32:39.525Z"
   },
   {
    "duration": 307,
    "start_time": "2023-11-29T20:33:01.281Z"
   },
   {
    "duration": 304,
    "start_time": "2023-11-29T20:33:14.061Z"
   },
   {
    "duration": 7,
    "start_time": "2023-11-29T20:50:26.899Z"
   },
   {
    "duration": 18,
    "start_time": "2023-11-29T20:59:03.787Z"
   },
   {
    "duration": 38507,
    "start_time": "2023-11-29T21:00:51.062Z"
   },
   {
    "duration": 8,
    "start_time": "2023-11-29T21:02:58.658Z"
   },
   {
    "duration": 342,
    "start_time": "2023-11-29T21:03:23.349Z"
   },
   {
    "duration": 285,
    "start_time": "2023-11-29T21:03:50.005Z"
   },
   {
    "duration": 421,
    "start_time": "2023-11-29T21:04:19.347Z"
   },
   {
    "duration": 324,
    "start_time": "2023-11-29T21:04:28.223Z"
   },
   {
    "duration": 328,
    "start_time": "2023-11-29T21:04:56.034Z"
   },
   {
    "duration": 3,
    "start_time": "2023-11-29T21:09:44.492Z"
   },
   {
    "duration": 8,
    "start_time": "2023-11-29T21:14:43.200Z"
   },
   {
    "duration": 2304,
    "start_time": "2023-11-29T21:15:01.179Z"
   },
   {
    "duration": 1055,
    "start_time": "2023-11-29T21:15:04.043Z"
   },
   {
    "duration": 79,
    "start_time": "2023-11-29T21:15:05.622Z"
   },
   {
    "duration": 12,
    "start_time": "2023-11-29T21:15:06.335Z"
   },
   {
    "duration": 38,
    "start_time": "2023-11-29T21:15:07.325Z"
   },
   {
    "duration": 6,
    "start_time": "2023-11-29T21:15:07.955Z"
   },
   {
    "duration": 18,
    "start_time": "2023-11-29T21:15:10.494Z"
   },
   {
    "duration": 3,
    "start_time": "2023-11-29T21:19:11.171Z"
   },
   {
    "duration": 74,
    "start_time": "2023-11-29T21:19:13.209Z"
   },
   {
    "duration": 1601,
    "start_time": "2023-11-29T21:20:07.903Z"
   },
   {
    "duration": 63,
    "start_time": "2023-11-29T21:23:47.243Z"
   },
   {
    "duration": 5,
    "start_time": "2023-11-29T21:23:50.245Z"
   },
   {
    "duration": 4,
    "start_time": "2023-11-29T21:24:00.677Z"
   },
   {
    "duration": 122,
    "start_time": "2023-11-29T21:25:14.272Z"
   },
   {
    "duration": 4,
    "start_time": "2023-11-29T21:25:20.089Z"
   },
   {
    "duration": 10,
    "start_time": "2023-11-29T21:27:20.383Z"
   },
   {
    "duration": 12,
    "start_time": "2023-11-29T21:28:59.619Z"
   },
   {
    "duration": 12,
    "start_time": "2023-11-29T21:29:17.532Z"
   },
   {
    "duration": 13,
    "start_time": "2023-11-29T21:29:27.307Z"
   },
   {
    "duration": 13,
    "start_time": "2023-11-29T21:29:56.166Z"
   },
   {
    "duration": 9,
    "start_time": "2023-11-29T21:30:51.469Z"
   },
   {
    "duration": 13,
    "start_time": "2023-11-29T21:31:27.806Z"
   },
   {
    "duration": 9,
    "start_time": "2023-11-29T21:33:02.732Z"
   },
   {
    "duration": 118,
    "start_time": "2023-11-29T21:33:35.999Z"
   },
   {
    "duration": 12,
    "start_time": "2023-11-29T21:33:36.694Z"
   },
   {
    "duration": 10,
    "start_time": "2023-11-29T21:33:37.417Z"
   },
   {
    "duration": 14,
    "start_time": "2023-11-29T21:33:48.890Z"
   },
   {
    "duration": 4,
    "start_time": "2023-11-30T07:00:26.466Z"
   },
   {
    "duration": 3522,
    "start_time": "2023-11-30T07:00:29.993Z"
   },
   {
    "duration": 1358,
    "start_time": "2023-11-30T07:00:33.517Z"
   },
   {
    "duration": 232,
    "start_time": "2023-11-30T07:00:34.876Z"
   },
   {
    "duration": 13,
    "start_time": "2023-11-30T07:00:35.110Z"
   },
   {
    "duration": 4,
    "start_time": "2023-11-30T07:17:59.627Z"
   },
   {
    "duration": 2772,
    "start_time": "2023-11-30T07:17:59.634Z"
   },
   {
    "duration": 1324,
    "start_time": "2023-11-30T07:18:02.408Z"
   },
   {
    "duration": 98,
    "start_time": "2023-11-30T07:18:03.735Z"
   },
   {
    "duration": 15,
    "start_time": "2023-11-30T07:18:03.835Z"
   },
   {
    "duration": 64,
    "start_time": "2023-11-30T07:18:03.852Z"
   },
   {
    "duration": 17,
    "start_time": "2023-11-30T07:18:03.918Z"
   },
   {
    "duration": 147,
    "start_time": "2023-11-30T07:18:03.936Z"
   },
   {
    "duration": 17,
    "start_time": "2023-11-30T07:18:04.085Z"
   },
   {
    "duration": 27,
    "start_time": "2023-11-30T07:18:04.105Z"
   },
   {
    "duration": 15,
    "start_time": "2023-11-30T07:18:04.134Z"
   },
   {
    "duration": 22,
    "start_time": "2023-11-30T07:18:04.151Z"
   },
   {
    "duration": 34,
    "start_time": "2023-11-30T07:18:04.175Z"
   },
   {
    "duration": 18,
    "start_time": "2023-11-30T07:18:04.211Z"
   },
   {
    "duration": 36,
    "start_time": "2023-11-30T07:18:04.231Z"
   },
   {
    "duration": 19,
    "start_time": "2023-11-30T07:18:04.269Z"
   },
   {
    "duration": 27,
    "start_time": "2023-11-30T07:18:04.290Z"
   },
   {
    "duration": 24,
    "start_time": "2023-11-30T07:18:04.319Z"
   },
   {
    "duration": 26,
    "start_time": "2023-11-30T07:18:04.345Z"
   },
   {
    "duration": 23,
    "start_time": "2023-11-30T07:18:04.373Z"
   },
   {
    "duration": 13,
    "start_time": "2023-11-30T07:18:04.398Z"
   },
   {
    "duration": 26,
    "start_time": "2023-11-30T07:18:04.413Z"
   },
   {
    "duration": 8,
    "start_time": "2023-11-30T07:18:04.441Z"
   },
   {
    "duration": 48,
    "start_time": "2023-11-30T07:18:04.450Z"
   },
   {
    "duration": 8,
    "start_time": "2023-11-30T07:18:04.500Z"
   },
   {
    "duration": 28,
    "start_time": "2023-11-30T07:18:04.510Z"
   },
   {
    "duration": 1655,
    "start_time": "2023-11-30T07:18:04.540Z"
   },
   {
    "duration": 457,
    "start_time": "2023-11-30T07:18:06.199Z"
   },
   {
    "duration": 359,
    "start_time": "2023-11-30T07:18:06.659Z"
   },
   {
    "duration": 370,
    "start_time": "2023-11-30T07:18:07.020Z"
   },
   {
    "duration": 399,
    "start_time": "2023-11-30T07:18:07.392Z"
   },
   {
    "duration": 479,
    "start_time": "2023-11-30T07:18:07.793Z"
   },
   {
    "duration": 1538,
    "start_time": "2023-11-30T07:18:08.274Z"
   },
   {
    "duration": 414,
    "start_time": "2023-11-30T07:18:09.814Z"
   },
   {
    "duration": 9,
    "start_time": "2023-11-30T07:18:10.231Z"
   },
   {
    "duration": 23,
    "start_time": "2023-11-30T07:18:10.242Z"
   },
   {
    "duration": 15,
    "start_time": "2023-11-30T07:18:10.267Z"
   },
   {
    "duration": 157,
    "start_time": "2023-11-30T07:18:10.284Z"
   },
   {
    "duration": 25,
    "start_time": "2023-11-30T07:18:10.443Z"
   },
   {
    "duration": 13,
    "start_time": "2023-11-30T07:18:10.471Z"
   },
   {
    "duration": 15,
    "start_time": "2023-11-30T07:20:01.953Z"
   },
   {
    "duration": 12,
    "start_time": "2023-11-30T07:20:25.061Z"
   },
   {
    "duration": 12,
    "start_time": "2023-11-30T07:22:45.326Z"
   },
   {
    "duration": 4,
    "start_time": "2023-11-30T07:23:54.245Z"
   },
   {
    "duration": 2694,
    "start_time": "2023-11-30T07:23:54.251Z"
   },
   {
    "duration": 1326,
    "start_time": "2023-11-30T07:23:56.947Z"
   },
   {
    "duration": 289,
    "start_time": "2023-11-30T07:23:58.275Z"
   },
   {
    "duration": 14,
    "start_time": "2023-11-30T07:23:58.566Z"
   },
   {
    "duration": 57,
    "start_time": "2023-11-30T07:23:58.582Z"
   },
   {
    "duration": 7,
    "start_time": "2023-11-30T07:23:58.641Z"
   },
   {
    "duration": 158,
    "start_time": "2023-11-30T07:23:58.649Z"
   },
   {
    "duration": 23,
    "start_time": "2023-11-30T07:23:58.811Z"
   },
   {
    "duration": 15,
    "start_time": "2023-11-30T07:23:58.836Z"
   },
   {
    "duration": 4,
    "start_time": "2023-11-30T07:23:58.853Z"
   },
   {
    "duration": 25,
    "start_time": "2023-11-30T07:23:58.859Z"
   },
   {
    "duration": 25,
    "start_time": "2023-11-30T07:23:58.886Z"
   },
   {
    "duration": 8,
    "start_time": "2023-11-30T07:23:58.912Z"
   },
   {
    "duration": 20,
    "start_time": "2023-11-30T07:23:58.921Z"
   },
   {
    "duration": 19,
    "start_time": "2023-11-30T07:23:58.943Z"
   },
   {
    "duration": 21,
    "start_time": "2023-11-30T07:23:58.963Z"
   },
   {
    "duration": 22,
    "start_time": "2023-11-30T07:23:58.985Z"
   },
   {
    "duration": 10,
    "start_time": "2023-11-30T07:23:59.009Z"
   },
   {
    "duration": 17,
    "start_time": "2023-11-30T07:23:59.021Z"
   },
   {
    "duration": 20,
    "start_time": "2023-11-30T07:23:59.040Z"
   },
   {
    "duration": 17,
    "start_time": "2023-11-30T07:23:59.061Z"
   },
   {
    "duration": 14,
    "start_time": "2023-11-30T07:23:59.080Z"
   },
   {
    "duration": 4,
    "start_time": "2023-11-30T07:23:59.098Z"
   },
   {
    "duration": 28,
    "start_time": "2023-11-30T07:23:59.131Z"
   },
   {
    "duration": 8,
    "start_time": "2023-11-30T07:23:59.161Z"
   },
   {
    "duration": 8,
    "start_time": "2023-11-30T07:23:59.171Z"
   },
   {
    "duration": 1717,
    "start_time": "2023-11-30T07:23:59.181Z"
   },
   {
    "duration": 512,
    "start_time": "2023-11-30T07:24:00.900Z"
   },
   {
    "duration": 391,
    "start_time": "2023-11-30T07:24:01.414Z"
   },
   {
    "duration": 385,
    "start_time": "2023-11-30T07:24:01.807Z"
   },
   {
    "duration": 384,
    "start_time": "2023-11-30T07:24:02.194Z"
   },
   {
    "duration": 492,
    "start_time": "2023-11-30T07:24:02.580Z"
   },
   {
    "duration": 1598,
    "start_time": "2023-11-30T07:24:03.074Z"
   },
   {
    "duration": 390,
    "start_time": "2023-11-30T07:24:04.675Z"
   },
   {
    "duration": 9,
    "start_time": "2023-11-30T07:24:05.066Z"
   },
   {
    "duration": 43,
    "start_time": "2023-11-30T07:24:05.077Z"
   },
   {
    "duration": 15,
    "start_time": "2023-11-30T07:24:05.122Z"
   },
   {
    "duration": 23,
    "start_time": "2023-11-30T07:24:05.139Z"
   },
   {
    "duration": 130,
    "start_time": "2023-11-30T07:24:05.164Z"
   },
   {
    "duration": 22,
    "start_time": "2023-11-30T07:24:05.296Z"
   },
   {
    "duration": 19,
    "start_time": "2023-11-30T07:24:05.320Z"
   },
   {
    "duration": 3,
    "start_time": "2023-11-30T08:42:55.447Z"
   },
   {
    "duration": 2902,
    "start_time": "2023-11-30T08:42:55.453Z"
   },
   {
    "duration": 1370,
    "start_time": "2023-11-30T08:42:58.358Z"
   },
   {
    "duration": 98,
    "start_time": "2023-11-30T08:42:59.731Z"
   },
   {
    "duration": 16,
    "start_time": "2023-11-30T08:42:59.831Z"
   },
   {
    "duration": 45,
    "start_time": "2023-11-30T08:42:59.849Z"
   },
   {
    "duration": 36,
    "start_time": "2023-11-30T08:42:59.896Z"
   },
   {
    "duration": 145,
    "start_time": "2023-11-30T08:42:59.934Z"
   },
   {
    "duration": 16,
    "start_time": "2023-11-30T08:43:00.082Z"
   },
   {
    "duration": 43,
    "start_time": "2023-11-30T08:43:00.102Z"
   },
   {
    "duration": 6,
    "start_time": "2023-11-30T08:43:00.147Z"
   },
   {
    "duration": 36,
    "start_time": "2023-11-30T08:43:00.156Z"
   },
   {
    "duration": 38,
    "start_time": "2023-11-30T08:43:00.195Z"
   },
   {
    "duration": 19,
    "start_time": "2023-11-30T08:43:00.235Z"
   },
   {
    "duration": 22,
    "start_time": "2023-11-30T08:43:00.256Z"
   },
   {
    "duration": 28,
    "start_time": "2023-11-30T08:43:00.280Z"
   },
   {
    "duration": 36,
    "start_time": "2023-11-30T08:43:00.310Z"
   },
   {
    "duration": 29,
    "start_time": "2023-11-30T08:43:00.348Z"
   },
   {
    "duration": 43,
    "start_time": "2023-11-30T08:43:00.379Z"
   },
   {
    "duration": 37,
    "start_time": "2023-11-30T08:43:00.424Z"
   },
   {
    "duration": 45,
    "start_time": "2023-11-30T08:43:00.463Z"
   },
   {
    "duration": 47,
    "start_time": "2023-11-30T08:43:00.510Z"
   },
   {
    "duration": 36,
    "start_time": "2023-11-30T08:43:00.559Z"
   },
   {
    "duration": 12,
    "start_time": "2023-11-30T08:43:00.598Z"
   },
   {
    "duration": 46,
    "start_time": "2023-11-30T08:43:00.612Z"
   },
   {
    "duration": 14,
    "start_time": "2023-11-30T08:43:00.660Z"
   },
   {
    "duration": 13,
    "start_time": "2023-11-30T08:43:00.677Z"
   },
   {
    "duration": 1703,
    "start_time": "2023-11-30T08:43:00.696Z"
   },
   {
    "duration": 521,
    "start_time": "2023-11-30T08:43:02.401Z"
   },
   {
    "duration": 362,
    "start_time": "2023-11-30T08:43:02.924Z"
   },
   {
    "duration": 410,
    "start_time": "2023-11-30T08:43:03.288Z"
   },
   {
    "duration": 374,
    "start_time": "2023-11-30T08:43:03.700Z"
   },
   {
    "duration": 458,
    "start_time": "2023-11-30T08:43:04.077Z"
   },
   {
    "duration": 1615,
    "start_time": "2023-11-30T08:43:04.537Z"
   },
   {
    "duration": 380,
    "start_time": "2023-11-30T08:43:06.155Z"
   },
   {
    "duration": 11,
    "start_time": "2023-11-30T08:43:06.537Z"
   },
   {
    "duration": 18,
    "start_time": "2023-11-30T08:43:06.551Z"
   },
   {
    "duration": 18,
    "start_time": "2023-11-30T08:43:06.571Z"
   },
   {
    "duration": 46,
    "start_time": "2023-11-30T08:43:06.591Z"
   },
   {
    "duration": 156,
    "start_time": "2023-11-30T08:43:06.639Z"
   },
   {
    "duration": 14,
    "start_time": "2023-11-30T08:43:06.797Z"
   },
   {
    "duration": 26,
    "start_time": "2023-11-30T08:43:06.813Z"
   },
   {
    "duration": 16,
    "start_time": "2023-11-30T09:41:07.183Z"
   },
   {
    "duration": 106,
    "start_time": "2023-11-30T09:45:06.153Z"
   },
   {
    "duration": 14,
    "start_time": "2023-11-30T09:45:10.495Z"
   },
   {
    "duration": 164,
    "start_time": "2023-11-30T10:01:14.743Z"
   },
   {
    "duration": 18,
    "start_time": "2023-11-30T11:17:42.590Z"
   },
   {
    "duration": 7,
    "start_time": "2023-11-30T11:22:26.789Z"
   },
   {
    "duration": 8,
    "start_time": "2023-11-30T11:23:14.244Z"
   },
   {
    "duration": 12,
    "start_time": "2023-11-30T12:16:22.764Z"
   },
   {
    "duration": 4,
    "start_time": "2023-11-30T12:16:23.379Z"
   },
   {
    "duration": 1425,
    "start_time": "2023-11-30T12:16:23.951Z"
   },
   {
    "duration": 3,
    "start_time": "2023-11-30T12:16:50.156Z"
   },
   {
    "duration": 2401,
    "start_time": "2023-11-30T12:16:50.167Z"
   },
   {
    "duration": 1205,
    "start_time": "2023-11-30T12:16:52.570Z"
   },
   {
    "duration": 83,
    "start_time": "2023-11-30T12:16:53.777Z"
   },
   {
    "duration": 14,
    "start_time": "2023-11-30T12:16:53.862Z"
   },
   {
    "duration": 59,
    "start_time": "2023-11-30T12:16:53.878Z"
   },
   {
    "duration": 7,
    "start_time": "2023-11-30T12:16:53.939Z"
   },
   {
    "duration": 141,
    "start_time": "2023-11-30T12:16:53.948Z"
   },
   {
    "duration": 16,
    "start_time": "2023-11-30T12:16:54.090Z"
   },
   {
    "duration": 30,
    "start_time": "2023-11-30T12:16:54.107Z"
   },
   {
    "duration": 4,
    "start_time": "2023-11-30T12:16:54.139Z"
   },
   {
    "duration": 7,
    "start_time": "2023-11-30T12:16:54.145Z"
   },
   {
    "duration": 13,
    "start_time": "2023-11-30T12:16:54.154Z"
   },
   {
    "duration": 8,
    "start_time": "2023-11-30T12:16:54.168Z"
   },
   {
    "duration": 10,
    "start_time": "2023-11-30T12:16:54.178Z"
   },
   {
    "duration": 42,
    "start_time": "2023-11-30T12:16:54.190Z"
   },
   {
    "duration": 7,
    "start_time": "2023-11-30T12:16:54.234Z"
   },
   {
    "duration": 10,
    "start_time": "2023-11-30T12:16:54.243Z"
   },
   {
    "duration": 4,
    "start_time": "2023-11-30T12:16:54.255Z"
   },
   {
    "duration": 15,
    "start_time": "2023-11-30T12:16:54.260Z"
   },
   {
    "duration": 8,
    "start_time": "2023-11-30T12:16:54.277Z"
   },
   {
    "duration": 15,
    "start_time": "2023-11-30T12:16:54.286Z"
   },
   {
    "duration": 25,
    "start_time": "2023-11-30T12:16:54.330Z"
   },
   {
    "duration": 92,
    "start_time": "2023-11-30T12:16:54.357Z"
   },
   {
    "duration": 71,
    "start_time": "2023-11-30T12:16:54.450Z"
   },
   {
    "duration": 9,
    "start_time": "2023-11-30T12:16:54.523Z"
   },
   {
    "duration": 6,
    "start_time": "2023-11-30T12:16:54.533Z"
   },
   {
    "duration": 1541,
    "start_time": "2023-11-30T12:16:54.541Z"
   },
   {
    "duration": 419,
    "start_time": "2023-11-30T12:16:56.084Z"
   },
   {
    "duration": 308,
    "start_time": "2023-11-30T12:16:56.505Z"
   },
   {
    "duration": 322,
    "start_time": "2023-11-30T12:16:56.814Z"
   },
   {
    "duration": 334,
    "start_time": "2023-11-30T12:16:57.138Z"
   },
   {
    "duration": 374,
    "start_time": "2023-11-30T12:16:57.473Z"
   },
   {
    "duration": 1408,
    "start_time": "2023-11-30T12:16:57.848Z"
   },
   {
    "duration": 334,
    "start_time": "2023-11-30T12:16:59.258Z"
   },
   {
    "duration": 8,
    "start_time": "2023-11-30T12:16:59.593Z"
   },
   {
    "duration": 28,
    "start_time": "2023-11-30T12:16:59.603Z"
   },
   {
    "duration": 13,
    "start_time": "2023-11-30T12:16:59.633Z"
   },
   {
    "duration": 109,
    "start_time": "2023-11-30T12:16:59.648Z"
   },
   {
    "duration": 11,
    "start_time": "2023-11-30T12:16:59.759Z"
   },
   {
    "duration": 18,
    "start_time": "2023-11-30T12:16:59.772Z"
   },
   {
    "duration": 4,
    "start_time": "2023-11-30T12:17:36.027Z"
   },
   {
    "duration": 2416,
    "start_time": "2023-11-30T12:17:36.033Z"
   },
   {
    "duration": 1149,
    "start_time": "2023-11-30T12:17:38.451Z"
   },
   {
    "duration": 82,
    "start_time": "2023-11-30T12:17:39.602Z"
   },
   {
    "duration": 13,
    "start_time": "2023-11-30T12:17:39.686Z"
   },
   {
    "duration": 42,
    "start_time": "2023-11-30T12:17:39.700Z"
   },
   {
    "duration": 6,
    "start_time": "2023-11-30T12:17:39.744Z"
   },
   {
    "duration": 150,
    "start_time": "2023-11-30T12:17:39.751Z"
   },
   {
    "duration": 13,
    "start_time": "2023-11-30T12:17:39.903Z"
   },
   {
    "duration": 16,
    "start_time": "2023-11-30T12:17:39.918Z"
   },
   {
    "duration": 9,
    "start_time": "2023-11-30T12:17:39.935Z"
   },
   {
    "duration": 12,
    "start_time": "2023-11-30T12:17:39.945Z"
   },
   {
    "duration": 22,
    "start_time": "2023-11-30T12:17:39.959Z"
   },
   {
    "duration": 21,
    "start_time": "2023-11-30T12:17:39.984Z"
   },
   {
    "duration": 31,
    "start_time": "2023-11-30T12:17:40.007Z"
   },
   {
    "duration": 53,
    "start_time": "2023-11-30T12:17:40.040Z"
   },
   {
    "duration": 40,
    "start_time": "2023-11-30T12:17:40.095Z"
   },
   {
    "duration": 36,
    "start_time": "2023-11-30T12:17:40.137Z"
   },
   {
    "duration": 13,
    "start_time": "2023-11-30T12:17:40.174Z"
   },
   {
    "duration": 22,
    "start_time": "2023-11-30T12:17:40.189Z"
   },
   {
    "duration": 35,
    "start_time": "2023-11-30T12:17:40.213Z"
   },
   {
    "duration": 22,
    "start_time": "2023-11-30T12:17:40.250Z"
   },
   {
    "duration": 43,
    "start_time": "2023-11-30T12:17:40.274Z"
   },
   {
    "duration": 31,
    "start_time": "2023-11-30T12:17:40.319Z"
   },
   {
    "duration": 15,
    "start_time": "2023-11-30T12:17:40.352Z"
   },
   {
    "duration": 11,
    "start_time": "2023-11-30T12:17:40.369Z"
   },
   {
    "duration": 5,
    "start_time": "2023-11-30T12:17:40.382Z"
   },
   {
    "duration": 1590,
    "start_time": "2023-11-30T12:17:40.389Z"
   },
   {
    "duration": 388,
    "start_time": "2023-11-30T12:17:41.981Z"
   },
   {
    "duration": 328,
    "start_time": "2023-11-30T12:17:42.370Z"
   },
   {
    "duration": 330,
    "start_time": "2023-11-30T12:17:42.700Z"
   },
   {
    "duration": 336,
    "start_time": "2023-11-30T12:17:43.032Z"
   },
   {
    "duration": 414,
    "start_time": "2023-11-30T12:17:43.370Z"
   },
   {
    "duration": 1374,
    "start_time": "2023-11-30T12:17:43.786Z"
   },
   {
    "duration": 342,
    "start_time": "2023-11-30T12:17:45.162Z"
   },
   {
    "duration": 9,
    "start_time": "2023-11-30T12:17:45.506Z"
   },
   {
    "duration": 27,
    "start_time": "2023-11-30T12:17:45.516Z"
   },
   {
    "duration": 15,
    "start_time": "2023-11-30T12:17:45.545Z"
   },
   {
    "duration": 123,
    "start_time": "2023-11-30T12:17:45.562Z"
   },
   {
    "duration": 11,
    "start_time": "2023-11-30T12:17:45.686Z"
   },
   {
    "duration": 35,
    "start_time": "2023-11-30T12:17:45.701Z"
   },
   {
    "duration": 3,
    "start_time": "2023-11-30T12:35:37.674Z"
   },
   {
    "duration": 45,
    "start_time": "2023-11-30T16:28:54.184Z"
   },
   {
    "duration": 3,
    "start_time": "2023-11-30T16:29:14.863Z"
   },
   {
    "duration": 3412,
    "start_time": "2023-11-30T16:29:14.881Z"
   },
   {
    "duration": 1248,
    "start_time": "2023-11-30T16:29:18.295Z"
   },
   {
    "duration": 129,
    "start_time": "2023-11-30T16:29:19.545Z"
   },
   {
    "duration": 12,
    "start_time": "2023-11-30T16:29:19.677Z"
   },
   {
    "duration": 35,
    "start_time": "2023-11-30T16:29:19.691Z"
   },
   {
    "duration": 24,
    "start_time": "2023-11-30T16:29:19.728Z"
   },
   {
    "duration": 139,
    "start_time": "2023-11-30T16:29:19.754Z"
   },
   {
    "duration": 13,
    "start_time": "2023-11-30T16:29:19.895Z"
   },
   {
    "duration": 40,
    "start_time": "2023-11-30T16:29:19.910Z"
   },
   {
    "duration": 3,
    "start_time": "2023-11-30T16:29:19.952Z"
   },
   {
    "duration": 31,
    "start_time": "2023-11-30T16:29:19.956Z"
   },
   {
    "duration": 30,
    "start_time": "2023-11-30T16:29:19.988Z"
   },
   {
    "duration": 22,
    "start_time": "2023-11-30T16:29:20.020Z"
   },
   {
    "duration": 32,
    "start_time": "2023-11-30T16:29:20.044Z"
   },
   {
    "duration": 27,
    "start_time": "2023-11-30T16:29:20.078Z"
   },
   {
    "duration": 12,
    "start_time": "2023-11-30T16:29:20.107Z"
   },
   {
    "duration": 12,
    "start_time": "2023-11-30T16:29:20.120Z"
   },
   {
    "duration": 10,
    "start_time": "2023-11-30T16:29:20.133Z"
   },
   {
    "duration": 31,
    "start_time": "2023-11-30T16:29:20.145Z"
   },
   {
    "duration": 16,
    "start_time": "2023-11-30T16:29:20.178Z"
   },
   {
    "duration": 44,
    "start_time": "2023-11-30T16:29:20.195Z"
   },
   {
    "duration": 5,
    "start_time": "2023-11-30T16:29:20.240Z"
   },
   {
    "duration": 29,
    "start_time": "2023-11-30T16:29:20.247Z"
   },
   {
    "duration": 13,
    "start_time": "2023-11-30T16:29:20.278Z"
   },
   {
    "duration": 10,
    "start_time": "2023-11-30T16:29:20.293Z"
   },
   {
    "duration": 14,
    "start_time": "2023-11-30T16:29:20.305Z"
   },
   {
    "duration": 1576,
    "start_time": "2023-11-30T16:29:20.321Z"
   },
   {
    "duration": 375,
    "start_time": "2023-11-30T16:29:21.899Z"
   },
   {
    "duration": 306,
    "start_time": "2023-11-30T16:29:22.275Z"
   },
   {
    "duration": 322,
    "start_time": "2023-11-30T16:29:22.583Z"
   },
   {
    "duration": 334,
    "start_time": "2023-11-30T16:29:22.907Z"
   },
   {
    "duration": 337,
    "start_time": "2023-11-30T16:29:23.242Z"
   },
   {
    "duration": 1258,
    "start_time": "2023-11-30T16:29:23.581Z"
   },
   {
    "duration": 362,
    "start_time": "2023-11-30T16:29:24.840Z"
   },
   {
    "duration": 7,
    "start_time": "2023-11-30T16:29:25.204Z"
   },
   {
    "duration": 13,
    "start_time": "2023-11-30T16:29:25.212Z"
   },
   {
    "duration": 26,
    "start_time": "2023-11-30T16:29:25.226Z"
   },
   {
    "duration": 87,
    "start_time": "2023-11-30T16:29:25.253Z"
   },
   {
    "duration": 18,
    "start_time": "2023-11-30T16:29:25.341Z"
   },
   {
    "duration": 8,
    "start_time": "2023-11-30T16:29:25.361Z"
   },
   {
    "duration": 15,
    "start_time": "2023-11-30T16:29:47.329Z"
   },
   {
    "duration": 6,
    "start_time": "2023-11-30T16:29:56.199Z"
   },
   {
    "duration": 91,
    "start_time": "2023-11-30T16:30:21.858Z"
   },
   {
    "duration": 7,
    "start_time": "2023-11-30T16:30:29.446Z"
   },
   {
    "duration": 13,
    "start_time": "2023-11-30T16:34:10.947Z"
   },
   {
    "duration": 14,
    "start_time": "2023-11-30T16:34:26.286Z"
   },
   {
    "duration": 20,
    "start_time": "2023-11-30T16:34:45.827Z"
   },
   {
    "duration": 22,
    "start_time": "2023-11-30T16:35:39.622Z"
   },
   {
    "duration": 14,
    "start_time": "2023-11-30T16:35:59.092Z"
   },
   {
    "duration": 81,
    "start_time": "2023-11-30T17:09:14.114Z"
   },
   {
    "duration": 314,
    "start_time": "2023-11-30T17:50:47.742Z"
   },
   {
    "duration": 504,
    "start_time": "2023-11-30T17:51:00.757Z"
   },
   {
    "duration": 339,
    "start_time": "2023-11-30T17:51:10.180Z"
   },
   {
    "duration": 404,
    "start_time": "2023-11-30T17:51:17.021Z"
   },
   {
    "duration": 3,
    "start_time": "2023-11-30T18:02:53.750Z"
   },
   {
    "duration": 3,
    "start_time": "2023-11-30T18:03:07.141Z"
   },
   {
    "duration": 3436,
    "start_time": "2023-11-30T18:03:07.152Z"
   },
   {
    "duration": 1691,
    "start_time": "2023-11-30T18:03:10.591Z"
   },
   {
    "duration": 114,
    "start_time": "2023-11-30T18:03:12.283Z"
   },
   {
    "duration": 15,
    "start_time": "2023-11-30T18:03:12.399Z"
   },
   {
    "duration": 42,
    "start_time": "2023-11-30T18:03:12.416Z"
   },
   {
    "duration": 5,
    "start_time": "2023-11-30T18:03:12.460Z"
   },
   {
    "duration": 145,
    "start_time": "2023-11-30T18:03:12.467Z"
   },
   {
    "duration": 15,
    "start_time": "2023-11-30T18:03:12.614Z"
   },
   {
    "duration": 12,
    "start_time": "2023-11-30T18:03:12.631Z"
   },
   {
    "duration": 3,
    "start_time": "2023-11-30T18:03:12.646Z"
   },
   {
    "duration": 18,
    "start_time": "2023-11-30T18:03:12.651Z"
   },
   {
    "duration": 13,
    "start_time": "2023-11-30T18:03:12.670Z"
   },
   {
    "duration": 13,
    "start_time": "2023-11-30T18:03:12.684Z"
   },
   {
    "duration": 23,
    "start_time": "2023-11-30T18:03:12.699Z"
   },
   {
    "duration": 7,
    "start_time": "2023-11-30T18:03:12.723Z"
   },
   {
    "duration": 9,
    "start_time": "2023-11-30T18:03:12.732Z"
   },
   {
    "duration": 10,
    "start_time": "2023-11-30T18:03:12.743Z"
   },
   {
    "duration": 12,
    "start_time": "2023-11-30T18:03:12.755Z"
   },
   {
    "duration": 11,
    "start_time": "2023-11-30T18:03:12.769Z"
   },
   {
    "duration": 8,
    "start_time": "2023-11-30T18:03:12.781Z"
   },
   {
    "duration": 42,
    "start_time": "2023-11-30T18:03:12.790Z"
   },
   {
    "duration": 5,
    "start_time": "2023-11-30T18:03:12.833Z"
   },
   {
    "duration": 25,
    "start_time": "2023-11-30T18:03:12.839Z"
   },
   {
    "duration": 14,
    "start_time": "2023-11-30T18:03:12.866Z"
   },
   {
    "duration": 11,
    "start_time": "2023-11-30T18:03:12.881Z"
   },
   {
    "duration": 5,
    "start_time": "2023-11-30T18:03:12.894Z"
   },
   {
    "duration": 1639,
    "start_time": "2023-11-30T18:03:12.923Z"
   },
   {
    "duration": 16,
    "start_time": "2023-11-30T18:03:14.565Z"
   },
   {
    "duration": 455,
    "start_time": "2023-11-30T18:03:14.583Z"
   },
   {
    "duration": 337,
    "start_time": "2023-11-30T18:03:15.040Z"
   },
   {
    "duration": 354,
    "start_time": "2023-11-30T18:03:15.378Z"
   },
   {
    "duration": 344,
    "start_time": "2023-11-30T18:03:15.734Z"
   },
   {
    "duration": 377,
    "start_time": "2023-11-30T18:03:16.080Z"
   },
   {
    "duration": 1410,
    "start_time": "2023-11-30T18:03:16.459Z"
   },
   {
    "duration": 369,
    "start_time": "2023-11-30T18:03:17.871Z"
   },
   {
    "duration": 9,
    "start_time": "2023-11-30T18:03:18.242Z"
   },
   {
    "duration": 21,
    "start_time": "2023-11-30T18:03:18.252Z"
   },
   {
    "duration": 12,
    "start_time": "2023-11-30T18:03:18.274Z"
   },
   {
    "duration": 110,
    "start_time": "2023-11-30T18:03:18.287Z"
   },
   {
    "duration": 24,
    "start_time": "2023-11-30T18:03:18.399Z"
   },
   {
    "duration": 27,
    "start_time": "2023-11-30T18:03:18.425Z"
   },
   {
    "duration": 79,
    "start_time": "2023-11-30T18:43:34.638Z"
   },
   {
    "duration": 3,
    "start_time": "2023-12-01T13:35:21.764Z"
   },
   {
    "duration": 3764,
    "start_time": "2023-12-01T13:35:21.771Z"
   },
   {
    "duration": 1305,
    "start_time": "2023-12-01T13:35:25.537Z"
   },
   {
    "duration": 78,
    "start_time": "2023-12-01T13:35:26.844Z"
   },
   {
    "duration": 11,
    "start_time": "2023-12-01T13:35:26.924Z"
   },
   {
    "duration": 35,
    "start_time": "2023-12-01T13:35:26.936Z"
   },
   {
    "duration": 5,
    "start_time": "2023-12-01T13:35:26.972Z"
   },
   {
    "duration": 130,
    "start_time": "2023-12-01T13:35:26.978Z"
   },
   {
    "duration": 11,
    "start_time": "2023-12-01T13:35:27.110Z"
   },
   {
    "duration": 13,
    "start_time": "2023-12-01T13:35:27.122Z"
   },
   {
    "duration": 44,
    "start_time": "2023-12-01T13:35:27.137Z"
   },
   {
    "duration": 10,
    "start_time": "2023-12-01T13:35:27.183Z"
   },
   {
    "duration": 11,
    "start_time": "2023-12-01T13:35:27.194Z"
   },
   {
    "duration": 8,
    "start_time": "2023-12-01T13:35:27.206Z"
   },
   {
    "duration": 39,
    "start_time": "2023-12-01T13:35:27.215Z"
   },
   {
    "duration": 18,
    "start_time": "2023-12-01T13:35:27.256Z"
   },
   {
    "duration": 11,
    "start_time": "2023-12-01T13:35:27.275Z"
   },
   {
    "duration": 29,
    "start_time": "2023-12-01T13:35:27.287Z"
   },
   {
    "duration": 24,
    "start_time": "2023-12-01T13:35:27.317Z"
   },
   {
    "duration": 17,
    "start_time": "2023-12-01T13:35:27.342Z"
   },
   {
    "duration": 10,
    "start_time": "2023-12-01T13:35:27.360Z"
   },
   {
    "duration": 12,
    "start_time": "2023-12-01T13:35:27.371Z"
   },
   {
    "duration": 4,
    "start_time": "2023-12-01T13:35:27.384Z"
   },
   {
    "duration": 37,
    "start_time": "2023-12-01T13:35:27.390Z"
   },
   {
    "duration": 12,
    "start_time": "2023-12-01T13:35:27.428Z"
   },
   {
    "duration": 16,
    "start_time": "2023-12-01T13:35:27.441Z"
   },
   {
    "duration": 11,
    "start_time": "2023-12-01T13:35:27.459Z"
   },
   {
    "duration": 1443,
    "start_time": "2023-12-01T13:35:27.471Z"
   },
   {
    "duration": 13,
    "start_time": "2023-12-01T13:35:28.918Z"
   },
   {
    "duration": 353,
    "start_time": "2023-12-01T13:35:28.932Z"
   },
   {
    "duration": 268,
    "start_time": "2023-12-01T13:35:29.286Z"
   },
   {
    "duration": 286,
    "start_time": "2023-12-01T13:35:29.556Z"
   },
   {
    "duration": 295,
    "start_time": "2023-12-01T13:35:29.844Z"
   },
   {
    "duration": 311,
    "start_time": "2023-12-01T13:35:30.141Z"
   },
   {
    "duration": 1218,
    "start_time": "2023-12-01T13:35:30.454Z"
   },
   {
    "duration": 319,
    "start_time": "2023-12-01T13:35:31.674Z"
   },
   {
    "duration": 8,
    "start_time": "2023-12-01T13:35:31.995Z"
   },
   {
    "duration": 46,
    "start_time": "2023-12-01T13:35:32.004Z"
   },
   {
    "duration": 35,
    "start_time": "2023-12-01T13:35:32.052Z"
   },
   {
    "duration": 71,
    "start_time": "2023-12-01T13:35:32.089Z"
   },
   {
    "duration": 21,
    "start_time": "2023-12-01T13:35:32.161Z"
   },
   {
    "duration": 21,
    "start_time": "2023-12-01T13:35:32.183Z"
   },
   {
    "duration": 1240,
    "start_time": "2023-12-01T13:49:27.766Z"
   },
   {
    "duration": 3,
    "start_time": "2023-12-01T13:50:24.219Z"
   },
   {
    "duration": 21,
    "start_time": "2023-12-01T13:50:41.211Z"
   },
   {
    "duration": 3,
    "start_time": "2023-12-01T13:50:59.164Z"
   },
   {
    "duration": 2794,
    "start_time": "2023-12-01T13:50:59.170Z"
   },
   {
    "duration": 1105,
    "start_time": "2023-12-01T13:51:01.966Z"
   },
   {
    "duration": 129,
    "start_time": "2023-12-01T13:51:03.072Z"
   },
   {
    "duration": 226,
    "start_time": "2023-12-01T13:51:03.202Z"
   },
   {
    "duration": 138,
    "start_time": "2023-12-01T13:51:03.430Z"
   },
   {
    "duration": 17,
    "start_time": "2023-12-01T13:51:03.569Z"
   },
   {
    "duration": 150,
    "start_time": "2023-12-01T13:51:03.587Z"
   },
   {
    "duration": 11,
    "start_time": "2023-12-01T13:51:03.738Z"
   },
   {
    "duration": 27,
    "start_time": "2023-12-01T13:51:03.750Z"
   },
   {
    "duration": 10,
    "start_time": "2023-12-01T13:51:03.778Z"
   },
   {
    "duration": 21,
    "start_time": "2023-12-01T13:51:03.789Z"
   },
   {
    "duration": 37,
    "start_time": "2023-12-01T13:51:03.812Z"
   },
   {
    "duration": 22,
    "start_time": "2023-12-01T13:51:03.850Z"
   },
   {
    "duration": 24,
    "start_time": "2023-12-01T13:51:03.874Z"
   },
   {
    "duration": 61,
    "start_time": "2023-12-01T13:51:03.899Z"
   },
   {
    "duration": 14,
    "start_time": "2023-12-01T13:51:03.961Z"
   },
   {
    "duration": 24,
    "start_time": "2023-12-01T13:51:03.976Z"
   },
   {
    "duration": 21,
    "start_time": "2023-12-01T13:51:04.002Z"
   },
   {
    "duration": 39,
    "start_time": "2023-12-01T13:51:04.025Z"
   },
   {
    "duration": 31,
    "start_time": "2023-12-01T13:51:04.066Z"
   },
   {
    "duration": 16,
    "start_time": "2023-12-01T13:51:04.098Z"
   },
   {
    "duration": 20,
    "start_time": "2023-12-01T13:51:04.115Z"
   },
   {
    "duration": 18,
    "start_time": "2023-12-01T13:51:04.136Z"
   },
   {
    "duration": 51,
    "start_time": "2023-12-01T13:51:04.155Z"
   },
   {
    "duration": 15,
    "start_time": "2023-12-01T13:51:04.207Z"
   },
   {
    "duration": 31,
    "start_time": "2023-12-01T13:51:04.223Z"
   },
   {
    "duration": 38,
    "start_time": "2023-12-01T13:51:04.255Z"
   },
   {
    "duration": 1418,
    "start_time": "2023-12-01T13:51:04.294Z"
   },
   {
    "duration": 13,
    "start_time": "2023-12-01T13:51:05.713Z"
   },
   {
    "duration": 338,
    "start_time": "2023-12-01T13:51:05.727Z"
   },
   {
    "duration": 275,
    "start_time": "2023-12-01T13:51:06.067Z"
   },
   {
    "duration": 280,
    "start_time": "2023-12-01T13:51:06.343Z"
   },
   {
    "duration": 282,
    "start_time": "2023-12-01T13:51:06.624Z"
   },
   {
    "duration": 392,
    "start_time": "2023-12-01T13:51:06.908Z"
   },
   {
    "duration": 1371,
    "start_time": "2023-12-01T13:51:07.302Z"
   },
   {
    "duration": 341,
    "start_time": "2023-12-01T13:51:08.674Z"
   },
   {
    "duration": 7,
    "start_time": "2023-12-01T13:51:09.017Z"
   },
   {
    "duration": 31,
    "start_time": "2023-12-01T13:51:09.026Z"
   },
   {
    "duration": 13,
    "start_time": "2023-12-01T13:51:09.059Z"
   },
   {
    "duration": 78,
    "start_time": "2023-12-01T13:51:09.073Z"
   },
   {
    "duration": 45,
    "start_time": "2023-12-01T13:51:09.155Z"
   },
   {
    "duration": 9,
    "start_time": "2023-12-01T13:51:09.202Z"
   },
   {
    "duration": 10,
    "start_time": "2023-12-01T13:52:17.460Z"
   },
   {
    "duration": 7,
    "start_time": "2023-12-01T13:52:34.833Z"
   },
   {
    "duration": 11,
    "start_time": "2023-12-01T13:52:36.439Z"
   },
   {
    "duration": 103,
    "start_time": "2023-12-01T13:52:48.054Z"
   },
   {
    "duration": 4,
    "start_time": "2023-12-01T13:52:56.665Z"
   },
   {
    "duration": 2710,
    "start_time": "2023-12-01T13:52:56.672Z"
   },
   {
    "duration": 1089,
    "start_time": "2023-12-01T13:52:59.385Z"
   },
   {
    "duration": 67,
    "start_time": "2023-12-01T13:53:00.476Z"
   },
   {
    "duration": 9,
    "start_time": "2023-12-01T13:53:00.545Z"
   },
   {
    "duration": 87,
    "start_time": "2023-12-01T13:53:00.557Z"
   },
   {
    "duration": 12,
    "start_time": "2023-12-01T13:53:00.646Z"
   },
   {
    "duration": 139,
    "start_time": "2023-12-01T13:53:00.660Z"
   },
   {
    "duration": 11,
    "start_time": "2023-12-01T13:53:00.801Z"
   },
   {
    "duration": 24,
    "start_time": "2023-12-01T13:53:00.813Z"
   },
   {
    "duration": 16,
    "start_time": "2023-12-01T13:53:00.839Z"
   },
   {
    "duration": 31,
    "start_time": "2023-12-01T13:53:00.857Z"
   },
   {
    "duration": 43,
    "start_time": "2023-12-01T13:53:00.889Z"
   },
   {
    "duration": 40,
    "start_time": "2023-12-01T13:53:00.934Z"
   },
   {
    "duration": 43,
    "start_time": "2023-12-01T13:53:00.976Z"
   },
   {
    "duration": 61,
    "start_time": "2023-12-01T13:53:01.020Z"
   },
   {
    "duration": 26,
    "start_time": "2023-12-01T13:53:01.082Z"
   },
   {
    "duration": 46,
    "start_time": "2023-12-01T13:53:01.109Z"
   },
   {
    "duration": 30,
    "start_time": "2023-12-01T13:53:01.156Z"
   },
   {
    "duration": 29,
    "start_time": "2023-12-01T13:53:01.187Z"
   },
   {
    "duration": 31,
    "start_time": "2023-12-01T13:53:01.218Z"
   },
   {
    "duration": 93,
    "start_time": "2023-12-01T13:53:01.250Z"
   },
   {
    "duration": 47,
    "start_time": "2023-12-01T13:53:01.344Z"
   },
   {
    "duration": 54,
    "start_time": "2023-12-01T13:53:01.393Z"
   },
   {
    "duration": 46,
    "start_time": "2023-12-01T13:53:01.449Z"
   },
   {
    "duration": 55,
    "start_time": "2023-12-01T13:53:01.497Z"
   },
   {
    "duration": 55,
    "start_time": "2023-12-01T13:53:01.554Z"
   },
   {
    "duration": 98,
    "start_time": "2023-12-01T13:53:01.610Z"
   },
   {
    "duration": 181,
    "start_time": "2023-12-01T13:53:01.709Z"
   },
   {
    "duration": 1616,
    "start_time": "2023-12-01T13:53:01.891Z"
   },
   {
    "duration": 13,
    "start_time": "2023-12-01T13:53:03.508Z"
   },
   {
    "duration": 376,
    "start_time": "2023-12-01T13:53:03.523Z"
   },
   {
    "duration": 272,
    "start_time": "2023-12-01T13:53:03.901Z"
   },
   {
    "duration": 277,
    "start_time": "2023-12-01T13:53:04.174Z"
   },
   {
    "duration": 299,
    "start_time": "2023-12-01T13:53:04.453Z"
   },
   {
    "duration": 472,
    "start_time": "2023-12-01T13:53:04.754Z"
   },
   {
    "duration": 1665,
    "start_time": "2023-12-01T13:53:05.228Z"
   },
   {
    "duration": 336,
    "start_time": "2023-12-01T13:53:06.894Z"
   },
   {
    "duration": 8,
    "start_time": "2023-12-01T13:53:07.231Z"
   },
   {
    "duration": 60,
    "start_time": "2023-12-01T13:53:07.240Z"
   },
   {
    "duration": 12,
    "start_time": "2023-12-01T13:53:07.302Z"
   },
   {
    "duration": 11,
    "start_time": "2023-12-01T13:53:07.318Z"
   },
   {
    "duration": 103,
    "start_time": "2023-12-01T13:53:07.330Z"
   },
   {
    "duration": 26,
    "start_time": "2023-12-01T13:53:07.435Z"
   },
   {
    "duration": 3,
    "start_time": "2023-12-01T13:53:20.327Z"
   },
   {
    "duration": 2828,
    "start_time": "2023-12-01T13:53:20.334Z"
   },
   {
    "duration": 1111,
    "start_time": "2023-12-01T13:53:23.164Z"
   },
   {
    "duration": 76,
    "start_time": "2023-12-01T13:53:24.276Z"
   },
   {
    "duration": 11,
    "start_time": "2023-12-01T13:53:24.354Z"
   },
   {
    "duration": 52,
    "start_time": "2023-12-01T13:53:24.367Z"
   },
   {
    "duration": 5,
    "start_time": "2023-12-01T13:53:24.421Z"
   },
   {
    "duration": 142,
    "start_time": "2023-12-01T13:53:24.428Z"
   },
   {
    "duration": 12,
    "start_time": "2023-12-01T13:53:24.571Z"
   },
   {
    "duration": 21,
    "start_time": "2023-12-01T13:53:24.584Z"
   },
   {
    "duration": 19,
    "start_time": "2023-12-01T13:53:24.607Z"
   },
   {
    "duration": 14,
    "start_time": "2023-12-01T13:53:24.628Z"
   },
   {
    "duration": 19,
    "start_time": "2023-12-01T13:53:24.644Z"
   },
   {
    "duration": 19,
    "start_time": "2023-12-01T13:53:24.665Z"
   },
   {
    "duration": 14,
    "start_time": "2023-12-01T13:53:24.687Z"
   },
   {
    "duration": 24,
    "start_time": "2023-12-01T13:53:24.703Z"
   },
   {
    "duration": 24,
    "start_time": "2023-12-01T13:53:24.729Z"
   },
   {
    "duration": 11,
    "start_time": "2023-12-01T13:53:24.755Z"
   },
   {
    "duration": 32,
    "start_time": "2023-12-01T13:53:24.767Z"
   },
   {
    "duration": 19,
    "start_time": "2023-12-01T13:53:24.800Z"
   },
   {
    "duration": 36,
    "start_time": "2023-12-01T13:53:24.820Z"
   },
   {
    "duration": 29,
    "start_time": "2023-12-01T13:53:24.857Z"
   },
   {
    "duration": 23,
    "start_time": "2023-12-01T13:53:24.888Z"
   },
   {
    "duration": 27,
    "start_time": "2023-12-01T13:53:24.912Z"
   },
   {
    "duration": 15,
    "start_time": "2023-12-01T13:53:24.940Z"
   },
   {
    "duration": 47,
    "start_time": "2023-12-01T13:53:24.957Z"
   },
   {
    "duration": 25,
    "start_time": "2023-12-01T13:53:25.005Z"
   },
   {
    "duration": 18,
    "start_time": "2023-12-01T13:53:25.032Z"
   },
   {
    "duration": 23,
    "start_time": "2023-12-01T13:53:25.051Z"
   },
   {
    "duration": 1437,
    "start_time": "2023-12-01T13:53:25.075Z"
   },
   {
    "duration": 13,
    "start_time": "2023-12-01T13:53:26.513Z"
   },
   {
    "duration": 362,
    "start_time": "2023-12-01T13:53:26.528Z"
   },
   {
    "duration": 287,
    "start_time": "2023-12-01T13:53:26.892Z"
   },
   {
    "duration": 288,
    "start_time": "2023-12-01T13:53:27.181Z"
   },
   {
    "duration": 300,
    "start_time": "2023-12-01T13:53:27.471Z"
   },
   {
    "duration": 476,
    "start_time": "2023-12-01T13:53:27.772Z"
   },
   {
    "duration": 1654,
    "start_time": "2023-12-01T13:53:28.250Z"
   },
   {
    "duration": 354,
    "start_time": "2023-12-01T13:53:29.906Z"
   },
   {
    "duration": 12,
    "start_time": "2023-12-01T13:53:30.261Z"
   },
   {
    "duration": 85,
    "start_time": "2023-12-01T13:53:30.275Z"
   },
   {
    "duration": 27,
    "start_time": "2023-12-01T13:53:30.361Z"
   },
   {
    "duration": 12,
    "start_time": "2023-12-01T13:53:30.391Z"
   },
   {
    "duration": 127,
    "start_time": "2023-12-01T13:53:30.404Z"
   },
   {
    "duration": 31,
    "start_time": "2023-12-01T13:53:30.532Z"
   },
   {
    "duration": 4,
    "start_time": "2023-12-01T13:55:04.714Z"
   },
   {
    "duration": 3000,
    "start_time": "2023-12-01T13:55:04.720Z"
   },
   {
    "duration": 1148,
    "start_time": "2023-12-01T13:55:07.722Z"
   },
   {
    "duration": 63,
    "start_time": "2023-12-01T13:55:08.872Z"
   },
   {
    "duration": 10,
    "start_time": "2023-12-01T13:55:08.937Z"
   },
   {
    "duration": 42,
    "start_time": "2023-12-01T13:55:08.948Z"
   },
   {
    "duration": 6,
    "start_time": "2023-12-01T13:55:08.991Z"
   },
   {
    "duration": 136,
    "start_time": "2023-12-01T13:55:08.999Z"
   },
   {
    "duration": 13,
    "start_time": "2023-12-01T13:55:09.138Z"
   },
   {
    "duration": 28,
    "start_time": "2023-12-01T13:55:09.153Z"
   },
   {
    "duration": 8,
    "start_time": "2023-12-01T13:55:09.183Z"
   },
   {
    "duration": 10,
    "start_time": "2023-12-01T13:55:09.192Z"
   },
   {
    "duration": 12,
    "start_time": "2023-12-01T13:55:09.203Z"
   },
   {
    "duration": 7,
    "start_time": "2023-12-01T13:55:09.216Z"
   },
   {
    "duration": 4,
    "start_time": "2023-12-01T13:55:09.224Z"
   },
   {
    "duration": 9,
    "start_time": "2023-12-01T13:55:09.229Z"
   },
   {
    "duration": 6,
    "start_time": "2023-12-01T13:55:09.239Z"
   },
   {
    "duration": 26,
    "start_time": "2023-12-01T13:55:09.246Z"
   },
   {
    "duration": 15,
    "start_time": "2023-12-01T13:55:09.274Z"
   },
   {
    "duration": 4,
    "start_time": "2023-12-01T13:55:09.291Z"
   },
   {
    "duration": 14,
    "start_time": "2023-12-01T13:55:09.297Z"
   },
   {
    "duration": 11,
    "start_time": "2023-12-01T13:55:09.313Z"
   },
   {
    "duration": 45,
    "start_time": "2023-12-01T13:55:09.326Z"
   },
   {
    "duration": 5,
    "start_time": "2023-12-01T13:55:09.376Z"
   },
   {
    "duration": 28,
    "start_time": "2023-12-01T13:55:09.383Z"
   },
   {
    "duration": 13,
    "start_time": "2023-12-01T13:55:09.413Z"
   },
   {
    "duration": 7,
    "start_time": "2023-12-01T13:55:09.427Z"
   },
   {
    "duration": 35,
    "start_time": "2023-12-01T13:55:09.435Z"
   },
   {
    "duration": 1442,
    "start_time": "2023-12-01T13:55:09.471Z"
   },
   {
    "duration": 15,
    "start_time": "2023-12-01T13:55:10.915Z"
   },
   {
    "duration": 395,
    "start_time": "2023-12-01T13:55:10.931Z"
   },
   {
    "duration": 277,
    "start_time": "2023-12-01T13:55:11.327Z"
   },
   {
    "duration": 365,
    "start_time": "2023-12-01T13:55:11.605Z"
   },
   {
    "duration": 341,
    "start_time": "2023-12-01T13:55:11.971Z"
   },
   {
    "duration": 513,
    "start_time": "2023-12-01T13:55:12.314Z"
   },
   {
    "duration": 1717,
    "start_time": "2023-12-01T13:55:12.828Z"
   },
   {
    "duration": 382,
    "start_time": "2023-12-01T13:55:14.546Z"
   },
   {
    "duration": 7,
    "start_time": "2023-12-01T13:55:14.930Z"
   },
   {
    "duration": 37,
    "start_time": "2023-12-01T13:55:14.938Z"
   },
   {
    "duration": 12,
    "start_time": "2023-12-01T13:55:14.977Z"
   },
   {
    "duration": 95,
    "start_time": "2023-12-01T13:55:14.991Z"
   },
   {
    "duration": 53,
    "start_time": "2023-12-01T13:55:15.087Z"
   },
   {
    "duration": 26,
    "start_time": "2023-12-01T13:55:15.142Z"
   },
   {
    "duration": 105,
    "start_time": "2023-12-01T13:56:47.434Z"
   },
   {
    "duration": 10,
    "start_time": "2023-12-01T13:56:55.531Z"
   },
   {
    "duration": 472,
    "start_time": "2023-12-01T13:57:08.216Z"
   },
   {
    "duration": 18,
    "start_time": "2023-12-01T13:58:12.645Z"
   },
   {
    "duration": 489,
    "start_time": "2023-12-01T13:58:32.664Z"
   },
   {
    "duration": 1692,
    "start_time": "2023-12-01T13:58:37.902Z"
   },
   {
    "duration": 12,
    "start_time": "2023-12-01T13:59:19.299Z"
   },
   {
    "duration": 9,
    "start_time": "2023-12-01T13:59:30.847Z"
   },
   {
    "duration": 13,
    "start_time": "2023-12-01T13:59:47.009Z"
   },
   {
    "duration": 14,
    "start_time": "2023-12-01T14:01:10.528Z"
   },
   {
    "duration": 18,
    "start_time": "2023-12-01T14:01:21.457Z"
   },
   {
    "duration": 15,
    "start_time": "2023-12-01T14:01:43.730Z"
   },
   {
    "duration": 14,
    "start_time": "2023-12-01T14:01:59.487Z"
   },
   {
    "duration": 17,
    "start_time": "2023-12-01T14:02:16.437Z"
   },
   {
    "duration": 18,
    "start_time": "2023-12-01T14:02:38.419Z"
   },
   {
    "duration": 22,
    "start_time": "2023-12-01T14:02:43.587Z"
   },
   {
    "duration": 17473,
    "start_time": "2023-12-01T14:03:13.588Z"
   },
   {
    "duration": 4335,
    "start_time": "2023-12-01T14:04:13.513Z"
   },
   {
    "duration": 391,
    "start_time": "2023-12-01T14:04:32.699Z"
   },
   {
    "duration": 16,
    "start_time": "2023-12-01T14:05:14.699Z"
   },
   {
    "duration": 9,
    "start_time": "2023-12-01T14:05:54.912Z"
   },
   {
    "duration": 387,
    "start_time": "2023-12-01T14:06:07.069Z"
   },
   {
    "duration": 1519,
    "start_time": "2023-12-01T14:06:36.434Z"
   },
   {
    "duration": 16,
    "start_time": "2023-12-01T14:06:52.849Z"
   },
   {
    "duration": 350,
    "start_time": "2023-12-01T14:07:43.201Z"
   },
   {
    "duration": 90,
    "start_time": "2023-12-01T14:07:59.406Z"
   },
   {
    "duration": 3,
    "start_time": "2023-12-01T14:35:54.439Z"
   },
   {
    "duration": 2742,
    "start_time": "2023-12-01T14:35:54.445Z"
   },
   {
    "duration": 1079,
    "start_time": "2023-12-01T14:35:57.189Z"
   },
   {
    "duration": 80,
    "start_time": "2023-12-01T14:35:58.270Z"
   },
   {
    "duration": 11,
    "start_time": "2023-12-01T14:35:58.353Z"
   },
   {
    "duration": 40,
    "start_time": "2023-12-01T14:35:58.366Z"
   },
   {
    "duration": 4,
    "start_time": "2023-12-01T14:35:58.408Z"
   },
   {
    "duration": 133,
    "start_time": "2023-12-01T14:35:58.413Z"
   },
   {
    "duration": 11,
    "start_time": "2023-12-01T14:35:58.547Z"
   },
   {
    "duration": 17,
    "start_time": "2023-12-01T14:35:58.560Z"
   },
   {
    "duration": 5,
    "start_time": "2023-12-01T14:35:58.579Z"
   },
   {
    "duration": 20,
    "start_time": "2023-12-01T14:35:58.585Z"
   },
   {
    "duration": 36,
    "start_time": "2023-12-01T14:35:58.606Z"
   },
   {
    "duration": 23,
    "start_time": "2023-12-01T14:35:58.644Z"
   },
   {
    "duration": 7,
    "start_time": "2023-12-01T14:35:58.669Z"
   },
   {
    "duration": 20,
    "start_time": "2023-12-01T14:35:58.678Z"
   },
   {
    "duration": 6,
    "start_time": "2023-12-01T14:35:58.700Z"
   },
   {
    "duration": 9,
    "start_time": "2023-12-01T14:35:58.708Z"
   },
   {
    "duration": 24,
    "start_time": "2023-12-01T14:35:58.719Z"
   },
   {
    "duration": 31,
    "start_time": "2023-12-01T14:35:58.744Z"
   },
   {
    "duration": 15,
    "start_time": "2023-12-01T14:35:58.776Z"
   },
   {
    "duration": 15,
    "start_time": "2023-12-01T14:35:58.792Z"
   },
   {
    "duration": 14,
    "start_time": "2023-12-01T14:35:58.808Z"
   },
   {
    "duration": 9,
    "start_time": "2023-12-01T14:35:58.823Z"
   },
   {
    "duration": 38,
    "start_time": "2023-12-01T14:35:58.833Z"
   },
   {
    "duration": 11,
    "start_time": "2023-12-01T14:35:58.873Z"
   },
   {
    "duration": 5,
    "start_time": "2023-12-01T14:35:58.885Z"
   },
   {
    "duration": 12,
    "start_time": "2023-12-01T14:35:58.892Z"
   },
   {
    "duration": 1414,
    "start_time": "2023-12-01T14:35:58.907Z"
   },
   {
    "duration": 14,
    "start_time": "2023-12-01T14:36:00.323Z"
   },
   {
    "duration": 498,
    "start_time": "2023-12-01T14:36:00.370Z"
   },
   {
    "duration": 283,
    "start_time": "2023-12-01T14:36:00.870Z"
   },
   {
    "duration": 295,
    "start_time": "2023-12-01T14:36:01.154Z"
   },
   {
    "duration": 303,
    "start_time": "2023-12-01T14:36:01.450Z"
   },
   {
    "duration": 414,
    "start_time": "2023-12-01T14:36:01.755Z"
   },
   {
    "duration": 1542,
    "start_time": "2023-12-01T14:36:02.171Z"
   },
   {
    "duration": 375,
    "start_time": "2023-12-01T14:36:03.714Z"
   },
   {
    "duration": 8,
    "start_time": "2023-12-01T14:36:04.090Z"
   },
   {
    "duration": 24,
    "start_time": "2023-12-01T14:36:04.099Z"
   },
   {
    "duration": 11,
    "start_time": "2023-12-01T14:36:04.125Z"
   },
   {
    "duration": 88,
    "start_time": "2023-12-01T14:36:04.138Z"
   },
   {
    "duration": 26,
    "start_time": "2023-12-01T14:36:04.228Z"
   },
   {
    "duration": 26,
    "start_time": "2023-12-01T14:36:04.256Z"
   },
   {
    "duration": 3,
    "start_time": "2023-12-01T20:08:37.813Z"
   },
   {
    "duration": 3622,
    "start_time": "2023-12-01T20:08:37.864Z"
   },
   {
    "duration": 1213,
    "start_time": "2023-12-01T20:08:41.488Z"
   },
   {
    "duration": 136,
    "start_time": "2023-12-01T20:08:42.703Z"
   },
   {
    "duration": 13,
    "start_time": "2023-12-01T20:08:42.842Z"
   },
   {
    "duration": 40,
    "start_time": "2023-12-01T20:08:42.857Z"
   },
   {
    "duration": 6,
    "start_time": "2023-12-01T20:08:42.899Z"
   },
   {
    "duration": 175,
    "start_time": "2023-12-01T20:08:42.906Z"
   },
   {
    "duration": 18,
    "start_time": "2023-12-01T20:08:43.083Z"
   },
   {
    "duration": 18,
    "start_time": "2023-12-01T20:08:43.103Z"
   },
   {
    "duration": 10,
    "start_time": "2023-12-01T20:08:43.124Z"
   },
   {
    "duration": 27,
    "start_time": "2023-12-01T20:08:43.136Z"
   },
   {
    "duration": 34,
    "start_time": "2023-12-01T20:08:43.165Z"
   },
   {
    "duration": 7,
    "start_time": "2023-12-01T20:08:43.201Z"
   },
   {
    "duration": 17,
    "start_time": "2023-12-01T20:08:43.209Z"
   },
   {
    "duration": 19,
    "start_time": "2023-12-01T20:08:43.228Z"
   },
   {
    "duration": 23,
    "start_time": "2023-12-01T20:08:43.249Z"
   },
   {
    "duration": 17,
    "start_time": "2023-12-01T20:08:43.274Z"
   },
   {
    "duration": 29,
    "start_time": "2023-12-01T20:08:43.293Z"
   },
   {
    "duration": 11,
    "start_time": "2023-12-01T20:08:43.323Z"
   },
   {
    "duration": 46,
    "start_time": "2023-12-01T20:08:43.336Z"
   },
   {
    "duration": 15,
    "start_time": "2023-12-01T20:08:43.384Z"
   },
   {
    "duration": 30,
    "start_time": "2023-12-01T20:08:43.402Z"
   },
   {
    "duration": 4,
    "start_time": "2023-12-01T20:08:43.434Z"
   },
   {
    "duration": 40,
    "start_time": "2023-12-01T20:08:43.440Z"
   },
   {
    "duration": 14,
    "start_time": "2023-12-01T20:08:43.481Z"
   },
   {
    "duration": 14,
    "start_time": "2023-12-01T20:08:43.496Z"
   },
   {
    "duration": 9,
    "start_time": "2023-12-01T20:08:43.512Z"
   },
   {
    "duration": 1606,
    "start_time": "2023-12-01T20:08:43.524Z"
   },
   {
    "duration": 15,
    "start_time": "2023-12-01T20:08:45.132Z"
   },
   {
    "duration": 474,
    "start_time": "2023-12-01T20:08:45.149Z"
   },
   {
    "duration": 385,
    "start_time": "2023-12-01T20:08:45.625Z"
   },
   {
    "duration": 375,
    "start_time": "2023-12-01T20:08:46.011Z"
   },
   {
    "duration": 373,
    "start_time": "2023-12-01T20:08:46.388Z"
   },
   {
    "duration": 535,
    "start_time": "2023-12-01T20:08:46.764Z"
   },
   {
    "duration": 1772,
    "start_time": "2023-12-01T20:08:47.301Z"
   },
   {
    "duration": 400,
    "start_time": "2023-12-01T20:08:49.074Z"
   },
   {
    "duration": 9,
    "start_time": "2023-12-01T20:08:49.476Z"
   },
   {
    "duration": 28,
    "start_time": "2023-12-01T20:08:49.487Z"
   },
   {
    "duration": 22,
    "start_time": "2023-12-01T20:08:49.516Z"
   },
   {
    "duration": 115,
    "start_time": "2023-12-01T20:08:49.540Z"
   },
   {
    "duration": 21,
    "start_time": "2023-12-01T20:08:49.656Z"
   },
   {
    "duration": 16,
    "start_time": "2023-12-01T20:08:49.679Z"
   },
   {
    "duration": 244,
    "start_time": "2023-12-01T20:32:15.029Z"
   },
   {
    "duration": 241,
    "start_time": "2023-12-01T20:32:21.873Z"
   },
   {
    "duration": 4,
    "start_time": "2023-12-01T20:33:41.403Z"
   },
   {
    "duration": 79,
    "start_time": "2023-12-01T20:33:48.014Z"
   },
   {
    "duration": 77,
    "start_time": "2023-12-01T20:34:09.047Z"
   },
   {
    "duration": 251,
    "start_time": "2023-12-01T20:34:19.695Z"
   },
   {
    "duration": 262,
    "start_time": "2023-12-01T20:34:42.291Z"
   },
   {
    "duration": 268,
    "start_time": "2023-12-01T20:36:03.272Z"
   },
   {
    "duration": 83,
    "start_time": "2023-12-01T20:49:33.045Z"
   }
  ],
  "kernelspec": {
   "display_name": "Python 3 (ipykernel)",
   "language": "python",
   "name": "python3"
  },
  "language_info": {
   "codemirror_mode": {
    "name": "ipython",
    "version": 3
   },
   "file_extension": ".py",
   "mimetype": "text/x-python",
   "name": "python",
   "nbconvert_exporter": "python",
   "pygments_lexer": "ipython3",
   "version": "3.9.7"
  },
  "toc": {
   "base_numbering": 1,
   "nav_menu": {},
   "number_sections": true,
   "sideBar": true,
   "skip_h1_title": true,
   "title_cell": "Table of Contents",
   "title_sidebar": "Contents",
   "toc_cell": false,
   "toc_position": {},
   "toc_section_display": true,
   "toc_window_display": false
  }
 },
 "nbformat": 4,
 "nbformat_minor": 2
}
